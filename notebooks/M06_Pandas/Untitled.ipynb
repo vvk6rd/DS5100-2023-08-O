{
 "cells": [
  {
   "cell_type": "markdown",
   "id": "e16c0fdd-ecc8-43f3-8036-3a3a6da2afe2",
   "metadata": {},
   "source": [
    "# Getting Started with pandas\n",
    "\n",
    "## Data Loading, Storage, and File Formats\n",
    "\n",
    "## Chapter 5. Getting Started with pandas\n",
    "\n",
    "pandas will be a major tool of interest throughout much of the rest of the book. It contains data structures and data manipulation tools designed to make data cleaning and analysis fast and easy in Python. pandas is often used in tandem with numerical computing tools like NumPy and SciPy, analytical libraries like statsmodels and scikit-learn, and data visualization libraries like matplotlib. pandas adopts significant parts of NumPy’s idiomatic style of array-based computing, especially array-based functions and a preference for data processing without for loops.\n",
    "\n",
    "While pandas adopts many coding idioms from NumPy, the biggest difference is that pandas is designed for working with tabular or heterogeneous data. NumPy, by contrast, is best suited for working with homogeneous numerical array data.\n",
    "\n",
    "Since becoming an open source project in 2010, pandas has matured into a quite large library that’s applicable in a broad set of real-world use cases. The developer community has grown to over 800 distinct contributors, who’ve been helping build the project as they’ve used it to solve their day-to-day data problems.\n",
    "\n",
    "Throughout the rest of the book, I use the following import convention for pandas:\n",
    "\n",
    "```python\n",
    "import pandas as pd\n",
    "```\n",
    "\n",
    "Thus, whenever you see pd. in code, it’s referring to pandas. You may also find it easier to import Series and DataFrame into the local namespace since they are so frequently used:\n",
    "\n",
    "```python\n",
    "from pandas import Series, DataFrame\n",
    "```"
   ]
  },
  {
   "cell_type": "code",
   "execution_count": 27,
   "id": "5168cabe-8e38-4dbc-9571-82854616b7f8",
   "metadata": {
    "tags": []
   },
   "outputs": [],
   "source": [
    "import pandas as pd\n",
    "import numpy as np"
   ]
  },
  {
   "cell_type": "markdown",
   "id": "a08e39b6-6d45-42fe-bca9-bba8de15a3d0",
   "metadata": {
    "tags": []
   },
   "source": [
    "## 5.1 Introduction to pandas Data Structures\n",
    "\n",
    "To get started with pandas, you will need to get comfortable with its two workhorse data structures: Series and DataFrame. While they are not a universal solution for every problem, they provide a solid, easy-to-use basis for most applications.\n",
    "\n",
    "### Series\n",
    "\n",
    "A Series is a one-dimensional array-like object containing a sequence of values (of similar types to NumPy types) and an associated array of data labels, called its index. The simplest Series is formed from only an array of data:"
   ]
  },
  {
   "cell_type": "code",
   "execution_count": 11,
   "id": "53bbd28c-3d33-40ae-93f3-f4ce6ad1b605",
   "metadata": {
    "tags": []
   },
   "outputs": [],
   "source": [
    "obj = pd.Series([4, 7, -5, 3])"
   ]
  },
  {
   "cell_type": "code",
   "execution_count": 12,
   "id": "2daad3bd-f059-4190-b8c2-372373089514",
   "metadata": {
    "tags": []
   },
   "outputs": [
    {
     "data": {
      "text/plain": [
       "0    4\n",
       "1    7\n",
       "2   -5\n",
       "3    3\n",
       "dtype: int64"
      ]
     },
     "execution_count": 12,
     "metadata": {},
     "output_type": "execute_result"
    }
   ],
   "source": [
    "obj"
   ]
  },
  {
   "cell_type": "markdown",
   "id": "375b77f6-d648-4387-b66c-7b303db0767a",
   "metadata": {},
   "source": [
    "The string representation of a Series displayed interactively shows the index on the left and the values on the right. Since we did not specify an index for the data, a default one consisting of the integers 0 through N - 1 (where N is the length of the data) is created. You can get the array representation and index object of the Series via its values and index attributes, respectively:"
   ]
  },
  {
   "cell_type": "code",
   "execution_count": 13,
   "id": "a7a80d66-f4f3-4f9f-a770-74e7f4203943",
   "metadata": {
    "tags": []
   },
   "outputs": [
    {
     "data": {
      "text/plain": [
       "array([ 4,  7, -5,  3])"
      ]
     },
     "execution_count": 13,
     "metadata": {},
     "output_type": "execute_result"
    }
   ],
   "source": [
    "obj.values"
   ]
  },
  {
   "cell_type": "code",
   "execution_count": 14,
   "id": "89b55397-f2d7-44bd-98f4-1783e9191a16",
   "metadata": {
    "tags": []
   },
   "outputs": [
    {
     "data": {
      "text/plain": [
       "RangeIndex(start=0, stop=4, step=1)"
      ]
     },
     "execution_count": 14,
     "metadata": {},
     "output_type": "execute_result"
    }
   ],
   "source": [
    "obj.index"
   ]
  },
  {
   "cell_type": "markdown",
   "id": "d1aabc13-71ca-4b6e-9553-242745cd8f29",
   "metadata": {
    "jp-MarkdownHeadingCollapsed": true,
    "tags": []
   },
   "source": [
    "Often it will be desirable to create a Series with an index identifying each data point with a label:"
   ]
  },
  {
   "cell_type": "code",
   "execution_count": 15,
   "id": "b411f346-5af8-490c-925d-bf16b6c92763",
   "metadata": {
    "tags": []
   },
   "outputs": [],
   "source": [
    "obj2 = pd.Series([4, 7, -5, 3], index=['d', 'b', 'a', 'c'])"
   ]
  },
  {
   "cell_type": "code",
   "execution_count": 16,
   "id": "1e7a0d64-96ca-4ac1-8773-930b52a753f6",
   "metadata": {
    "tags": []
   },
   "outputs": [
    {
     "data": {
      "text/plain": [
       "d    4\n",
       "b    7\n",
       "a   -5\n",
       "c    3\n",
       "dtype: int64"
      ]
     },
     "execution_count": 16,
     "metadata": {},
     "output_type": "execute_result"
    }
   ],
   "source": [
    "obj2"
   ]
  },
  {
   "cell_type": "code",
   "execution_count": 17,
   "id": "63f332f4-0a83-4b22-bdab-4c5cb4158ff7",
   "metadata": {
    "tags": []
   },
   "outputs": [
    {
     "data": {
      "text/plain": [
       "Index(['d', 'b', 'a', 'c'], dtype='object')"
      ]
     },
     "execution_count": 17,
     "metadata": {},
     "output_type": "execute_result"
    }
   ],
   "source": [
    "obj2.index"
   ]
  },
  {
   "cell_type": "markdown",
   "id": "1305d9a7-5ca8-422d-8793-f4ec4d033049",
   "metadata": {
    "jp-MarkdownHeadingCollapsed": true,
    "tags": []
   },
   "source": [
    "Compared with NumPy arrays, you can use labels in the index when selecting single values or a set of values:"
   ]
  },
  {
   "cell_type": "code",
   "execution_count": 18,
   "id": "c1f168df-3e6a-4e7d-b5bd-5063856fe333",
   "metadata": {
    "jp-MarkdownHeadingCollapsed": true,
    "tags": []
   },
   "outputs": [
    {
     "data": {
      "text/plain": [
       "-5"
      ]
     },
     "execution_count": 18,
     "metadata": {},
     "output_type": "execute_result"
    }
   ],
   "source": [
    "obj2['a']"
   ]
  },
  {
   "cell_type": "code",
   "execution_count": 21,
   "id": "183dd22b-0044-4456-9c7b-d08db456d278",
   "metadata": {
    "jp-MarkdownHeadingCollapsed": true,
    "tags": []
   },
   "outputs": [
    {
     "data": {
      "text/plain": [
       "c    3\n",
       "a   -5\n",
       "d    6\n",
       "dtype: int64"
      ]
     },
     "execution_count": 21,
     "metadata": {},
     "output_type": "execute_result"
    }
   ],
   "source": [
    "obj2['d'] = 6\n",
    "obj2[['c', 'a', 'd']]"
   ]
  },
  {
   "cell_type": "markdown",
   "id": "90bd29a8-a9a1-4b0e-8a74-44a335fe6722",
   "metadata": {
    "jp-MarkdownHeadingCollapsed": true,
    "tags": []
   },
   "source": [
    "Here `['c', 'a', 'd']` is interpreted as a list of indices, even though it contains strings instead of integers.\n",
    "\n",
    "Using NumPy functions or NumPy-like operations, such as filtering with a boolean array, scalar multiplication, or applying math functions, will preserve the index-value link:"
   ]
  },
  {
   "cell_type": "code",
   "execution_count": 22,
   "id": "aa26bfe9-e180-44f0-85ca-b62919d55380",
   "metadata": {
    "jp-MarkdownHeadingCollapsed": true,
    "tags": []
   },
   "outputs": [
    {
     "data": {
      "text/plain": [
       "d    6\n",
       "b    7\n",
       "c    3\n",
       "dtype: int64"
      ]
     },
     "execution_count": 22,
     "metadata": {},
     "output_type": "execute_result"
    }
   ],
   "source": [
    "obj2[obj2 > 0]"
   ]
  },
  {
   "cell_type": "code",
   "execution_count": 25,
   "id": "a8420a22-19d9-420a-a294-87388154e386",
   "metadata": {
    "jp-MarkdownHeadingCollapsed": true,
    "tags": []
   },
   "outputs": [
    {
     "data": {
      "text/plain": [
       "d    12\n",
       "b    14\n",
       "a   -10\n",
       "c     6\n",
       "dtype: int64"
      ]
     },
     "execution_count": 25,
     "metadata": {},
     "output_type": "execute_result"
    }
   ],
   "source": [
    "obj2 * 2"
   ]
  },
  {
   "cell_type": "code",
   "execution_count": 28,
   "id": "e21ce1a4-27f6-4fcb-a0f8-88f98df4b173",
   "metadata": {
    "jp-MarkdownHeadingCollapsed": true,
    "tags": []
   },
   "outputs": [
    {
     "data": {
      "text/plain": [
       "d     403.428793\n",
       "b    1096.633158\n",
       "a       0.006738\n",
       "c      20.085537\n",
       "dtype: float64"
      ]
     },
     "execution_count": 28,
     "metadata": {},
     "output_type": "execute_result"
    }
   ],
   "source": [
    "np.exp(obj2)"
   ]
  },
  {
   "cell_type": "markdown",
   "id": "9e855f8e-a74d-4805-a54f-c4cfc996f4c4",
   "metadata": {
    "jp-MarkdownHeadingCollapsed": true,
    "tags": []
   },
   "source": [
    "Another way to think about a Series is as a fixed-length, ordered dict, as it is a mapping of index values to data values. It can be used in many contexts where you might use a dict:"
   ]
  },
  {
   "cell_type": "markdown",
   "id": "8e2bc69c-c7fa-4e26-836b-77e5dfbeb201",
   "metadata": {
    "jp-MarkdownHeadingCollapsed": true,
    "tags": []
   },
   "source": [
    "In [26]: 'b' in obj2\n",
    "Out[26]: True\n",
    "\n",
    "In [27]: 'e' in obj2\n",
    "Out[27]: False"
   ]
  },
  {
   "cell_type": "markdown",
   "id": "c990a5fb-6268-4c0f-bbbd-a4618291bd83",
   "metadata": {
    "jp-MarkdownHeadingCollapsed": true,
    "tags": []
   },
   "source": [
    "Should you have data contained in a Python dict, you can create a Series from it by passing the dict:"
   ]
  },
  {
   "cell_type": "markdown",
   "id": "e34f1207-08e3-4079-9997-3b15d359c1d9",
   "metadata": {
    "jp-MarkdownHeadingCollapsed": true,
    "tags": []
   },
   "source": [
    "In [28]: sdata = {'Ohio': 35000, 'Texas': 71000, 'Oregon': 16000, 'Utah': 5000}\n",
    "\n",
    "In [29]: obj3 = pd.Series(sdata)\n",
    "\n",
    "In [30]: obj3\n",
    "Out[30]: \n",
    "Ohio      35000\n",
    "Texas     71000\n",
    "Oregon    16000\n",
    "Utah       5000\n",
    "dtype: int64"
   ]
  },
  {
   "cell_type": "markdown",
   "id": "9bd7d1a1-7bc4-4d82-9955-52cbe9a1509d",
   "metadata": {
    "jp-MarkdownHeadingCollapsed": true,
    "tags": []
   },
   "source": [
    "When you are only passing a dict, the index in the resulting Series will have the dict’s keys in sorted order. You can override this by passing the dict keys in the order you want them to appear in the resulting Series:\n",
    "\n",
    "In [31]: states = ['California', 'Ohio', 'Oregon', 'Texas']\n",
    "\n",
    "In [32]: obj4 = pd.Series(sdata, index=states)\n",
    "\n",
    "In [33]: obj4\n",
    "Out[33]: \n",
    "California        NaN\n",
    "Ohio          35000.0\n",
    "Oregon        16000.0\n",
    "Texas         71000.0\n",
    "dtype: float64"
   ]
  },
  {
   "cell_type": "markdown",
   "id": "25c2063f-079a-43b1-adbf-6133184d5f93",
   "metadata": {
    "jp-MarkdownHeadingCollapsed": true,
    "tags": []
   },
   "source": [
    "Here, three values found in sdata were placed in the appropriate locations, but since no value for 'California' was found, it appears as NaN (not a number), which is considered in pandas to mark missing or NA values. Since 'Utah' was not included in states, it is excluded from the resulting object."
   ]
  },
  {
   "cell_type": "markdown",
   "id": "4e0458ee-fdf1-401a-b193-89eb55223920",
   "metadata": {
    "jp-MarkdownHeadingCollapsed": true,
    "tags": []
   },
   "source": [
    "I will use the terms “missing” or “NA” interchangeably to refer to missing data. The isnull and notnull functions in pandas should be used to detect missing data:\n",
    "\n",
    "In [34]: pd.isnull(obj4)\n",
    "Out[34]: \n",
    "California     True\n",
    "Ohio          False\n",
    "Oregon        False\n",
    "Texas         False\n",
    "dtype: bool\n",
    "\n",
    "In [35]: pd.notnull(obj4)\n",
    "Out[35]: \n",
    "California    False\n",
    "Ohio           True\n",
    "Oregon         True\n",
    "Texas          True\n",
    "dtype: bool"
   ]
  },
  {
   "cell_type": "markdown",
   "id": "c6e5500a-f99e-4d86-a007-f15250b69150",
   "metadata": {
    "jp-MarkdownHeadingCollapsed": true,
    "tags": []
   },
   "source": [
    "Series also has these as instance methods:\n",
    "\n",
    "In [36]: obj4.isnull()\n",
    "Out[36]: \n",
    "California     True\n",
    "Ohio          False\n",
    "Oregon        False\n",
    "Texas         False\n",
    "dtype: bool"
   ]
  },
  {
   "cell_type": "markdown",
   "id": "c2817dc1-e94a-4251-8584-386742643f1c",
   "metadata": {
    "jp-MarkdownHeadingCollapsed": true,
    "tags": []
   },
   "source": [
    "I discuss working with missing data in more detail in Chapter 7.\n",
    "\n",
    "A useful Series feature for many applications is that it automatically aligns by index label in arithmetic operations:\n",
    "\n",
    "In [37]: obj3\n",
    "Out[37]: \n",
    "Ohio      35000\n",
    "Texas     71000\n",
    "Oregon    16000\n",
    "Utah       5000\n",
    "dtype: int64\n",
    "\n",
    "In [38]: obj4\n",
    "Out[38]: \n",
    "California        NaN\n",
    "Ohio          35000.0\n",
    "Oregon        16000.0\n",
    "Texas         71000.0\n",
    "dtype: float64\n",
    "\n",
    "In [39]: obj3 + obj4\n",
    "Out[39]: \n",
    "California         NaN\n",
    "Ohio           70000.0\n",
    "Oregon         32000.0\n",
    "Texas         142000.0\n",
    "Utah               NaN\n",
    "dtype: float64"
   ]
  },
  {
   "cell_type": "markdown",
   "id": "8bf015f8-d97b-4e14-af98-d4d8238627dc",
   "metadata": {
    "jp-MarkdownHeadingCollapsed": true,
    "tags": []
   },
   "source": [
    "Data alignment features will be addressed in more detail later. If you have experience with databases, you can think about this as being similar to a join operation."
   ]
  },
  {
   "cell_type": "markdown",
   "id": "56ca3e3f-684f-4df0-9bdc-13aca22c537a",
   "metadata": {
    "jp-MarkdownHeadingCollapsed": true,
    "tags": []
   },
   "source": [
    "Both the Series object itself and its index have a name attribute, which integrates with other key areas of pandas functionality:\n",
    "\n",
    "In [40]: obj4.name = 'population'\n",
    "\n",
    "In [41]: obj4.index.name = 'state'\n",
    "\n",
    "In [42]: obj4\n",
    "Out[42]: \n",
    "state\n",
    "California        NaN\n",
    "Ohio          35000.0\n",
    "Oregon        16000.0\n",
    "Texas         71000.0\n",
    "Name: population, dtype: float64"
   ]
  },
  {
   "cell_type": "markdown",
   "id": "e03ea820-b433-4209-be36-9245270ef457",
   "metadata": {
    "jp-MarkdownHeadingCollapsed": true,
    "tags": []
   },
   "source": [
    "A Series’s index can be altered in-place by assignment:\n",
    "\n",
    "In [43]: obj\n",
    "Out[43]: \n",
    "0    4\n",
    "1    7\n",
    "2   -5\n",
    "3    3\n",
    "dtype: int64\n",
    "\n",
    "In [44]: obj.index = ['Bob', 'Steve', 'Jeff', 'Ryan']\n",
    "\n",
    "In [45]: obj\n",
    "Out[45]: \n",
    "Bob      4\n",
    "Steve    7\n",
    "Jeff    -5\n",
    "Ryan     3\n",
    "dtype: int64"
   ]
  },
  {
   "cell_type": "markdown",
   "id": "a9aa60f3-2d57-4781-b3c1-8d3062ac891c",
   "metadata": {
    "tags": []
   },
   "source": [
    "### DataFrame\n",
    "\n",
    "A DataFrame represents a rectangular table of data and contains an ordered collection of columns, each of which can be a different value type (numeric, string, boolean, etc.). The DataFrame has both a row and column index; it can be thought of as a dict of Series all sharing the same index. Under the hood, the data is stored as one or more two-dimensional blocks rather than a list, dict, or some other collection of one-dimensional arrays. The exact details of DataFrame’s internals are outside the scope of this book.\n",
    "\n",
    "NOTE: While a DataFrame is physically two-dimensional, you can use it to represent higher dimensional data in a tabular format using hierarchical indexing, a subject we will discuss in Chapter 8 and an ingredient in some of the more advanced data-handling features in pandas.\n",
    "\n",
    "There are many ways to construct a DataFrame, though one of the most common is from a dict of equal-length lists or NumPy arrays:\n",
    "\n",
    "data = {'state': ['Ohio', 'Ohio', 'Ohio', 'Nevada', 'Nevada', 'Nevada'],\n",
    "        'year': [2000, 2001, 2002, 2001, 2002, 2003],\n",
    "        'pop': [1.5, 1.7, 3.6, 2.4, 2.9, 3.2]}\n",
    "frame = pd.DataFrame(data)"
   ]
  },
  {
   "cell_type": "markdown",
   "id": "04931772-de15-4059-b012-0ee2bc327055",
   "metadata": {
    "jp-MarkdownHeadingCollapsed": true,
    "tags": []
   },
   "source": [
    "The resulting DataFrame will have its index assigned automatically as with Series, and the columns are placed in sorted order:\n",
    "\n",
    "In [47]: frame\n",
    "Out[47]: \n",
    "    state  year  pop\n",
    "0    Ohio  2000  1.5\n",
    "1    Ohio  2001  1.7\n",
    "2    Ohio  2002  3.6\n",
    "3  Nevada  2001  2.4\n",
    "4  Nevada  2002  2.9\n",
    "5  Nevada  2003  3.2"
   ]
  },
  {
   "cell_type": "markdown",
   "id": "16736771-1538-45b2-af35-2f260a769cd8",
   "metadata": {
    "jp-MarkdownHeadingCollapsed": true,
    "tags": []
   },
   "source": [
    "If you are using the Jupyter notebook, pandas DataFrame objects will be displayed as a more browser-friendly HTML table.\n",
    "\n",
    "For large DataFrames, the head method selects only the first five rows:\n",
    "\n",
    "In [48]: frame.head()\n",
    "Out[48]: \n",
    "    state  year  pop\n",
    "0    Ohio  2000  1.5\n",
    "1    Ohio  2001  1.7\n",
    "2    Ohio  2002  3.6\n",
    "3  Nevada  2001  2.4\n",
    "4  Nevada  2002  2.9"
   ]
  },
  {
   "cell_type": "markdown",
   "id": "04721f40-df1e-4eba-a536-11bf544e9911",
   "metadata": {
    "jp-MarkdownHeadingCollapsed": true,
    "tags": []
   },
   "source": [
    "If you specify a sequence of columns, the DataFrame’s columns will be arranged in that order:\n",
    "\n",
    "In [49]: pd.DataFrame(data, columns=['year', 'state', 'pop'])\n",
    "Out[49]: \n",
    "   year   state  pop\n",
    "0  2000    Ohio  1.5\n",
    "1  2001    Ohio  1.7\n",
    "2  2002    Ohio  3.6\n",
    "3  2001  Nevada  2.4\n",
    "4  2002  Nevada  2.9\n",
    "5  2003  Nevada  3.2"
   ]
  },
  {
   "cell_type": "markdown",
   "id": "ce68311c-47e2-47ca-80c9-28c24d592808",
   "metadata": {
    "jp-MarkdownHeadingCollapsed": true,
    "tags": []
   },
   "source": [
    "If you pass a column that isn’t contained in the dict, it will appear with missing values in the result:\n",
    "\n",
    "In [50]: frame2 = pd.DataFrame(data, columns=['year', 'state', 'pop', 'debt'],\n",
    "   ....:                       index=['one', 'two', 'three', 'four',\n",
    "   ....:                              'five', 'six'])\n",
    "\n",
    "In [51]: frame2\n",
    "Out[51]: \n",
    "       year   state  pop debt\n",
    "one    2000    Ohio  1.5  NaN\n",
    "two    2001    Ohio  1.7  NaN\n",
    "three  2002    Ohio  3.6  NaN\n",
    "four   2001  Nevada  2.4  NaN\n",
    "five   2002  Nevada  2.9  NaN\n",
    "six    2003  Nevada  3.2  NaN\n",
    "\n",
    "In [52]: frame2.columns\n",
    "Out[52]: Index(['year', 'state', 'pop', 'debt'], dtype='object')"
   ]
  },
  {
   "cell_type": "markdown",
   "id": "42e5627e-cdab-4a24-9e85-804d6525391c",
   "metadata": {
    "jp-MarkdownHeadingCollapsed": true,
    "tags": []
   },
   "source": [
    "A column in a DataFrame can be retrieved as a Series either by dict-like notation or by attribute:\n",
    "\n",
    "In [53]: frame2['state']\n",
    "Out[53]: \n",
    "one        Ohio\n",
    "two        Ohio\n",
    "three      Ohio\n",
    "four     Nevada\n",
    "five     Nevada\n",
    "six      Nevada\n",
    "Name: state, dtype: object\n",
    "\n",
    "In [54]: frame2.year\n",
    "Out[54]: \n",
    "one      2000\n",
    "two      2001\n",
    "three    2002\n",
    "four     2001\n",
    "five     2002\n",
    "six      2003\n",
    "Name: year, dtype: int64"
   ]
  },
  {
   "cell_type": "markdown",
   "id": "1ae0015e-4cb8-4931-be92-7ac9b64eb9be",
   "metadata": {
    "jp-MarkdownHeadingCollapsed": true,
    "tags": []
   },
   "source": [
    "NOTE: Attribute-like access (e.g., frame2.year) and tab completion of column names in IPython is provided as a convenience.\n",
    "\n",
    "frame2[column] works for any column name, but frame2.column only works when the column name is a valid Python variable name.\n",
    "\n",
    "Note that the returned Series have the same index as the DataFrame, and their name attribute has been appropriately set.\n",
    "\n",
    "Rows can also be retrieved by position or name with the special loc attribute (much more on this later):\n",
    "\n",
    "In [55]: frame2.loc['three']\n",
    "Out[55]: \n",
    "year     2002\n",
    "state    Ohio\n",
    "pop       3.6\n",
    "debt      NaN\n",
    "Name: three, dtype: object"
   ]
  },
  {
   "cell_type": "markdown",
   "id": "ba94c7f9-2942-4136-b511-64e129e04d5a",
   "metadata": {
    "jp-MarkdownHeadingCollapsed": true,
    "tags": []
   },
   "source": [
    "Columns can be modified by assignment. For example, the empty 'debt' column could be assigned a scalar value or an array of values:"
   ]
  },
  {
   "cell_type": "markdown",
   "id": "8368ac78-5f24-4fb4-93a6-dae67c5467c1",
   "metadata": {
    "jp-MarkdownHeadingCollapsed": true,
    "tags": []
   },
   "source": [
    "In [56]: frame2['debt'] = 16.5\n",
    "\n",
    "In [57]: frame2\n",
    "Out[57]: \n",
    "       year   state  pop  debt\n",
    "one    2000    Ohio  1.5  16.5\n",
    "two    2001    Ohio  1.7  16.5\n",
    "three  2002    Ohio  3.6  16.5\n",
    "four   2001  Nevada  2.4  16.5\n",
    "five   2002  Nevada  2.9  16.5\n",
    "six    2003  Nevada  3.2  16.5\n",
    "\n",
    "In [58]: frame2['debt'] = np.arange(6.)\n",
    "\n",
    "In [59]: frame2\n",
    "Out[59]: \n",
    "       year   state  pop  debt\n",
    "one    2000    Ohio  1.5   0.0\n",
    "two    2001    Ohio  1.7   1.0\n",
    "three  2002    Ohio  3.6   2.0\n",
    "four   2001  Nevada  2.4   3.0\n",
    "five   2002  Nevada  2.9   4.0\n",
    "six    2003  Nevada  3.2   5.0"
   ]
  },
  {
   "cell_type": "markdown",
   "id": "c4a8a623-8912-4d64-ae45-64c814cffa7c",
   "metadata": {
    "jp-MarkdownHeadingCollapsed": true,
    "tags": []
   },
   "source": [
    "When you are assigning lists or arrays to a column, the value’s length must match the length of the DataFrame. If you assign a Series, its labels will be realigned exactly to the DataFrame’s index, inserting missing values in any holes:"
   ]
  },
  {
   "cell_type": "markdown",
   "id": "c0bdcdee-ed16-4c10-8d92-ccaea9a60ef2",
   "metadata": {
    "jp-MarkdownHeadingCollapsed": true,
    "tags": []
   },
   "source": [
    "In [60]: val = pd.Series([-1.2, -1.5, -1.7], index=['two', 'four', 'five'])\n",
    "\n",
    "In [61]: frame2['debt'] = val\n",
    "\n",
    "In [62]: frame2\n",
    "Out[62]: \n",
    "       year   state  pop  debt\n",
    "one    2000    Ohio  1.5   NaN\n",
    "two    2001    Ohio  1.7  -1.2\n",
    "three  2002    Ohio  3.6   NaN\n",
    "four   2001  Nevada  2.4  -1.5\n",
    "five   2002  Nevada  2.9  -1.7\n",
    "six    2003  Nevada  3.2   NaN"
   ]
  },
  {
   "cell_type": "markdown",
   "id": "e80c1a88-3548-4bc0-a8c6-953d098e9fe0",
   "metadata": {
    "jp-MarkdownHeadingCollapsed": true,
    "tags": []
   },
   "source": [
    "Assigning a column that doesn’t exist will create a new column. The del keyword will delete columns as with a dict.\n",
    "\n",
    "As an example of del, I first add a new column of boolean values where the state column equals 'Ohio':"
   ]
  },
  {
   "cell_type": "markdown",
   "id": "e5f2176d-8e52-4821-ac8f-53e9be21a89c",
   "metadata": {
    "jp-MarkdownHeadingCollapsed": true,
    "tags": []
   },
   "source": [
    "In [63]: frame2['eastern'] = frame2.state == 'Ohio'\n",
    "\n",
    "In [64]: frame2\n",
    "Out[64]: \n",
    "       year   state  pop  debt  eastern\n",
    "one    2000    Ohio  1.5   NaN     True\n",
    "two    2001    Ohio  1.7  -1.2     True\n",
    "three  2002    Ohio  3.6   NaN     True\n",
    "four   2001  Nevada  2.4  -1.5    False\n",
    "five   2002  Nevada  2.9  -1.7    False\n",
    "six    2003  Nevada  3.2   NaN    False"
   ]
  },
  {
   "cell_type": "markdown",
   "id": "7af3d10d-ee91-4608-8cb1-5f9fd7cb0351",
   "metadata": {
    "jp-MarkdownHeadingCollapsed": true,
    "tags": []
   },
   "source": [
    "CAUTION: New columns cannot be created with the frame2.eastern syntax.\n",
    "\n",
    "The del method can then be used to remove this column:"
   ]
  },
  {
   "cell_type": "markdown",
   "id": "936e982b-dcfd-4224-b0c1-b7896c2cd3e5",
   "metadata": {
    "jp-MarkdownHeadingCollapsed": true,
    "tags": []
   },
   "source": [
    "In [65]: del frame2['eastern']\n",
    "\n",
    "In [66]: frame2.columns\n",
    "Out[66]: Index(['year', 'state', 'pop', 'debt'], dtype='object')"
   ]
  },
  {
   "cell_type": "markdown",
   "id": "017337e4-b805-43aa-a15f-4096c35b5529",
   "metadata": {
    "jp-MarkdownHeadingCollapsed": true,
    "tags": []
   },
   "source": [
    "CAUTION: The column returned from indexing a DataFrame is a view on the underlying data, not a copy. Thus, any in-place modifications to the Series will be reflected in the DataFrame. The column can be explicitly copied with the Series’s copy method.\n",
    "\n",
    "Another common form of data is a nested dict of dicts:"
   ]
  },
  {
   "cell_type": "markdown",
   "id": "e0342c49-ce94-48dd-b0aa-7a086cf7609a",
   "metadata": {
    "jp-MarkdownHeadingCollapsed": true,
    "tags": []
   },
   "source": [
    "In [67]: pop = {'Nevada': {2001: 2.4, 2002: 2.9},\n",
    "   ....:        'Ohio': {2000: 1.5, 2001: 1.7, 2002: 3.6}}"
   ]
  },
  {
   "cell_type": "markdown",
   "id": "9447e3fc-d622-438e-aa35-850a4367f783",
   "metadata": {
    "jp-MarkdownHeadingCollapsed": true,
    "tags": []
   },
   "source": [
    "If the nested dict is passed to the DataFrame, pandas will interpret the outer dict keys as the columns and the inner keys as the row indices:"
   ]
  },
  {
   "cell_type": "markdown",
   "id": "654e815c-6464-4c51-bafb-2e538bae3b13",
   "metadata": {
    "jp-MarkdownHeadingCollapsed": true,
    "tags": []
   },
   "source": [
    "In [68]: frame3 = pd.DataFrame(pop)\n",
    "\n",
    "In [69]: frame3\n",
    "Out[69]: \n",
    "      Nevada  Ohio\n",
    "2000     NaN   1.5\n",
    "2001     2.4   1.7\n",
    "2002     2.9   3.6"
   ]
  },
  {
   "cell_type": "markdown",
   "id": "145b3f48-c882-44a1-9b07-caa47fe1f743",
   "metadata": {
    "jp-MarkdownHeadingCollapsed": true,
    "tags": []
   },
   "source": [
    "You can transpose the DataFrame (swap rows and columns) with similar syntax to a NumPy array:"
   ]
  },
  {
   "cell_type": "markdown",
   "id": "0a02857e-ca7d-4d0c-87a3-5d51a866d0a7",
   "metadata": {
    "jp-MarkdownHeadingCollapsed": true,
    "tags": []
   },
   "source": [
    "In [70]: frame3.T\n",
    "Out[70]: \n",
    "        2000  2001  2002\n",
    "Nevada   NaN   2.4   2.9\n",
    "Ohio     1.5   1.7   3.6"
   ]
  },
  {
   "cell_type": "markdown",
   "id": "9e02433f-efef-4f61-addd-fa700744b1fd",
   "metadata": {
    "jp-MarkdownHeadingCollapsed": true,
    "tags": []
   },
   "source": [
    "The keys in the inner dicts are combined and sorted to form the index in the result. This isn’t true if an explicit index is specified:"
   ]
  },
  {
   "cell_type": "markdown",
   "id": "00b508e0-f1d0-4bc6-a1b3-2806f3677a66",
   "metadata": {
    "jp-MarkdownHeadingCollapsed": true,
    "tags": []
   },
   "source": [
    "In [71]: pd.DataFrame(pop, index=[2001, 2002, 2003])\n",
    "Out[71]: \n",
    "      Nevada  Ohio\n",
    "2001     2.4   1.7\n",
    "2002     2.9   3.6\n",
    "2003     NaN   NaN"
   ]
  },
  {
   "cell_type": "markdown",
   "id": "d49792b1-1f08-4794-9b87-6fec787891ad",
   "metadata": {
    "jp-MarkdownHeadingCollapsed": true,
    "tags": []
   },
   "source": [
    "Dicts of Series are treated in much the same way:"
   ]
  },
  {
   "cell_type": "markdown",
   "id": "34bafecb-a76f-439d-8d47-8352489a908b",
   "metadata": {
    "jp-MarkdownHeadingCollapsed": true,
    "tags": []
   },
   "source": [
    "In [72]: pdata = {'Ohio': frame3['Ohio'][:-1],\n",
    "   ....:          'Nevada': frame3['Nevada'][:2]}\n",
    "\n",
    "In [73]: pd.DataFrame(pdata)\n",
    "Out[73]: \n",
    "      Ohio  Nevada\n",
    "2000   1.5     NaN\n",
    "2001   1.7     2.4"
   ]
  },
  {
   "cell_type": "markdown",
   "id": "a8140139-98ac-4af5-b8a8-171fb0fb1bba",
   "metadata": {
    "jp-MarkdownHeadingCollapsed": true,
    "tags": []
   },
   "source": [
    "For a complete list of things you can pass the DataFrame constructor, see Table 5-1.\n",
    "\n",
    "If a DataFrame’s index and columns have their name attributes set, these will also be displayed:"
   ]
  },
  {
   "cell_type": "markdown",
   "id": "62aa65f6-23e4-4bb0-9f4f-6aa000f0b6c9",
   "metadata": {
    "jp-MarkdownHeadingCollapsed": true,
    "tags": []
   },
   "source": [
    "In [74]: frame3.index.name = 'year'; frame3.columns.name = 'state'\n",
    "\n",
    "In [75]: frame3\n",
    "Out[75]: \n",
    "state  Nevada  Ohio\n",
    "year               \n",
    "2000      NaN   1.5\n",
    "2001      2.4   1.7\n",
    "2002      2.9   3.6"
   ]
  },
  {
   "cell_type": "markdown",
   "id": "5dd6769a-bfd3-42b4-9e93-5a114e0e114a",
   "metadata": {
    "jp-MarkdownHeadingCollapsed": true,
    "tags": []
   },
   "source": [
    "As with Series, the values attribute returns the data contained in the DataFrame as a two-dimensional ndarray:\n",
    "\n",
    "In [76]: frame3.values\n",
    "Out[76]: \n",
    "array([[nan, 1.5],\n",
    "       [2.4, 1.7],\n",
    "       [2.9, 3.6]])"
   ]
  },
  {
   "cell_type": "markdown",
   "id": "8581a542-f05d-4697-b88e-ddabeec10e84",
   "metadata": {
    "jp-MarkdownHeadingCollapsed": true,
    "tags": []
   },
   "source": [
    "If the DataFrame’s columns are different dtypes, the dtype of the values array will be chosen to accommodate all of the columns:\n",
    "\n",
    "In [77]: frame2.values\n",
    "Out[77]: \n",
    "array([[2000, 'Ohio', 1.5, nan],\n",
    "       [2001, 'Ohio', 1.7, -1.2],\n",
    "       [2002, 'Ohio', 3.6, nan],\n",
    "       [2001, 'Nevada', 2.4, -1.5],\n",
    "       [2002, 'Nevada', 2.9, -1.7],\n",
    "       [2003, 'Nevada', 3.2, nan]], dtype=object)"
   ]
  },
  {
   "cell_type": "markdown",
   "id": "dd41e07c-6203-49ab-b8a8-50a867f17214",
   "metadata": {
    "jp-MarkdownHeadingCollapsed": true,
    "tags": []
   },
   "source": [
    "Table 5-1. Possible data inputs to DataFrame constructor\n",
    "Type\tNotes"
   ]
  },
  {
   "cell_type": "markdown",
   "id": "31609d90-5e3c-4fa7-9066-2ce682f07857",
   "metadata": {
    "jp-MarkdownHeadingCollapsed": true,
    "tags": []
   },
   "source": [
    "2D ndarray\n",
    "\n",
    "A matrix of data, passing optional row and column labels\n",
    "dict of arrays, lists, or tuples\n",
    "\n",
    "Each sequence becomes a column in the DataFrame; all sequences must be the same length\n",
    "NumPy structured/record array\n",
    "\n",
    "Treated as the “dict of arrays” case\n",
    "dict of Series\n",
    "\n",
    "Each value becomes a column; indexes from each Series are unioned together to form the result’s row index if no explicit index is passed\n",
    "dict of dicts\n",
    "\n",
    "Each inner dict becomes a column; keys are unioned to form the row index as in the “dict of Series” case\n",
    "List of dicts or Series\n",
    "\n",
    "Each item becomes a row in the DataFrame; union of dict keys or Series indexes become the DataFrame’s column labels\n",
    "List of lists or tuples\n",
    "\n",
    "Treated as the “2D ndarray” case\n",
    "Another DataFrame\n",
    "\n",
    "The DataFrame’s indexes are used unless different ones are passed\n",
    "NumPy MaskedArray\n",
    "\n",
    "Like the “2D ndarray” case except masked values become NA/missing in the DataFrame result"
   ]
  },
  {
   "cell_type": "markdown",
   "id": "070c1747-0362-4d1e-89b4-c425331a4eae",
   "metadata": {
    "tags": []
   },
   "source": [
    "### Index Objects\n",
    "\n",
    "pandas’s Index objects are responsible for holding the axis labels and other metadata (like the axis name or names). Any array or other sequence of labels you use when constructing a Series or DataFrame is internally converted to an Index:"
   ]
  },
  {
   "cell_type": "markdown",
   "id": "00fc50c6-8da2-40a1-9f05-758ed299703f",
   "metadata": {
    "jp-MarkdownHeadingCollapsed": true,
    "tags": []
   },
   "source": [
    "In [78]: obj = pd.Series(range(3), index=['a', 'b', 'c'])\n",
    "\n",
    "In [79]: index = obj.index\n",
    "\n",
    "In [80]: index\n",
    "Out[80]: Index(['a', 'b', 'c'], dtype='object')\n",
    "\n",
    "In [81]: index[1:]\n",
    "Out[81]: Index(['b', 'c'], dtype='object')"
   ]
  },
  {
   "cell_type": "markdown",
   "id": "fba8e35e-5716-43c0-ac16-66a425ae3330",
   "metadata": {
    "jp-MarkdownHeadingCollapsed": true,
    "tags": []
   },
   "source": [
    "Index objects are immutable and thus can’t be modified by the user:"
   ]
  },
  {
   "cell_type": "markdown",
   "id": "70a318b8-3f20-4904-bc39-e4e90a5c3549",
   "metadata": {
    "jp-MarkdownHeadingCollapsed": true,
    "tags": []
   },
   "source": [
    "index[1] = 'd'  # TypeError"
   ]
  },
  {
   "cell_type": "markdown",
   "id": "8507dbb6-16a6-46a7-a19b-aac899417c29",
   "metadata": {
    "jp-MarkdownHeadingCollapsed": true,
    "tags": []
   },
   "source": [
    "Immutability makes it safer to share Index objects among data structures:"
   ]
  },
  {
   "cell_type": "markdown",
   "id": "66b431b7-b4fd-40fa-b7a5-2bd2d8033658",
   "metadata": {
    "jp-MarkdownHeadingCollapsed": true,
    "tags": []
   },
   "source": [
    "In [82]: labels = pd.Index(np.arange(3))\n",
    "\n",
    "In [83]: labels\n",
    "Out[83]: Int64Index([0, 1, 2], dtype='int64')\n",
    "\n",
    "In [84]: obj2 = pd.Series([1.5, -2.5, 0], index=labels)\n",
    "\n",
    "In [85]: obj2\n",
    "Out[85]: \n",
    "0    1.5\n",
    "1   -2.5\n",
    "2    0.0\n",
    "dtype: float64\n",
    "\n",
    "In [86]: obj2.index is labels\n",
    "Out[86]: True"
   ]
  },
  {
   "cell_type": "markdown",
   "id": "b3d252ff-8daa-4b04-ad70-379c2781a09c",
   "metadata": {
    "jp-MarkdownHeadingCollapsed": true,
    "tags": []
   },
   "source": [
    "CAUTION: Some users will not often take advantage of the capabilities provided by indexes, but because some operations will yield results containing indexed data, it’s important to understand how they work.\n",
    "\n",
    "In addition to being array-like, an Index also behaves like a fixed-size set:"
   ]
  },
  {
   "cell_type": "markdown",
   "id": "2b995dca-6b6d-4b67-a03f-a99c1d50bae8",
   "metadata": {
    "jp-MarkdownHeadingCollapsed": true,
    "tags": []
   },
   "source": [
    "In [87]: frame3\n",
    "Out[87]: \n",
    "state  Nevada  Ohio\n",
    "year               \n",
    "2000      NaN   1.5\n",
    "2001      2.4   1.7\n",
    "2002      2.9   3.6\n",
    "\n",
    "In [88]: frame3.columns\n",
    "Out[88]: Index(['Nevada', 'Ohio'], dtype='object', name='state')\n",
    "\n",
    "In [89]: 'Ohio' in frame3.columns\n",
    "Out[89]: True\n",
    "\n",
    "In [90]: 2003 in frame3.index\n",
    "Out[90]: False"
   ]
  },
  {
   "cell_type": "markdown",
   "id": "4911fdfe-1732-48f4-b08f-7f7330484dcc",
   "metadata": {
    "jp-MarkdownHeadingCollapsed": true,
    "tags": []
   },
   "source": [
    "Unlike Python sets, a pandas Index can contain duplicate labels:\n",
    "\n",
    "In [91]: dup_labels = pd.Index(['foo', 'foo', 'bar', 'bar'])\n",
    "\n",
    "In [92]: dup_labels\n",
    "Out[92]: Index(['foo', 'foo', 'bar', 'bar'], dtype='object')\n",
    "Selections with duplicate labels will select all occurrences of that label."
   ]
  },
  {
   "cell_type": "markdown",
   "id": "24134763-0c91-46a9-83cf-1ad915bbec02",
   "metadata": {
    "jp-MarkdownHeadingCollapsed": true,
    "tags": []
   },
   "source": [
    "Each Index has a number of methods and properties for set logic, which answer other common questions about the data it contains. Some useful ones are summarized in Table 5-2."
   ]
  },
  {
   "cell_type": "markdown",
   "id": "12799d7f-3e44-4e6b-970d-cbea8ac9da65",
   "metadata": {
    "jp-MarkdownHeadingCollapsed": true,
    "tags": []
   },
   "source": [
    "Table 5-2. Some Index methods and properties\n",
    "\n",
    "| Method | Description |\n",
    "|--------|-------------|\n",
    "|append|Concatenate with additional Index objects, producing a new Index|\n",
    "|difference|Compute set difference as an Index|\n",
    "|intersection|Compute set intersection|\n",
    "|union|Compute set union|\n",
    "|isin|Compute boolean array indicating whether each value is contained in the passed collection|\n",
    "|delete|Compute new Index with element at index i deleted|\n",
    "|drop|Compute new Index by deleting passed values|\n",
    "|insert|Compute new Index by inserting element at index i|\n",
    "|is_monotonic|Returns True if each element is greater than or equal to the previous element|\n",
    "|is_unique|Returns True if the Index has no duplicate values|\n",
    "|unique|Compute the array of unique values in the Index|"
   ]
  },
  {
   "cell_type": "markdown",
   "id": "5b625735-60c4-4819-8cad-3cee7a014952",
   "metadata": {
    "tags": []
   },
   "source": [
    "## 5.2 Essential Functionality\n",
    "\n",
    "This section will walk you through the fundamental mechanics of interacting with the data contained in a Series or DataFrame. In the chapters to come, we will delve more deeply into data analysis and manipulation topics using pandas. This book is not intended to serve as exhaustive documentation for the pandas library; instead, we’ll focus on the most important features, leaving the less common (i.e., more esoteric) things for you to explore on your own.\n",
    "\n",
    "### Reindexing\n",
    "\n",
    "An important method on pandas objects is reindex, which means to create a new object with the data conformed to a new index. Consider an example:"
   ]
  },
  {
   "cell_type": "markdown",
   "id": "d56bc61e-295a-46b9-82f7-8070934f7458",
   "metadata": {
    "jp-MarkdownHeadingCollapsed": true,
    "tags": []
   },
   "source": [
    "In [93]: obj = pd.Series([4.5, 7.2, -5.3, 3.6], index=['d', 'b', 'a', 'c'])\n",
    "\n",
    "In [94]: obj\n",
    "Out[94]: \n",
    "d    4.5\n",
    "b    7.2\n",
    "a   -5.3\n",
    "c    3.6\n",
    "dtype: float64"
   ]
  },
  {
   "cell_type": "markdown",
   "id": "18c87a6e-d7fc-4c36-9d35-948fcf750d5b",
   "metadata": {
    "jp-MarkdownHeadingCollapsed": true,
    "tags": []
   },
   "source": [
    "Calling reindex on this Series rearranges the data according to the new index, introducing missing values if any index values were not already present:"
   ]
  },
  {
   "cell_type": "markdown",
   "id": "6ae357b0-be58-4b9f-a505-2b30abc010ab",
   "metadata": {
    "jp-MarkdownHeadingCollapsed": true,
    "tags": []
   },
   "source": [
    "In [95]: obj2 = obj.reindex(['a', 'b', 'c', 'd', 'e'])\n",
    "\n",
    "In [96]: obj2\n",
    "Out[96]: \n",
    "a   -5.3\n",
    "b    7.2\n",
    "c    3.6\n",
    "d    4.5\n",
    "e    NaN\n",
    "dtype: float64"
   ]
  },
  {
   "cell_type": "markdown",
   "id": "f241270f-6656-4f1d-a67b-f2794db0bbdc",
   "metadata": {
    "jp-MarkdownHeadingCollapsed": true,
    "tags": []
   },
   "source": [
    "For ordered data like time series, it may be desirable to do some interpolation or filling of values when reindexing. The method option allows us to do this, using a method such as ffill, which forward-fills the values:"
   ]
  },
  {
   "cell_type": "markdown",
   "id": "b446cb5e-26e0-40e5-9ee1-c570fe937bc1",
   "metadata": {
    "jp-MarkdownHeadingCollapsed": true,
    "tags": []
   },
   "source": [
    "In [97]: obj3 = pd.Series(['blue', 'purple', 'yellow'], index=[0, 2, 4])\n",
    "\n",
    "In [98]: obj3\n",
    "Out[98]: \n",
    "0      blue\n",
    "2    purple\n",
    "4    yellow\n",
    "dtype: object\n",
    "\n",
    "In [99]: obj3.reindex(range(6), method='ffill')\n",
    "Out[99]: \n",
    "0      blue\n",
    "1      blue\n",
    "2    purple\n",
    "3    purple\n",
    "4    yellow\n",
    "5    yellow\n",
    "dtype: object"
   ]
  },
  {
   "cell_type": "markdown",
   "id": "897a4ce8-95bc-404c-b8a0-bb334ec363b7",
   "metadata": {
    "jp-MarkdownHeadingCollapsed": true,
    "tags": []
   },
   "source": [
    "With DataFrame, reindex can alter either the (row) index, columns, or both. When passed only a sequence, it reindexes the rows in the result:"
   ]
  },
  {
   "cell_type": "markdown",
   "id": "52ac8d72-19f2-4036-9428-2a91ff0120cb",
   "metadata": {
    "jp-MarkdownHeadingCollapsed": true,
    "tags": []
   },
   "source": [
    "In [100]: frame = pd.DataFrame(np.arange(9).reshape((3, 3)),\n",
    "   .....:                      index=['a', 'c', 'd'],\n",
    "   .....:                      columns=['Ohio', 'Texas', 'California'])\n",
    "\n",
    "In [101]: frame\n",
    "Out[101]: \n",
    "   Ohio  Texas  California\n",
    "a     0      1           2\n",
    "c     3      4           5\n",
    "d     6      7           8\n",
    "\n",
    "In [102]: frame2 = frame.reindex(['a', 'b', 'c', 'd'])\n",
    "\n",
    "In [103]: frame2\n",
    "Out[103]: \n",
    "   Ohio  Texas  California\n",
    "a   0.0    1.0         2.0\n",
    "b   NaN    NaN         NaN\n",
    "c   3.0    4.0         5.0\n",
    "d   6.0    7.0         8.0"
   ]
  },
  {
   "cell_type": "markdown",
   "id": "46a37c12-3b0b-4e51-9447-8eed409a279d",
   "metadata": {
    "jp-MarkdownHeadingCollapsed": true,
    "tags": []
   },
   "source": [
    "The columns can be reindexed with the columns keyword:\n",
    "\n",
    "In [104]: states = ['Texas', 'Utah', 'California']\n",
    "\n",
    "In [105]: frame.reindex(columns=states)\n",
    "Out[105]: \n",
    "   Texas  Utah  California\n",
    "a      1   NaN           2\n",
    "c      4   NaN           5\n",
    "d      7   NaN           8\n",
    "See Table 5-3 for more about the arguments to reindex.\n",
    "\n",
    "As we’ll explore in more detail, you can reindex more succinctly by label-indexing with loc, and many users prefer to use it exclusively:\n",
    "\n",
    "In [106]: frame.loc[['a', 'b', 'c', 'd'], states]\n",
    "Out[106]: \n",
    "   Texas  Utah  California\n",
    "a    1.0   NaN         2.0\n",
    "b    NaN   NaN         NaN\n",
    "c    4.0   NaN         5.0\n",
    "d    7.0   NaN         8.0\n",
    "Table 5-3. reindex function arguments\n",
    "Argument\tDescription\n",
    "index\tNew sequence to use as index. Can be Index instance or any other sequence-like Python data structure. An Index will be used exactly as is without any copying.\n",
    "method\tInterpolation (fill) method; 'ffill' fills forward, while 'bfill' fills backward.\n",
    "fill_value\tSubstitute value to use when introducing missing data by reindexing.\n",
    "limit\tWhen forward- or backfilling, maximum size gap (in number of elements) to fill.\n",
    "tolerance\tWhen forward- or backfilling, maximum size gap (in absolute numeric distance) to fill for inexact matches.\n",
    "level\tMatch simple Index on level of MultiIndex; otherwise select subset of.\n",
    "copy\tIf True, always copy underlying data even if new index is equivalent to old index; if False, do not copy the data when the indexes are equivalent.\n",
    "Dropping Entries from an Axis\n",
    "Dropping one or more entries from an axis is easy if you already have an index array or list without those entries. As that can require a bit of munging and set logic, the drop method will return a new object with the indicated value or values deleted from an axis:\n",
    "\n",
    "In [107]: obj = pd.Series(np.arange(5.), index=['a', 'b', 'c', 'd', 'e'])\n",
    "\n",
    "In [108]: obj\n",
    "Out[108]: \n",
    "a    0.0\n",
    "b    1.0\n",
    "c    2.0\n",
    "d    3.0\n",
    "e    4.0\n",
    "dtype: float64\n",
    "\n",
    "In [109]: new_obj = obj.drop('c')\n",
    "\n",
    "In [110]: new_obj\n",
    "Out[110]: \n",
    "a    0.0\n",
    "b    1.0\n",
    "d    3.0\n",
    "e    4.0\n",
    "dtype: float64\n",
    "\n",
    "In [111]: obj.drop(['d', 'c'])\n",
    "Out[111]: \n",
    "a    0.0\n",
    "b    1.0\n",
    "e    4.0\n",
    "dtype: float64\n",
    "With DataFrame, index values can be deleted from either axis. To illustrate this, we first create an example DataFrame:\n",
    "\n",
    "In [112]: data = pd.DataFrame(np.arange(16).reshape((4, 4)),\n",
    "   .....:                     index=['Ohio', 'Colorado', 'Utah', 'New York'],\n",
    "   .....:                     columns=['one', 'two', 'three', 'four'])\n",
    "\n",
    "In [113]: data\n",
    "Out[113]: \n",
    "          one  two  three  four\n",
    "Ohio        0    1      2     3\n",
    "Colorado    4    5      6     7\n",
    "Utah        8    9     10    11\n",
    "New York   12   13     14    15\n",
    "Calling drop with a sequence of labels will drop values from the row labels (axis 0):\n",
    "\n",
    "In [114]: data.drop(['Colorado', 'Ohio'])\n",
    "Out[114]: \n",
    "          one  two  three  four\n",
    "Utah        8    9     10    11\n",
    "New York   12   13     14    15\n",
    "You can drop values from the columns by passing axis=1 or axis='columns':\n",
    "\n",
    "In [115]: data.drop('two', axis=1)\n",
    "Out[115]: \n",
    "          one  three  four\n",
    "Ohio        0      2     3\n",
    "Colorado    4      6     7\n",
    "Utah        8     10    11\n",
    "New York   12     14    15\n",
    "\n",
    "In [116]: data.drop(['two', 'four'], axis='columns')\n",
    "Out[116]: \n",
    "          one  three\n",
    "Ohio        0      2\n",
    "Colorado    4      6\n",
    "Utah        8     10\n",
    "New York   12     14\n",
    "Many functions, like drop, which modify the size or shape of a Series or DataFrame, can manipulate an object in-place without returning a new object:\n",
    "\n",
    "In [117]: obj.drop('c', inplace=True)\n",
    "\n",
    "In [118]: obj\n",
    "Out[118]: \n",
    "a    0.0\n",
    "b    1.0\n",
    "d    3.0\n",
    "e    4.0\n",
    "dtype: float64\n",
    "Be careful with the inplace, as it destroys any data that is dropped.\n",
    "\n",
    "Indexing, Selection, and Filtering\n",
    "Series indexing (obj[...]) works analogously to NumPy array indexing, except you can use the Series’s index values instead of only integers. Here are some examples of this:\n",
    "\n",
    "In [119]: obj = pd.Series(np.arange(4.), index=['a', 'b', 'c', 'd'])\n",
    "\n",
    "In [120]: obj\n",
    "Out[120]: \n",
    "a    0.0\n",
    "b    1.0\n",
    "c    2.0\n",
    "d    3.0\n",
    "dtype: float64\n",
    "\n",
    "In [121]: obj['b']\n",
    "Out[121]: 1.0\n",
    "\n",
    "In [122]: obj[1]\n",
    "Out[122]: 1.0\n",
    "\n",
    "In [123]: obj[2:4]\n",
    "Out[123]: \n",
    "c    2.0\n",
    "d    3.0\n",
    "dtype: float64\n",
    "\n",
    "In [124]: obj[['b', 'a', 'd']]\n",
    "Out[124]: \n",
    "b    1.0\n",
    "a    0.0\n",
    "d    3.0\n",
    "dtype: float64\n",
    "\n",
    "In [125]: obj[[1, 3]]\n",
    "Out[125]: \n",
    "b    1.0\n",
    "d    3.0\n",
    "dtype: float64\n",
    "\n",
    "In [126]: obj[obj < 2]\n",
    "Out[126]: \n",
    "a    0.0\n",
    "b    1.0\n",
    "dtype: float64\n",
    "Slicing with labels behaves differently than normal Python slicing in that the endpoint is inclusive:\n",
    "\n",
    "In [127]: obj['b':'c']\n",
    "Out[127]: \n",
    "b    1.0\n",
    "c    2.0\n",
    "dtype: float64\n",
    "Setting using these methods modifies the corresponding section of the Series:\n",
    "\n",
    "In [128]: obj['b':'c'] = 5\n",
    "\n",
    "In [129]: obj\n",
    "Out[129]: \n",
    "a    0.0\n",
    "b    5.0\n",
    "c    5.0\n",
    "d    3.0\n",
    "dtype: float64\n",
    "Indexing into a DataFrame is for retrieving one or more columns either with a single value or sequence:\n",
    "\n",
    "In [130]: data = pd.DataFrame(np.arange(16).reshape((4, 4)),\n",
    "   .....:                     index=['Ohio', 'Colorado', 'Utah', 'New York'],\n",
    "   .....:                     columns=['one', 'two', 'three', 'four'])\n",
    "\n",
    "In [131]: data\n",
    "Out[131]: \n",
    "          one  two  three  four\n",
    "Ohio        0    1      2     3\n",
    "Colorado    4    5      6     7\n",
    "Utah        8    9     10    11\n",
    "New York   12   13     14    15\n",
    "\n",
    "In [132]: data['two']\n",
    "Out[132]: \n",
    "Ohio         1\n",
    "Colorado     5\n",
    "Utah         9\n",
    "New York    13\n",
    "Name: two, dtype: int64\n",
    "\n",
    "In [133]: data[['three', 'one']]\n",
    "Out[133]: \n",
    "          three  one\n",
    "Ohio          2    0\n",
    "Colorado      6    4\n",
    "Utah         10    8\n",
    "New York     14   12\n",
    "Indexing like this has a few special cases. First, slicing or selecting data with a boolean array:\n",
    "\n",
    "In [134]: data[:2]\n",
    "Out[134]: \n",
    "          one  two  three  four\n",
    "Ohio        0    1      2     3\n",
    "Colorado    4    5      6     7\n",
    "\n",
    "In [135]: data[data['three'] > 5]\n",
    "Out[135]: \n",
    "          one  two  three  four\n",
    "Colorado    4    5      6     7\n",
    "Utah        8    9     10    11\n",
    "New York   12   13     14    15\n",
    "The row selection syntax data[:2] is provided as a convenience. Passing a single element or a list to the [] operator selects columns.\n",
    "\n",
    "Another use case is in indexing with a boolean DataFrame, such as one produced by a scalar comparison:\n",
    "\n",
    "In [136]: data < 5\n",
    "Out[136]: \n",
    "            one    two  three   four\n",
    "Ohio       True   True   True   True\n",
    "Colorado   True  False  False  False\n",
    "Utah      False  False  False  False\n",
    "New York  False  False  False  False\n",
    "\n",
    "In [137]: data[data < 5] = 0\n",
    "\n",
    "In [138]: data\n",
    "Out[138]: \n",
    "          one  two  three  four\n",
    "Ohio        0    0      0     0\n",
    "Colorado    0    5      6     7\n",
    "Utah        8    9     10    11\n",
    "New York   12   13     14    15\n",
    "This makes DataFrame syntactically more like a two-dimensional NumPy array in this particular case.\n",
    "\n",
    "Selection with loc and iloc\n",
    "For DataFrame label-indexing on the rows, I introduce the special indexing operators loc and iloc. They enable you to select a subset of the rows and columns from a DataFrame with NumPy-like notation using either axis labels (loc) or integers (iloc).\n",
    "\n",
    "As a preliminary example, let’s select a single row and multiple columns by label:\n",
    "\n",
    "In [139]: data.loc['Colorado', ['two', 'three']]\n",
    "Out[139]: \n",
    "two      5\n",
    "three    6\n",
    "Name: Colorado, dtype: int64\n",
    "We’ll then perform some similar selections with integers using iloc:\n",
    "\n",
    "In [140]: data.iloc[2, [3, 0, 1]]\n",
    "Out[140]: \n",
    "four    11\n",
    "one      8\n",
    "two      9\n",
    "Name: Utah, dtype: int64\n",
    "\n",
    "In [141]: data.iloc[2]\n",
    "Out[141]: \n",
    "one       8\n",
    "two       9\n",
    "three    10\n",
    "four     11\n",
    "Name: Utah, dtype: int64\n",
    "\n",
    "In [142]: data.iloc[[1, 2], [3, 0, 1]]\n",
    "Out[142]: \n",
    "          four  one  two\n",
    "Colorado     7    0    5\n",
    "Utah        11    8    9\n",
    "Both indexing functions work with slices in addition to single labels or lists of labels:\n",
    "\n",
    "In [143]: data.loc[:'Utah', 'two']\n",
    "Out[143]: \n",
    "Ohio        0\n",
    "Colorado    5\n",
    "Utah        9\n",
    "Name: two, dtype: int64\n",
    "\n",
    "In [144]: data.iloc[:, :3][data.three > 5]\n",
    "Out[144]: \n",
    "          one  two  three\n",
    "Colorado    0    5      6\n",
    "Utah        8    9     10\n",
    "New York   12   13     14\n",
    "So there are many ways to select and rearrange the data contained in a pandas object. For DataFrame, Table 5-4 provides a short summary of many of them. As you’ll see later, there are a number of additional options for working with hierarchical indexes.\n",
    "\n",
    "NOTE\n",
    "When originally designing pandas, I felt that having to type frame[:, col] to select a column was too verbose (and error-prone), since column selection is one of the most common operations. I made the design trade-off to push all of the fancy indexing behavior (both labels and integers) into the ix operator. In practice, this led to many edge cases in data with integer axis labels, so the pandas team decided to create the loc and iloc operators to deal with strictly label-based and integer-based indexing, respectively.\n",
    "\n",
    "The ix indexing operator still exists, but it is deprecated. I do not recommend using it.\n",
    "\n",
    "Table 5-4. Indexing options with DataFrame\n",
    "Type\tNotes\n",
    "df[val]\tSelect single column or sequence of columns from the DataFrame; special case conveniences: boolean array (filter rows), slice (slice rows), or boolean DataFrame (set values based on some criterion)\n",
    "df.loc[val]\tSelects single row or subset of rows from the DataFrame by label\n",
    "df.loc[:, val]\tSelects single column or subset of columns by label\n",
    "df.loc[val1, val2]\tSelect both rows and columns by label\n",
    "df.iloc[where]\tSelects single row or subset of rows from the DataFrame by integer position\n",
    "df.iloc[:, where]\tSelects single column or subset of columns by integer position\n",
    "df.iloc[where_i, where_j]\tSelect both rows and columns by integer position\n",
    "df.at[label_i, label_j]\tSelect a single scalar value by row and column label\n",
    "df.iat[i, j]\tSelect a single scalar value by row and column position (integers)\n",
    "reindex method\tSelect either rows or columns by labels\n",
    "get_value, set_value methods\tSelect single value by row and column label\n",
    "Integer Indexes\n",
    "Working with pandas objects indexed by integers is something that often trips up new users due to some differences with indexing semantics on built-in Python data structures like lists and tuples. For example, you might not expect the following code to generate an error:\n",
    "\n",
    "ser = pd.Series(np.arange(3.))\n",
    "ser\n",
    "ser[-1]\n",
    "In this case, pandas could “fall back” on integer indexing, but it’s difficult to do this in general without introducing subtle bugs. Here we have an index containing 0, 1, 2, but inferring what the user wants (label-based indexing or position-based) is difficult:\n",
    "\n",
    "In [146]: ser\n",
    "Out[146]: \n",
    "0    0.0\n",
    "1    1.0\n",
    "2    2.0\n",
    "dtype: float64\n",
    "On the other hand, with a non-integer index, there is no potential for ambiguity:\n",
    "\n",
    "In [147]: ser2 = pd.Series(np.arange(3.), index=['a', 'b', 'c'])\n",
    "\n",
    "In [148]: ser2[-1]\n",
    "Out[148]: 2.0\n",
    "If you have an axis index containing integers, data selection will always be label-oriented. For more precise handling, use loc (for labels) or iloc (for integers):\n",
    "\n",
    "In [149]: ser[-1]\n",
    "---------------------------------------------------------------------------\n",
    "KeyError                                  Traceback (most recent call last)\n",
    "<ipython-input-149-3cbe0b873a9e> in <module>()\n",
    "----> 1 ser[-1]\n",
    "/miniconda/envs/book-env/lib/python3.6/site-packages/pandas/core/series.py in __g\n",
    "etitem__(self, key)\n",
    "    777         key = com.apply_if_callable(key, self)\n",
    "    778         try:\n",
    "--> 779             result = self.index.get_value(self, key)\n",
    "    780 \n",
    "    781             if not is_scalar(result):\n",
    "/miniconda/envs/book-env/lib/python3.6/site-packages/pandas/core/indexes/base.py \n",
    "in get_value(self, series, key)\n",
    "   3138         try:\n",
    "   3139             return self._engine.get_value(s, k,\n",
    "-> 3140                                           tz=getattr(series.dtype, 'tz', \n",
    "None))\n",
    "   3141         except KeyError as e1:\n",
    "   3142             if len(self) > 0 and self.inferred_type in ['integer', 'boole\n",
    "an']:\n",
    "pandas/_libs/index.pyx in pandas._libs.index.IndexEngine.get_value()\n",
    "pandas/_libs/index.pyx in pandas._libs.index.IndexEngine.get_value()\n",
    "pandas/_libs/index.pyx in pandas._libs.index.IndexEngine.get_loc()\n",
    "pandas/_libs/hashtable_class_helper.pxi in pandas._libs.hashtable.Int64HashTable.\n",
    "get_item()\n",
    "pandas/_libs/hashtable_class_helper.pxi in pandas._libs.hashtable.Int64HashTable.\n",
    "get_item()\n",
    "KeyError: -1\n",
    "\n",
    "In [150]: ser.iloc[-1]\n",
    "Out[150]: 2.0\n",
    "On the other hand, slicing with integers is always integer-oriented:\n",
    "\n",
    "In [151]: ser[:2]\n",
    "Out[151]: \n",
    "0    0.0\n",
    "1    1.0\n",
    "dtype: float64\n",
    "Arithmetic and Data Alignment\n",
    "An important pandas feature for some applications is the behavior of arithmetic between objects with different indexes. When you are adding together objects, if any index pairs are not the same, the respective index in the result will be the union of the index pairs. For users with database experience, this is similar to an automatic outer join on the index labels. Let’s look at an example:\n",
    "\n",
    "In [152]: s1 = pd.Series([7.3, -2.5, 3.4, 1.5], index=['a', 'c', 'd', 'e'])\n",
    "\n",
    "In [153]: s2 = pd.Series([-2.1, 3.6, -1.5, 4, 3.1],\n",
    "   .....:                index=['a', 'c', 'e', 'f', 'g'])\n",
    "\n",
    "In [154]: s1\n",
    "Out[154]: \n",
    "a    7.3\n",
    "c   -2.5\n",
    "d    3.4\n",
    "e    1.5\n",
    "dtype: float64\n",
    "\n",
    "In [155]: s2\n",
    "Out[155]: \n",
    "a   -2.1\n",
    "c    3.6\n",
    "e   -1.5\n",
    "f    4.0\n",
    "g    3.1\n",
    "dtype: float64\n",
    "Adding these together yields:\n",
    "\n",
    "In [156]: s1 + s2\n",
    "Out[156]: \n",
    "a    5.2\n",
    "c    1.1\n",
    "d    NaN\n",
    "e    0.0\n",
    "f    NaN\n",
    "g    NaN\n",
    "dtype: float64\n",
    "The internal data alignment introduces missing values in the label locations that don’t overlap. Missing values will then propagate in further arithmetic computations.\n",
    "\n",
    "In the case of DataFrame, alignment is performed on both the rows and the columns:\n",
    "\n",
    "In [157]: df1 = pd.DataFrame(np.arange(9.).reshape((3, 3)), columns=list('bcd'),\n",
    "   .....:                    index=['Ohio', 'Texas', 'Colorado'])\n",
    "\n",
    "In [158]: df2 = pd.DataFrame(np.arange(12.).reshape((4, 3)), columns=list('bde'),\n",
    "   .....:                    index=['Utah', 'Ohio', 'Texas', 'Oregon'])\n",
    "\n",
    "In [159]: df1\n",
    "Out[159]: \n",
    "            b    c    d\n",
    "Ohio      0.0  1.0  2.0\n",
    "Texas     3.0  4.0  5.0\n",
    "Colorado  6.0  7.0  8.0\n",
    "\n",
    "In [160]: df2\n",
    "Out[160]: \n",
    "          b     d     e\n",
    "Utah    0.0   1.0   2.0\n",
    "Ohio    3.0   4.0   5.0\n",
    "Texas   6.0   7.0   8.0\n",
    "Oregon  9.0  10.0  11.0\n",
    "Adding these together returns a DataFrame whose index and columns are the unions of the ones in each DataFrame:\n",
    "\n",
    "In [161]: df1 + df2\n",
    "Out[161]: \n",
    "            b   c     d   e\n",
    "Colorado  NaN NaN   NaN NaN\n",
    "Ohio      3.0 NaN   6.0 NaN\n",
    "Oregon    NaN NaN   NaN NaN\n",
    "Texas     9.0 NaN  12.0 NaN\n",
    "Utah      NaN NaN   NaN NaN\n",
    "Since the 'c' and 'e' columns are not found in both DataFrame objects, they appear as all missing in the result. The same holds for the rows whose labels are not common to both objects.\n",
    "\n",
    "If you add DataFrame objects with no column or row labels in common, the result will contain all nulls:\n",
    "\n",
    "In [162]: df1 = pd.DataFrame({'A': [1, 2]})\n",
    "\n",
    "In [163]: df2 = pd.DataFrame({'B': [3, 4]})\n",
    "\n",
    "In [164]: df1\n",
    "Out[164]: \n",
    "   A\n",
    "0  1\n",
    "1  2\n",
    "\n",
    "In [165]: df2\n",
    "Out[165]: \n",
    "   B\n",
    "0  3\n",
    "1  4\n",
    "\n",
    "In [166]: df1 - df2\n",
    "Out[166]: \n",
    "    A   B\n",
    "0 NaN NaN\n",
    "1 NaN NaN\n",
    "Arithmetic methods with fill values\n",
    "In arithmetic operations between differently indexed objects, you might want to fill with a special value, like 0, when an axis label is found in one object but not the other:\n",
    "\n",
    "In [167]: df1 = pd.DataFrame(np.arange(12.).reshape((3, 4)),\n",
    "   .....:                    columns=list('abcd'))\n",
    "\n",
    "In [168]: df2 = pd.DataFrame(np.arange(20.).reshape((4, 5)),\n",
    "   .....:                    columns=list('abcde'))\n",
    "\n",
    "In [169]: df2.loc[1, 'b'] = np.nan\n",
    "\n",
    "In [170]: df1\n",
    "Out[170]: \n",
    "     a    b     c     d\n",
    "0  0.0  1.0   2.0   3.0\n",
    "1  4.0  5.0   6.0   7.0\n",
    "2  8.0  9.0  10.0  11.0\n",
    "\n",
    "In [171]: df2\n",
    "Out[171]: \n",
    "      a     b     c     d     e\n",
    "0   0.0   1.0   2.0   3.0   4.0\n",
    "1   5.0   NaN   7.0   8.0   9.0\n",
    "2  10.0  11.0  12.0  13.0  14.0\n",
    "3  15.0  16.0  17.0  18.0  19.0\n",
    "Adding these together results in NA values in the locations that don’t overlap:\n",
    "\n",
    "In [172]: df1 + df2\n",
    "Out[172]: \n",
    "      a     b     c     d   e\n",
    "0   0.0   2.0   4.0   6.0 NaN\n",
    "1   9.0   NaN  13.0  15.0 NaN\n",
    "2  18.0  20.0  22.0  24.0 NaN\n",
    "3   NaN   NaN   NaN   NaN NaN\n",
    "Using the add method on df1, I pass df2 and an argument to fill_value:\n",
    "\n",
    "In [173]: df1.add(df2, fill_value=0)\n",
    "Out[173]: \n",
    "      a     b     c     d     e\n",
    "0   0.0   2.0   4.0   6.0   4.0\n",
    "1   9.0   5.0  13.0  15.0   9.0\n",
    "2  18.0  20.0  22.0  24.0  14.0\n",
    "3  15.0  16.0  17.0  18.0  19.0\n",
    "See Table 5-5 for a listing of Series and DataFrame methods for arithmetic. Each of them has a counterpart, starting with the letter r, that has arguments flipped. So these two statements are equivalent:\n",
    "\n",
    "In [174]: 1 / df1\n",
    "Out[174]: \n",
    "          a         b         c         d\n",
    "0       inf  1.000000  0.500000  0.333333\n",
    "1  0.250000  0.200000  0.166667  0.142857\n",
    "2  0.125000  0.111111  0.100000  0.090909\n",
    "\n",
    "In [175]: df1.rdiv(1)\n",
    "Out[175]: \n",
    "          a         b         c         d\n",
    "0       inf  1.000000  0.500000  0.333333\n",
    "1  0.250000  0.200000  0.166667  0.142857\n",
    "2  0.125000  0.111111  0.100000  0.090909\n",
    "Relatedly, when reindexing a Series or DataFrame, you can also specify a different fill value:\n",
    "\n",
    "In [176]: df1.reindex(columns=df2.columns, fill_value=0)\n",
    "Out[176]: \n",
    "     a    b     c     d  e\n",
    "0  0.0  1.0   2.0   3.0  0\n",
    "1  4.0  5.0   6.0   7.0  0\n",
    "2  8.0  9.0  10.0  11.0  0\n",
    "Table 5-5. Flexible arithmetic methods\n",
    "Method\tDescription\n",
    "add, radd\tMethods for addition (+)\n",
    "sub, rsub\tMethods for subtraction (-)\n",
    "div, rdiv\tMethods for division (/)\n",
    "floordiv, rfloordiv\tMethods for floor division (//)\n",
    "mul, rmul\tMethods for multiplication (*)\n",
    "pow, rpow\tMethods for exponentiation (**)\n",
    "Operations between DataFrame and Series\n",
    "As with NumPy arrays of different dimensions, arithmetic between DataFrame and Series is also defined. First, as a motivating example, consider the difference between a two-dimensional array and one of its rows:\n",
    "\n",
    "In [177]: arr = np.arange(12.).reshape((3, 4))\n",
    "\n",
    "In [178]: arr\n",
    "Out[178]: \n",
    "array([[ 0.,  1.,  2.,  3.],\n",
    "       [ 4.,  5.,  6.,  7.],\n",
    "       [ 8.,  9., 10., 11.]])\n",
    "\n",
    "In [179]: arr[0]\n",
    "Out[179]: array([0., 1., 2., 3.])\n",
    "\n",
    "In [180]: arr - arr[0]\n",
    "Out[180]: \n",
    "array([[0., 0., 0., 0.],\n",
    "       [4., 4., 4., 4.],\n",
    "       [8., 8., 8., 8.]])\n",
    "When we subtract arr[0] from arr, the subtraction is performed once for each row. This is referred to as broadcasting and is explained in more detail as it relates to general NumPy arrays in Appendix A. Operations between a DataFrame and a Series are similar:\n",
    "\n",
    "In [181]: frame = pd.DataFrame(np.arange(12.).reshape((4, 3)),\n",
    "   .....:                      columns=list('bde'),\n",
    "   .....:                      index=['Utah', 'Ohio', 'Texas', 'Oregon'])\n",
    "\n",
    "In [182]: series = frame.iloc[0]\n",
    "\n",
    "In [183]: frame\n",
    "Out[183]: \n",
    "          b     d     e\n",
    "Utah    0.0   1.0   2.0\n",
    "Ohio    3.0   4.0   5.0\n",
    "Texas   6.0   7.0   8.0\n",
    "Oregon  9.0  10.0  11.0\n",
    "\n",
    "In [184]: series\n",
    "Out[184]: \n",
    "b    0.0\n",
    "d    1.0\n",
    "e    2.0\n",
    "Name: Utah, dtype: float64\n",
    "By default, arithmetic between DataFrame and Series matches the index of the Series on the DataFrame’s columns, broadcasting down the rows:\n",
    "\n",
    "In [185]: frame - series\n",
    "Out[185]: \n",
    "          b    d    e\n",
    "Utah    0.0  0.0  0.0\n",
    "Ohio    3.0  3.0  3.0\n",
    "Texas   6.0  6.0  6.0\n",
    "Oregon  9.0  9.0  9.0\n",
    "If an index value is not found in either the DataFrame’s columns or the Series’s index, the objects will be reindexed to form the union:\n",
    "\n",
    "In [186]: series2 = pd.Series(range(3), index=['b', 'e', 'f'])\n",
    "\n",
    "In [187]: frame + series2\n",
    "Out[187]: \n",
    "          b   d     e   f\n",
    "Utah    0.0 NaN   3.0 NaN\n",
    "Ohio    3.0 NaN   6.0 NaN\n",
    "Texas   6.0 NaN   9.0 NaN\n",
    "Oregon  9.0 NaN  12.0 NaN\n",
    "If you want to instead broadcast over the columns, matching on the rows, you have to use one of the arithmetic methods. For example:\n",
    "\n",
    "In [188]: series3 = frame['d']\n",
    "\n",
    "In [189]: frame\n",
    "Out[189]: \n",
    "          b     d     e\n",
    "Utah    0.0   1.0   2.0\n",
    "Ohio    3.0   4.0   5.0\n",
    "Texas   6.0   7.0   8.0\n",
    "Oregon  9.0  10.0  11.0\n",
    "\n",
    "In [190]: series3\n",
    "Out[190]: \n",
    "Utah       1.0\n",
    "Ohio       4.0\n",
    "Texas      7.0\n",
    "Oregon    10.0\n",
    "Name: d, dtype: float64\n",
    "\n",
    "In [191]: frame.sub(series3, axis='index')\n",
    "Out[191]: \n",
    "          b    d    e\n",
    "Utah   -1.0  0.0  1.0\n",
    "Ohio   -1.0  0.0  1.0\n",
    "Texas  -1.0  0.0  1.0\n",
    "Oregon -1.0  0.0  1.0\n",
    "The axis number that you pass is the axis to match on. In this case we mean to match on the DataFrame’s row index (axis='index' or axis=0) and broadcast across.\n",
    "\n",
    "Function Application and Mapping\n",
    "NumPy ufuncs (element-wise array methods) also work with pandas objects:\n",
    "\n",
    "In [192]: frame = pd.DataFrame(np.random.randn(4, 3), columns=list('bde'),\n",
    "   .....:                      index=['Utah', 'Ohio', 'Texas', 'Oregon'])\n",
    "\n",
    "In [193]: frame\n",
    "Out[193]: \n",
    "               b         d         e\n",
    "Utah   -0.204708  0.478943 -0.519439\n",
    "Ohio   -0.555730  1.965781  1.393406\n",
    "Texas   0.092908  0.281746  0.769023\n",
    "Oregon  1.246435  1.007189 -1.296221\n",
    "\n",
    "In [194]: np.abs(frame)\n",
    "Out[194]: \n",
    "               b         d         e\n",
    "Utah    0.204708  0.478943  0.519439\n",
    "Ohio    0.555730  1.965781  1.393406\n",
    "Texas   0.092908  0.281746  0.769023\n",
    "Oregon  1.246435  1.007189  1.296221\n",
    "Another frequent operation is applying a function on one-dimensional arrays to each column or row. DataFrame’s apply method does exactly this:\n",
    "\n",
    "In [195]: f = lambda x: x.max() - x.min()\n",
    "\n",
    "In [196]: frame.apply(f)\n",
    "Out[196]: \n",
    "b    1.802165\n",
    "d    1.684034\n",
    "e    2.689627\n",
    "dtype: float64\n",
    "Here the function f, which computes the difference between the maximum and minimum of a Series, is invoked once on each column in frame. The result is a Series having the columns of frame as its index.\n",
    "\n",
    "If you pass axis='columns' to apply, the function will be invoked once per row instead:\n",
    "\n",
    "In [197]: frame.apply(f, axis='columns')\n",
    "Out[197]: \n",
    "Utah      0.998382\n",
    "Ohio      2.521511\n",
    "Texas     0.676115\n",
    "Oregon    2.542656\n",
    "dtype: float64\n",
    "Many of the most common array statistics (like sum and mean) are DataFrame methods, so using apply is not necessary.\n",
    "\n",
    "The function passed to apply need not return a scalar value; it can also return a Series with multiple values:\n",
    "\n",
    "In [198]: def f(x):\n",
    "   .....:     return pd.Series([x.min(), x.max()], index=['min', 'max'])\n",
    "\n",
    "In [199]: frame.apply(f)\n",
    "Out[199]: \n",
    "            b         d         e\n",
    "min -0.555730  0.281746 -1.296221\n",
    "max  1.246435  1.965781  1.393406\n",
    "Element-wise Python functions can be used, too. Suppose you wanted to compute a formatted string from each floating-point value in frame. You can do this with applymap:\n",
    "\n",
    "In [200]: format = lambda x: '%.2f' % x\n",
    "\n",
    "In [201]: frame.applymap(format)\n",
    "Out[201]: \n",
    "            b     d      e\n",
    "Utah    -0.20  0.48  -0.52\n",
    "Ohio    -0.56  1.97   1.39\n",
    "Texas    0.09  0.28   0.77\n",
    "Oregon   1.25  1.01  -1.30\n",
    "The reason for the name applymap is that Series has a map method for applying an element-wise function:\n",
    "\n",
    "In [202]: frame['e'].map(format)\n",
    "Out[202]: \n",
    "Utah      -0.52\n",
    "Ohio       1.39\n",
    "Texas      0.77\n",
    "Oregon    -1.30\n",
    "Name: e, dtype: object\n",
    "Sorting and Ranking\n",
    "Sorting a dataset by some criterion is another important built-in operation. To sort lexicographically by row or column index, use the sort_index method, which returns a new, sorted object:\n",
    "\n",
    "In [203]: obj = pd.Series(range(4), index=['d', 'a', 'b', 'c'])\n",
    "\n",
    "In [204]: obj.sort_index()\n",
    "Out[204]: \n",
    "a    1\n",
    "b    2\n",
    "c    3\n",
    "d    0\n",
    "dtype: int64\n",
    "With a DataFrame, you can sort by index on either axis:\n",
    "\n",
    "In [205]: frame = pd.DataFrame(np.arange(8).reshape((2, 4)),\n",
    "   .....:                      index=['three', 'one'],\n",
    "   .....:                      columns=['d', 'a', 'b', 'c'])\n",
    "\n",
    "In [206]: frame.sort_index()\n",
    "Out[206]: \n",
    "       d  a  b  c\n",
    "one    4  5  6  7\n",
    "three  0  1  2  3\n",
    "\n",
    "In [207]: frame.sort_index(axis=1)\n",
    "Out[207]: \n",
    "       a  b  c  d\n",
    "three  1  2  3  0\n",
    "one    5  6  7  4\n",
    "The data is sorted in ascending order by default, but can be sorted in descending order, too:\n",
    "\n",
    "In [208]: frame.sort_index(axis=1, ascending=False)\n",
    "Out[208]: \n",
    "       d  c  b  a\n",
    "three  0  3  2  1\n",
    "one    4  7  6  5\n",
    "To sort a Series by its values, use its sort_values method:\n",
    "\n",
    "In [209]: obj = pd.Series([4, 7, -3, 2])\n",
    "\n",
    "In [210]: obj.sort_values()\n",
    "Out[210]: \n",
    "2   -3\n",
    "3    2\n",
    "0    4\n",
    "1    7\n",
    "dtype: int64\n",
    "Any missing values are sorted to the end of the Series by default:\n",
    "\n",
    "In [211]: obj = pd.Series([4, np.nan, 7, np.nan, -3, 2])\n",
    "\n",
    "In [212]: obj.sort_values()\n",
    "Out[212]: \n",
    "4   -3.0\n",
    "5    2.0\n",
    "0    4.0\n",
    "2    7.0\n",
    "1    NaN\n",
    "3    NaN\n",
    "dtype: float64\n",
    "When sorting a DataFrame, you can use the data in one or more columns as the sort keys. To do so, pass one or more column names to the by option of sort_values:\n",
    "\n",
    "In [213]: frame = pd.DataFrame({'b': [4, 7, -3, 2], 'a': [0, 1, 0, 1]})\n",
    "\n",
    "In [214]: frame\n",
    "Out[214]: \n",
    "   b  a\n",
    "0  4  0\n",
    "1  7  1\n",
    "2 -3  0\n",
    "3  2  1\n",
    "\n",
    "In [215]: frame.sort_values(by='b')\n",
    "Out[215]: \n",
    "   b  a\n",
    "2 -3  0\n",
    "3  2  1\n",
    "0  4  0\n",
    "1  7  1\n",
    "To sort by multiple columns, pass a list of names:\n",
    "\n",
    "In [216]: frame.sort_values(by=['a', 'b'])\n",
    "Out[216]: \n",
    "   b  a\n",
    "2 -3  0\n",
    "0  4  0\n",
    "3  2  1\n",
    "1  7  1\n",
    "Ranking assigns ranks from one through the number of valid data points in an array. The rank methods for Series and DataFrame are the place to look; by default rank breaks ties by assigning each group the mean rank:\n",
    "\n",
    "In [217]: obj = pd.Series([7, -5, 7, 4, 2, 0, 4])\n",
    "\n",
    "In [218]: obj.rank()\n",
    "Out[218]: \n",
    "0    6.5\n",
    "1    1.0\n",
    "2    6.5\n",
    "3    4.5\n",
    "4    3.0\n",
    "5    2.0\n",
    "6    4.5\n",
    "dtype: float64\n",
    "Ranks can also be assigned according to the order in which they’re observed in the data:\n",
    "\n",
    "In [219]: obj.rank(method='first')\n",
    "Out[219]: \n",
    "0    6.0\n",
    "1    1.0\n",
    "2    7.0\n",
    "3    4.0\n",
    "4    3.0\n",
    "5    2.0\n",
    "6    5.0\n",
    "dtype: float64\n",
    "Here, instead of using the average rank 6.5 for the entries 0 and 2, they instead have been set to 6 and 7 because label 0 precedes label 2 in the data.\n",
    "\n",
    "You can rank in descending order, too:\n",
    "\n",
    "# Assign tie values the maximum rank in the group\n",
    "In [220]: obj.rank(ascending=False, method='max')\n",
    "Out[220]: \n",
    "0    2.0\n",
    "1    7.0\n",
    "2    2.0\n",
    "3    4.0\n",
    "4    5.0\n",
    "5    6.0\n",
    "6    4.0\n",
    "dtype: float64\n",
    "See Table 5-6 for a list of tie-breaking methods available.\n",
    "\n",
    "DataFrame can compute ranks over the rows or the columns:\n",
    "\n",
    "In [221]: frame = pd.DataFrame({'b': [4.3, 7, -3, 2], 'a': [0, 1, 0, 1],\n",
    "   .....:                       'c': [-2, 5, 8, -2.5]})\n",
    "\n",
    "In [222]: frame\n",
    "Out[222]: \n",
    "     b  a    c\n",
    "0  4.3  0 -2.0\n",
    "1  7.0  1  5.0\n",
    "2 -3.0  0  8.0\n",
    "3  2.0  1 -2.5\n",
    "\n",
    "In [223]: frame.rank(axis='columns')\n",
    "Out[223]: \n",
    "     b    a    c\n",
    "0  3.0  2.0  1.0\n",
    "1  3.0  1.0  2.0\n",
    "2  1.0  2.0  3.0\n",
    "3  3.0  2.0  1.0\n",
    "Table 5-6. Tie-breaking methods with rank\n",
    "Method\tDescription\n",
    "'average'\tDefault: assign the average rank to each entry in the equal group\n",
    "'min'\tUse the minimum rank for the whole group\n",
    "'max'\tUse the maximum rank for the whole group\n",
    "'first'\tAssign ranks in the order the values appear in the data\n",
    "'dense'\tLike method='min', but ranks always increase by 1 in between groups rather than the number of equal elements in a group\n",
    "Axis Indexes with Duplicate Labels\n",
    "Up until now all of the examples we’ve looked at have had unique axis labels (index values). While many pandas functions (like reindex) require that the labels be unique, it’s not mandatory. Let’s consider a small Series with duplicate indices:\n",
    "\n",
    "In [224]: obj = pd.Series(range(5), index=['a', 'a', 'b', 'b', 'c'])\n",
    "\n",
    "In [225]: obj\n",
    "Out[225]: \n",
    "a    0\n",
    "a    1\n",
    "b    2\n",
    "b    3\n",
    "c    4\n",
    "dtype: int64\n",
    "The index’s is_unique property can tell you whether its labels are unique or not:\n",
    "\n",
    "In [226]: obj.index.is_unique\n",
    "Out[226]: False\n",
    "Data selection is one of the main things that behaves differently with duplicates. Indexing a label with multiple entries returns a Series, while single entries return a scalar value:\n",
    "\n",
    "In [227]: obj['a']\n",
    "Out[227]: \n",
    "a    0\n",
    "a    1\n",
    "dtype: int64\n",
    "\n",
    "In [228]: obj['c']\n",
    "Out[228]: 4\n",
    "This can make your code more complicated, as the output type from indexing can vary based on whether a label is repeated or not.\n",
    "\n",
    "The same logic extends to indexing rows in a DataFrame:\n",
    "\n",
    "In [229]: df = pd.DataFrame(np.random.randn(4, 3), index=['a', 'a', 'b', 'b'])\n",
    "\n",
    "In [230]: df\n",
    "Out[230]: \n",
    "          0         1         2\n",
    "a  0.274992  0.228913  1.352917\n",
    "a  0.886429 -2.001637 -0.371843\n",
    "b  1.669025 -0.438570 -0.539741\n",
    "b  0.476985  3.248944 -1.021228\n",
    "\n",
    "In [231]: df.loc['b']\n",
    "Out[231]: \n",
    "          0         1         2\n",
    "b  1.669025 -0.438570 -0.539741\n",
    "b  0.476985  3.248944 -1.021228\n",
    "5.3 Summarizing and Computing Descriptive Statistics\n",
    "pandas objects are equipped with a set of common mathematical and statistical methods. Most of these fall into the category of reductions or summary statistics, methods that extract a single value (like the sum or mean) from a Series or a Series of values from the rows or columns of a DataFrame. Compared with the similar methods found on NumPy arrays, they have built-in handling for missing data. Consider a small DataFrame:\n",
    "\n",
    "In [232]: df = pd.DataFrame([[1.4, np.nan], [7.1, -4.5],\n",
    "   .....:                    [np.nan, np.nan], [0.75, -1.3]],\n",
    "   .....:                   index=['a', 'b', 'c', 'd'],\n",
    "   .....:                   columns=['one', 'two'])\n",
    "\n",
    "In [233]: df\n",
    "Out[233]: \n",
    "    one  two\n",
    "a  1.40  NaN\n",
    "b  7.10 -4.5\n",
    "c   NaN  NaN\n",
    "d  0.75 -1.3\n",
    "Calling DataFrame’s sum method returns a Series containing column sums:\n",
    "\n",
    "In [234]: df.sum()\n",
    "Out[234]: \n",
    "one    9.25\n",
    "two   -5.80\n",
    "dtype: float64\n",
    "Passing axis='columns' or axis=1 sums across the columns instead:\n",
    "\n",
    "In [235]: df.sum(axis='columns')\n",
    "Out[235]: \n",
    "a    1.40\n",
    "b    2.60\n",
    "c    0.00\n",
    "d   -0.55\n",
    "dtype: float64\n",
    "NA values are excluded unless the entire slice (row or column in this case) is NA. This can be disabled with the skipna option:\n",
    "\n",
    "In [236]: df.mean(axis='columns', skipna=False)\n",
    "Out[236]: \n",
    "a      NaN\n",
    "b    1.300\n",
    "c      NaN\n",
    "d   -0.275\n",
    "dtype: float64\n",
    "See Table 5-7 for a list of common options for each reduction method.\n",
    "\n",
    "Table 5-7. Options for reduction methods\n",
    "Method\tDescription\n",
    "axis\tAxis to reduce over; 0 for DataFrame’s rows and 1 for columns\n",
    "skipna\tExclude missing values; True by default\n",
    "level\tReduce grouped by level if the axis is hierarchically indexed (MultiIndex)\n",
    "Some methods, like idxmin and idxmax, return indirect statistics like the index value where the minimum or maximum values are attained:\n",
    "\n",
    "In [237]: df.idxmax()\n",
    "Out[237]: \n",
    "one    b\n",
    "two    d\n",
    "dtype: object\n",
    "Other methods are accumulations:\n",
    "\n",
    "In [238]: df.cumsum()\n",
    "Out[238]: \n",
    "    one  two\n",
    "a  1.40  NaN\n",
    "b  8.50 -4.5\n",
    "c   NaN  NaN\n",
    "d  9.25 -5.8\n",
    "Another type of method is neither a reduction nor an accumulation. describe is one such example, producing multiple summary statistics in one shot:\n",
    "\n",
    "In [239]: df.describe()\n",
    "Out[239]: \n",
    "            one       two\n",
    "count  3.000000  2.000000\n",
    "mean   3.083333 -2.900000\n",
    "std    3.493685  2.262742\n",
    "min    0.750000 -4.500000\n",
    "25%    1.075000 -3.700000\n",
    "50%    1.400000 -2.900000\n",
    "75%    4.250000 -2.100000\n",
    "max    7.100000 -1.300000\n",
    "On non-numeric data, describe produces alternative summary statistics:\n",
    "\n",
    "In [240]: obj = pd.Series(['a', 'a', 'b', 'c'] * 4)\n",
    "\n",
    "In [241]: obj.describe()\n",
    "Out[241]: \n",
    "count     16\n",
    "unique     3\n",
    "top        a\n",
    "freq       8\n",
    "dtype: object\n",
    "See Table 5-8 for a full list of summary statistics and related methods.\n",
    "\n",
    "Table 5-8. Descriptive and summary statistics\n",
    "Method\tDescription\n",
    "count\tNumber of non-NA values\n",
    "describe\tCompute set of summary statistics for Series or each DataFrame column\n",
    "min, max\tCompute minimum and maximum values\n",
    "argmin, argmax\tCompute index locations (integers) at which minimum or maximum value obtained, respectively\n",
    "idxmin, idxmax\tCompute index labels at which minimum or maximum value obtained, respectively\n",
    "quantile\tCompute sample quantile ranging from 0 to 1\n",
    "sum\tSum of values\n",
    "mean\tMean of values\n",
    "median\tArithmetic median (50% quantile) of values\n",
    "mad\tMean absolute deviation from mean value\n",
    "prod\tProduct of all values\n",
    "var\tSample variance of values\n",
    "std\tSample standard deviation of values\n",
    "skew\tSample skewness (third moment) of values\n",
    "kurt\tSample kurtosis (fourth moment) of values\n",
    "cumsum\tCumulative sum of values\n",
    "cummin, cummax\tCumulative minimum or maximum of values, respectively\n",
    "cumprod\tCumulative product of values\n",
    "diff\tCompute first arithmetic difference (useful for time series)\n",
    "pct_change\tCompute percent changes\n",
    "Correlation and Covariance\n",
    "Some summary statistics, like correlation and covariance, are computed from pairs of arguments. Let’s consider some DataFrames of stock prices and volumes obtained from Yahoo! Finance using the add-on pandas-datareader package. If you don’t have it installed already, it can be obtained via conda or pip:\n",
    "\n",
    "conda install pandas-datareader\n",
    "I use the pandas_datareader module to download some data for a few stock tickers:\n",
    "\n",
    "import pandas_datareader.data as web\n",
    "all_data = {ticker: web.get_data_yahoo(ticker)\n",
    "            for ticker in ['AAPL', 'IBM', 'MSFT', 'GOOG']}\n",
    "\n",
    "price = pd.DataFrame({ticker: data['Adj Close']\n",
    "                     for ticker, data in all_data.items()})\n",
    "volume = pd.DataFrame({ticker: data['Volume']\n",
    "                      for ticker, data in all_data.items()})\n",
    "CAUTION\n",
    "It’s possible by the time you are reading this that Yahoo! Finance no longer exists since Yahoo! was acquired by Verizon in 2017. Refer to the pandas-datareader documentation online for the latest functionality.\n",
    "\n",
    "I now compute percent changes of the prices, a time series operation which will be explored further in Chapter 11:\n",
    "\n",
    "In [244]: returns = price.pct_change()\n",
    "\n",
    "In [245]: returns.tail()\n",
    "Out[245]: \n",
    "                AAPL      GOOG       IBM      MSFT\n",
    "Date                                              \n",
    "2016-10-17 -0.000680  0.001837  0.002072 -0.003483\n",
    "2016-10-18 -0.000681  0.019616 -0.026168  0.007690\n",
    "2016-10-19 -0.002979  0.007846  0.003583 -0.002255\n",
    "2016-10-20 -0.000512 -0.005652  0.001719 -0.004867\n",
    "2016-10-21 -0.003930  0.003011 -0.012474  0.042096\n",
    "The corr method of Series computes the correlation of the overlapping, non-NA, aligned-by-index values in two Series. Relatedly, cov computes the covariance:\n",
    "\n",
    "In [246]: returns['MSFT'].corr(returns['IBM'])\n",
    "Out[246]: 0.49976361144151144\n",
    "\n",
    "In [247]: returns['MSFT'].cov(returns['IBM'])\n",
    "Out[247]: 8.870655479703546e-05\n",
    "Since MSFT is a valid Python attribute, we can also select these columns using more concise syntax:\n",
    "\n",
    "In [248]: returns.MSFT.corr(returns.IBM)\n",
    "Out[248]: 0.49976361144151144\n",
    "DataFrame’s corr and cov methods, on the other hand, return a full correlation or covariance matrix as a DataFrame, respectively:\n",
    "\n",
    "In [249]: returns.corr()\n",
    "Out[249]: \n",
    "          AAPL      GOOG       IBM      MSFT\n",
    "AAPL  1.000000  0.407919  0.386817  0.389695\n",
    "GOOG  0.407919  1.000000  0.405099  0.465919\n",
    "IBM   0.386817  0.405099  1.000000  0.499764\n",
    "MSFT  0.389695  0.465919  0.499764  1.000000\n",
    "\n",
    "In [250]: returns.cov()\n",
    "Out[250]: \n",
    "          AAPL      GOOG       IBM      MSFT\n",
    "AAPL  0.000277  0.000107  0.000078  0.000095\n",
    "GOOG  0.000107  0.000251  0.000078  0.000108\n",
    "IBM   0.000078  0.000078  0.000146  0.000089\n",
    "MSFT  0.000095  0.000108  0.000089  0.000215\n",
    "Using DataFrame’s corrwith method, you can compute pairwise correlations between a DataFrame’s columns or rows with another Series or DataFrame. Passing a Series returns a Series with the correlation value computed for each column:\n",
    "\n",
    "In [251]: returns.corrwith(returns.IBM)\n",
    "Out[251]: \n",
    "AAPL    0.386817\n",
    "GOOG    0.405099\n",
    "IBM     1.000000\n",
    "MSFT    0.499764\n",
    "dtype: float64\n",
    "Passing a DataFrame computes the correlations of matching column names. Here I compute correlations of percent changes with volume:\n",
    "\n",
    "In [252]: returns.corrwith(volume)\n",
    "Out[252]: \n",
    "AAPL   -0.075565\n",
    "GOOG   -0.007067\n",
    "IBM    -0.204849\n",
    "MSFT   -0.092950\n",
    "dtype: float64\n",
    "Passing axis='columns' does things row-by-row instead. In all cases, the data points are aligned by label before the correlation is computed.\n",
    "\n",
    "Unique Values, Value Counts, and Membership\n",
    "Another class of related methods extracts information about the values contained in a one-dimensional Series. To illustrate these, consider this example:\n",
    "\n",
    "In [253]: obj = pd.Series(['c', 'a', 'd', 'a', 'a', 'b', 'b', 'c', 'c'])\n",
    "The first function is unique, which gives you an array of the unique values in a Series:\n",
    "\n",
    "In [254]: uniques = obj.unique()\n",
    "\n",
    "In [255]: uniques\n",
    "Out[255]: array(['c', 'a', 'd', 'b'], dtype=object)\n",
    "The unique values are not necessarily returned in sorted order, but could be sorted after the fact if needed (uniques.sort()). Relatedly, value_counts computes a Series containing value frequencies:\n",
    "\n",
    "In [256]: obj.value_counts()\n",
    "Out[256]: \n",
    "a    3\n",
    "c    3\n",
    "b    2\n",
    "d    1\n",
    "dtype: int64\n",
    "The Series is sorted by value in descending order as a convenience. value_counts is also available as a top-level pandas method that can be used with any array or sequence:\n",
    "\n",
    "In [257]: pd.value_counts(obj.values, sort=False)\n",
    "Out[257]: \n",
    "c    3\n",
    "b    2\n",
    "a    3\n",
    "d    1\n",
    "dtype: int64\n",
    "isin performs a vectorized set membership check and can be useful in filtering a dataset down to a subset of values in a Series or column in a DataFrame:\n",
    "\n",
    "In [258]: obj\n",
    "Out[258]: \n",
    "0    c\n",
    "1    a\n",
    "2    d\n",
    "3    a\n",
    "4    a\n",
    "5    b\n",
    "6    b\n",
    "7    c\n",
    "8    c\n",
    "dtype: object\n",
    "\n",
    "In [259]: mask = obj.isin(['b', 'c'])\n",
    "\n",
    "In [260]: mask\n",
    "Out[260]: \n",
    "0     True\n",
    "1    False\n",
    "2    False\n",
    "3    False\n",
    "4    False\n",
    "5     True\n",
    "6     True\n",
    "7     True\n",
    "8     True\n",
    "dtype: bool\n",
    "\n",
    "In [261]: obj[mask]\n",
    "Out[261]: \n",
    "0    c\n",
    "5    b\n",
    "6    b\n",
    "7    c\n",
    "8    c\n",
    "dtype: object\n",
    "Related to isin is the Index.get_indexer method, which gives you an index array from an array of possibly non-distinct values into another array of distinct values:\n",
    "\n",
    "In [262]: to_match = pd.Series(['c', 'a', 'b', 'b', 'c', 'a'])\n",
    "\n",
    "In [263]: unique_vals = pd.Series(['c', 'b', 'a'])\n",
    "\n",
    "In [264]: pd.Index(unique_vals).get_indexer(to_match)\n",
    "Out[264]: array([0, 2, 1, 1, 0, 2])\n",
    "See Table 5-9 for a reference on these methods.\n",
    "\n",
    "Table 5-9. Unique, value counts, and set membership methods\n",
    "Method\tDescription\n",
    "isin\tCompute boolean array indicating whether each Series value is contained in the passed sequence of values\n",
    "get_indexer\tCompute integer indices for each value in an array into another array of distinct values; helpful for data alignment and join-type operations\n",
    "unique\tCompute array of unique values in a Series, returned in the order observed\n",
    "value_counts\tReturn a Series containing unique values as its index and frequencies as its values, ordered count in descending order\n",
    "In some cases, you may want to compute a histogram on multiple related columns in a DataFrame. Here’s an example:\n",
    "\n",
    "In [265]: data = pd.DataFrame({'Qu1': [1, 3, 4, 3, 4],\n",
    "   .....:                      'Qu2': [2, 3, 1, 2, 3],\n",
    "   .....:                      'Qu3': [1, 5, 2, 4, 4]})\n",
    "\n",
    "In [266]: data\n",
    "Out[266]: \n",
    "   Qu1  Qu2  Qu3\n",
    "0    1    2    1\n",
    "1    3    3    5\n",
    "2    4    1    2\n",
    "3    3    2    4\n",
    "4    4    3    4\n",
    "Passing pandas.value_counts to this DataFrame’s apply function gives:\n",
    "\n",
    "In [267]: result = data.apply(pd.value_counts).fillna(0)\n",
    "\n",
    "In [268]: result\n",
    "Out[268]: \n",
    "   Qu1  Qu2  Qu3\n",
    "1  1.0  1.0  1.0\n",
    "2  0.0  2.0  1.0\n",
    "3  2.0  2.0  0.0\n",
    "4  2.0  0.0  2.0\n",
    "5  0.0  0.0  1.0\n",
    "Here, the row labels in the result are the distinct values occurring in all of the columns. The values are the respective counts of these values in each column.\n",
    "\n",
    "5.4 Conclusion\n",
    "In the next chapter, we’ll discuss tools for reading (or loading) and writing datasets with pandas. After that, we’ll dig deeper into data cleaning, wrangling, analysis, and visualization tools using pandas.\n",
    "\n",
    "table of contents\n",
    "search\n",
    "Settings\n",
    "queue\n",
    "\n",
    "back"
   ]
  }
 ],
 "metadata": {
  "kernelspec": {
   "display_name": "Python 3 (ipykernel)",
   "language": "python",
   "name": "python3"
  },
  "language_info": {
   "codemirror_mode": {
    "name": "ipython",
    "version": 3
   },
   "file_extension": ".py",
   "mimetype": "text/x-python",
   "name": "python",
   "nbconvert_exporter": "python",
   "pygments_lexer": "ipython3",
   "version": "3.11.3"
  }
 },
 "nbformat": 4,
 "nbformat_minor": 5
}
