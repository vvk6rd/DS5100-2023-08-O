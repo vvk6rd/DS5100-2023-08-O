{
 "cells": [
  {
   "cell_type": "markdown",
   "id": "f51bb8a3-c42b-4b20-8cdf-8d68ed8ccb9d",
   "metadata": {},
   "source": [
    "# M07 Notes"
   ]
  },
  {
   "cell_type": "markdown",
   "id": "615c3494-6eb7-4b62-92ed-79f86b4e3877",
   "metadata": {},
   "source": [
    "# Strings Again\n",
    "\n",
    "Actually, you *can* go backwards in a list and string.\n",
    "\n",
    "There are actually three elements to a slice: `[<from>:<to>:<step>]`\n",
    "\n",
    "The third part specifies step and direction. \n",
    "\n",
    "So you can go backwards and take bigger steps:"
   ]
  },
  {
   "cell_type": "code",
   "execution_count": 33,
   "id": "a79a8b9f-79da-41a2-bc2c-8308c11e900b",
   "metadata": {
    "tags": []
   },
   "outputs": [],
   "source": [
    "foo = \"ABCDEFGHIJKLM\" # first 12 letters"
   ]
  },
  {
   "cell_type": "code",
   "execution_count": 34,
   "id": "05d34bc2-7243-44e5-9023-3b9d244a4898",
   "metadata": {
    "tags": []
   },
   "outputs": [
    {
     "data": {
      "text/plain": [
       "('MLKJIHGFEDCBA', 'MKIGECA', 'MJGDA', 'ACEGIKM')"
      ]
     },
     "execution_count": 34,
     "metadata": {},
     "output_type": "execute_result"
    }
   ],
   "source": [
    "foo[::-1], foo[::-2], foo[::-3], foo[::2]"
   ]
  },
  {
   "cell_type": "markdown",
   "id": "90fb382b-b822-4cb8-a325-f88ae756baeb",
   "metadata": {},
   "source": [
    "By default the third part is `+1`."
   ]
  },
  {
   "cell_type": "code",
   "execution_count": 35,
   "id": "6d473569-2969-425a-8a00-66519add9139",
   "metadata": {
    "tags": []
   },
   "outputs": [
    {
     "data": {
      "text/plain": [
       "'ABCDEFGHIJKLM'"
      ]
     },
     "execution_count": 35,
     "metadata": {},
     "output_type": "execute_result"
    }
   ],
   "source": [
    "foo[::]"
   ]
  },
  {
   "cell_type": "markdown",
   "id": "09aa5181-faf4-4abb-88ff-2f60092d8859",
   "metadata": {},
   "source": [
    "Of cousre, by default you don't need to specify the second `:`. \n",
    "\n",
    "Also, `<from>` defaults to $0$ and `<to>` defaults to the length of the list.\n",
    "\n",
    "So, these are all the same:"
   ]
  },
  {
   "cell_type": "code",
   "execution_count": 19,
   "id": "eddeae87-6c8f-4182-ac3c-97497d30936e",
   "metadata": {
    "tags": []
   },
   "outputs": [
    {
     "data": {
      "text/plain": [
       "('ABCDEFGHIJK', 'ABCDEFGHIJK', 'ABCDEFGHIJK', 'ABCDEFGHIJK')"
      ]
     },
     "execution_count": 19,
     "metadata": {},
     "output_type": "execute_result"
    }
   ],
   "source": [
    "foo[:], foo[0:], foo[:len(foo)], foo[0:len(foo)]"
   ]
  },
  {
   "cell_type": "markdown",
   "id": "14136854-4b47-4047-a50e-e739d6c4bce6",
   "metadata": {},
   "source": [
    "# Lutz\n",
    "\n",
    "Why use classes?\n",
    "\n",
    "> Because using classes well requires some up-front planning, they tend to be of more interest to people who work in strategic mode (doing long-term product development) than to people who work in tactical mode (where time is in very short supply).\n",
    "\n",
    "Introduces principle of composition: Use objects as components that are combined to create a solution.\n",
    "\n",
    "Lutz foregrounds inheritance, but I consider the ideas of encapsulation and composition (above) as primary."
   ]
  },
  {
   "cell_type": "code",
   "execution_count": null,
   "id": "ec055bc4-5784-430e-8c73-d881b330ae34",
   "metadata": {},
   "outputs": [],
   "source": []
  }
 ],
 "metadata": {
  "kernelspec": {
   "display_name": "Python 3 (ipykernel)",
   "language": "python",
   "name": "python3"
  },
  "language_info": {
   "codemirror_mode": {
    "name": "ipython",
    "version": 3
   },
   "file_extension": ".py",
   "mimetype": "text/x-python",
   "name": "python",
   "nbconvert_exporter": "python",
   "pygments_lexer": "ipython3",
   "version": "3.11.3"
  }
 },
 "nbformat": 4,
 "nbformat_minor": 5
}
