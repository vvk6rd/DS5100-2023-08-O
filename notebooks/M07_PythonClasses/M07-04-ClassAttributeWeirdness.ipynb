{
 "cells": [
  {
   "cell_type": "markdown",
   "metadata": {},
   "source": [
    "#  NB: Understanding Class Attributes\n",
    "\n",
    "This notebook demonstrates how class and instance attributes are related to each other."
   ]
  },
  {
   "cell_type": "markdown",
   "metadata": {},
   "source": [
    "## A Simple Example\n",
    "\n",
    "We define a class with one attribute."
   ]
  },
  {
   "cell_type": "code",
   "execution_count": 1,
   "metadata": {},
   "outputs": [],
   "source": [
    "class Foo(): x = 1"
   ]
  },
  {
   "cell_type": "markdown",
   "metadata": {},
   "source": [
    "We create an instance of the class."
   ]
  },
  {
   "cell_type": "code",
   "execution_count": 2,
   "metadata": {},
   "outputs": [],
   "source": [
    "foo1 = Foo()"
   ]
  },
  {
   "cell_type": "markdown",
   "metadata": {},
   "source": [
    "Notice that the class defines the value for the instance."
   ]
  },
  {
   "cell_type": "code",
   "execution_count": 3,
   "metadata": {},
   "outputs": [
    {
     "data": {
      "text/plain": [
       "(1, 1)"
      ]
     },
     "execution_count": 3,
     "metadata": {},
     "output_type": "execute_result"
    }
   ],
   "source": [
    "foo1.x, Foo.x"
   ]
  },
  {
   "cell_type": "markdown",
   "metadata": {},
   "source": [
    "Now, the instance attribute changes if the class attribute is changed."
   ]
  },
  {
   "cell_type": "code",
   "execution_count": 4,
   "metadata": {},
   "outputs": [],
   "source": [
    "Foo.x = 2"
   ]
  },
  {
   "cell_type": "code",
   "execution_count": 5,
   "metadata": {},
   "outputs": [
    {
     "data": {
      "text/plain": [
       "(2, 2)"
      ]
     },
     "execution_count": 5,
     "metadata": {},
     "output_type": "execute_result"
    }
   ],
   "source": [
    "foo1.x, Foo.x"
   ]
  },
  {
   "cell_type": "markdown",
   "metadata": {},
   "source": [
    "What if we the local attribute's value?\n",
    "\n",
    "What happens to the class attribute?"
   ]
  },
  {
   "cell_type": "code",
   "execution_count": 6,
   "metadata": {},
   "outputs": [],
   "source": [
    "foo1.x = 3"
   ]
  },
  {
   "cell_type": "code",
   "execution_count": 7,
   "metadata": {},
   "outputs": [
    {
     "data": {
      "text/plain": [
       "(3, 2)"
      ]
     },
     "execution_count": 7,
     "metadata": {},
     "output_type": "execute_result"
    }
   ],
   "source": [
    "foo1.x, Foo.x"
   ]
  },
  {
   "cell_type": "markdown",
   "metadata": {},
   "source": [
    "Turns out we cannot override a global with a local."
   ]
  },
  {
   "cell_type": "markdown",
   "metadata": {},
   "source": [
    "We can see that the instance attribute is now unaffected by changing the value of the global."
   ]
  },
  {
   "cell_type": "code",
   "execution_count": 8,
   "metadata": {},
   "outputs": [],
   "source": [
    "Foo.x = 4"
   ]
  },
  {
   "cell_type": "code",
   "execution_count": 9,
   "metadata": {},
   "outputs": [
    {
     "data": {
      "text/plain": [
       "(3, 4)"
      ]
     },
     "execution_count": 9,
     "metadata": {},
     "output_type": "execute_result"
    }
   ],
   "source": [
    "foo1.x, Foo.x"
   ]
  },
  {
   "cell_type": "markdown",
   "metadata": {},
   "source": [
    "What happened?\n",
    "\n",
    "By assigning a value to the instance attribute, we converted from global in the class to local in the instance.\n",
    "\n",
    "This is similar to what we saw with local and global variables in functions."
   ]
  },
  {
   "cell_type": "markdown",
   "metadata": {},
   "source": [
    "Finally, notice how changing the value of the class attribute changes **all** the instance attributes that have not overridden the attribute."
   ]
  },
  {
   "cell_type": "code",
   "execution_count": 10,
   "metadata": {
    "tags": []
   },
   "outputs": [],
   "source": [
    "foo2 = Foo()\n",
    "foo3 = Foo()"
   ]
  },
  {
   "cell_type": "code",
   "execution_count": 11,
   "metadata": {
    "tags": []
   },
   "outputs": [],
   "source": [
    "Foo.x = 10"
   ]
  },
  {
   "cell_type": "code",
   "execution_count": 12,
   "metadata": {
    "tags": []
   },
   "outputs": [
    {
     "data": {
      "text/plain": [
       "(3, 10, 10, 10)"
      ]
     },
     "execution_count": 12,
     "metadata": {},
     "output_type": "execute_result"
    }
   ],
   "source": [
    "foo1.x, foo2.x, foo3.x, Foo.x"
   ]
  },
  {
   "cell_type": "markdown",
   "metadata": {},
   "source": [
    "## Mutable Class Attributes\n",
    "\n",
    "There is an interesting gotcha regarding class attributes in Python.\n",
    "\n",
    "Lists and other mutable data structures can be class attributes and yet have their values modified by instances.\n",
    "\n",
    "This is kind of weird, and you should look out for it.\n",
    "\n",
    "To demonstrate, we define a class with two instance variables, one a scalar and one a list.\n",
    "\n",
    "We define a method to alter the value of each.\n",
    "\n",
    "We also define a method compare the state of the instance with that of its class."
   ]
  },
  {
   "cell_type": "code",
   "execution_count": 13,
   "metadata": {},
   "outputs": [],
   "source": [
    "class MyTest():\n",
    "    \n",
    "    # Two class attributes\n",
    "    foo = 0  \n",
    "    bar = [] \n",
    "    \n",
    "    def add_one(self):\n",
    "        \"A method to alter the values of the class attributes.\"\n",
    "        self.foo += 1       \n",
    "        self.bar.append(1)  \n",
    "        \n",
    "    def replace_bar(self, new_list = []):\n",
    "        \"A method to redefine the class list attribute.\"\n",
    "        self.bar = new_list \n",
    "        \n",
    "    def compare_states(self):\n",
    "        \"A method to compare the state of instance to that of its class.\"\n",
    "        print('i.foo =', self.foo)\n",
    "        print('c.foo =', __class__.foo) # Notice how we can refer to an instance's class\n",
    "        print('i.bar =', self.bar)\n",
    "        print('c.bar =', __class__.bar)\n",
    "        "
   ]
  },
  {
   "cell_type": "markdown",
   "metadata": {},
   "source": [
    "Now let's run some tests. \n",
    "\n",
    "We define and instance and change nothing."
   ]
  },
  {
   "cell_type": "code",
   "execution_count": 14,
   "metadata": {},
   "outputs": [],
   "source": [
    "test1 = MyTest()"
   ]
  },
  {
   "cell_type": "code",
   "execution_count": 15,
   "metadata": {
    "tags": []
   },
   "outputs": [
    {
     "name": "stdout",
     "output_type": "stream",
     "text": [
      "i.foo = 0\n",
      "c.foo = 0\n",
      "i.bar = []\n",
      "c.bar = []\n"
     ]
    }
   ],
   "source": [
    "test1.compare_states()"
   ]
  },
  {
   "cell_type": "markdown",
   "metadata": {},
   "source": [
    "Now let's increment the attributes and see the results."
   ]
  },
  {
   "cell_type": "code",
   "execution_count": 16,
   "metadata": {},
   "outputs": [],
   "source": [
    "test1.add_one()"
   ]
  },
  {
   "cell_type": "code",
   "execution_count": 17,
   "metadata": {
    "tags": []
   },
   "outputs": [
    {
     "name": "stdout",
     "output_type": "stream",
     "text": [
      "i.foo = 1\n",
      "c.foo = 0\n",
      "i.bar = [1]\n",
      "c.bar = [1]\n"
     ]
    }
   ],
   "source": [
    "test1.compare_states()"
   ]
  },
  {
   "cell_type": "markdown",
   "metadata": {},
   "source": [
    "The method **does** disconnect the instance `foo` from the class `foo`.\n",
    "\n",
    "But it **does not** disconnect the instance `bar` from the class `bar`.\n",
    "\n",
    "Instead, a change that took place in one instance affects the state of all other instances!\n",
    "\n",
    "The difference is that `foo` is a scalar, and `bar` is a list, i.e. mutable data structure."
   ]
  },
  {
   "cell_type": "markdown",
   "metadata": {},
   "source": [
    "We do it again to drive the point home."
   ]
  },
  {
   "cell_type": "code",
   "execution_count": 18,
   "metadata": {},
   "outputs": [],
   "source": [
    "test1.add_one()"
   ]
  },
  {
   "cell_type": "code",
   "execution_count": 19,
   "metadata": {
    "tags": []
   },
   "outputs": [
    {
     "name": "stdout",
     "output_type": "stream",
     "text": [
      "i.foo = 2\n",
      "c.foo = 0\n",
      "i.bar = [1, 1]\n",
      "c.bar = [1, 1]\n"
     ]
    }
   ],
   "source": [
    "test1.compare_states()"
   ]
  },
  {
   "cell_type": "markdown",
   "metadata": {},
   "source": [
    "Now, let's replace list itself in the instance."
   ]
  },
  {
   "cell_type": "code",
   "execution_count": 20,
   "metadata": {},
   "outputs": [],
   "source": [
    "test1.replace_bar()"
   ]
  },
  {
   "cell_type": "code",
   "execution_count": 21,
   "metadata": {},
   "outputs": [
    {
     "name": "stdout",
     "output_type": "stream",
     "text": [
      "Iter 0\n",
      "i.foo = 3\n",
      "c.foo = 0\n",
      "i.bar = [1]\n",
      "c.bar = [1, 1]\n",
      "\n",
      "Iter 1\n",
      "i.foo = 4\n",
      "c.foo = 0\n",
      "i.bar = [1, 1]\n",
      "c.bar = [1, 1]\n",
      "\n",
      "Iter 2\n",
      "i.foo = 5\n",
      "c.foo = 0\n",
      "i.bar = [1, 1, 1]\n",
      "c.bar = [1, 1]\n",
      "\n",
      "Iter 3\n",
      "i.foo = 6\n",
      "c.foo = 0\n",
      "i.bar = [1, 1, 1, 1]\n",
      "c.bar = [1, 1]\n",
      "\n",
      "Iter 4\n",
      "i.foo = 7\n",
      "c.foo = 0\n",
      "i.bar = [1, 1, 1, 1, 1]\n",
      "c.bar = [1, 1]\n",
      "\n"
     ]
    }
   ],
   "source": [
    "for i in range(5):\n",
    "    print(\"Iter\", i)\n",
    "    test1.add_one()\n",
    "    test1.compare_states()\n",
    "    print()"
   ]
  },
  {
   "cell_type": "markdown",
   "metadata": {},
   "source": [
    "Notice that now the class list is not altered by the instance list.\n",
    "\n",
    "It remains in the state before the list itself was re-assigned by the instance.\n",
    "\n",
    "This is because we redefined the list itself, not just its content."
   ]
  },
  {
   "cell_type": "markdown",
   "metadata": {},
   "source": [
    "Let's define a second instance."
   ]
  },
  {
   "cell_type": "code",
   "execution_count": 22,
   "metadata": {},
   "outputs": [],
   "source": [
    "test2 = MyTest()"
   ]
  },
  {
   "cell_type": "code",
   "execution_count": 23,
   "metadata": {},
   "outputs": [
    {
     "name": "stdout",
     "output_type": "stream",
     "text": [
      "i.foo = 0\n",
      "c.foo = 0\n",
      "i.bar = [1, 1]\n",
      "c.bar = [1, 1]\n"
     ]
    }
   ],
   "source": [
    "test2.compare_states()"
   ]
  },
  {
   "cell_type": "markdown",
   "metadata": {},
   "source": [
    "The new instance has the original value of `foo`.\n",
    "\n",
    "However, notice it starts off with the modified value of `bar` before it was replaced."
   ]
  },
  {
   "cell_type": "markdown",
   "metadata": {},
   "source": [
    "We do it a few more times to drive the point home."
   ]
  },
  {
   "cell_type": "code",
   "execution_count": 24,
   "metadata": {},
   "outputs": [
    {
     "name": "stdout",
     "output_type": "stream",
     "text": [
      "Iter 0\n",
      "i.foo = 1\n",
      "c.foo = 0\n",
      "i.bar = [1, 1, 1]\n",
      "c.bar = [1, 1, 1]\n",
      "\n",
      "Iter 1\n",
      "i.foo = 2\n",
      "c.foo = 0\n",
      "i.bar = [1, 1, 1, 1]\n",
      "c.bar = [1, 1, 1, 1]\n",
      "\n",
      "Iter 2\n",
      "i.foo = 3\n",
      "c.foo = 0\n",
      "i.bar = [1, 1, 1, 1, 1]\n",
      "c.bar = [1, 1, 1, 1, 1]\n",
      "\n",
      "Iter 3\n",
      "i.foo = 4\n",
      "c.foo = 0\n",
      "i.bar = [1, 1, 1, 1, 1, 1]\n",
      "c.bar = [1, 1, 1, 1, 1, 1]\n",
      "\n",
      "Iter 4\n",
      "i.foo = 5\n",
      "c.foo = 0\n",
      "i.bar = [1, 1, 1, 1, 1, 1, 1]\n",
      "c.bar = [1, 1, 1, 1, 1, 1, 1]\n",
      "\n"
     ]
    }
   ],
   "source": [
    "for i in range(5):\n",
    "    print(\"Iter\", i)\n",
    "    test2.add_one()\n",
    "    test2.compare_states()\n",
    "    print()"
   ]
  },
  {
   "cell_type": "markdown",
   "metadata": {},
   "source": [
    "**Some take-aways:**\n",
    "    \n",
    "- Class attribute changes affect those attributes in all of it instances ...\n",
    "- ... unless the instance assigns a value to the attribute.\n",
    "- However, appending to a list &mdash; or, more generally, modifying data in a mutable data structure  &mdash; does not count as an assignment operation. The instance changes will affect the class state. \n",
    "- Bottom line: DEFINE CLASS ATTRIBUTES WITH CAUTION."
   ]
  }
 ],
 "metadata": {
  "kernelspec": {
   "display_name": "Python 3 (ipykernel)",
   "language": "python",
   "name": "python3"
  },
  "language_info": {
   "codemirror_mode": {
    "name": "ipython",
    "version": 3
   },
   "file_extension": ".py",
   "mimetype": "text/x-python",
   "name": "python",
   "nbconvert_exporter": "python",
   "pygments_lexer": "ipython3",
   "version": "3.11.3"
  }
 },
 "nbformat": 4,
 "nbformat_minor": 4
}
