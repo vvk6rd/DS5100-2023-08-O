{
 "cells": [
  {
   "cell_type": "markdown",
   "id": "f778cc33-80bc-40f1-8bce-f87534b1a029",
   "metadata": {},
   "source": [
    "# M10 Notes"
   ]
  },
  {
   "cell_type": "markdown",
   "id": "8e0393e7-d97e-449b-adb7-d76d502506bc",
   "metadata": {},
   "source": [
    "## R vs Python\n",
    "\n",
    "- Indexing: $0$ vs $1$ based\n",
    "- Meaning of negative numbers in slices, e.g. `foo[-1]`\n",
    "- Dots"
   ]
  },
  {
   "cell_type": "markdown",
   "id": "cb3b32dc-4010-412d-a562-c1113521f02e",
   "metadata": {},
   "source": [
    "## R Data Structures\n",
    "\n",
    "| Structure   | Dim | Data Type | Shape   | Python | \n",
    "|-------------|-----|-----------|---------|--------|\n",
    "| Vector     | $1$ | uniform  | sequence | \n",
    "| Matrix    | $2$ | uniform  | square   |\n",
    "| Array      | $N$ | uniform  | cube+    | NumPy array |\n",
    "| List       | $1$ | non-uniform  | ragged | List, Dict |\n",
    "| Data Frame | $2$ | multiple | uniform | Pandas Data Frame |\n",
    "\n",
    "\n",
    "- These reflect the evolution of R.\n",
    "- We mainly use Vectors and Data Frames."
   ]
  },
  {
   "cell_type": "markdown",
   "id": "ef706ea8-e427-45c1-8e7a-2a6b9f98255c",
   "metadata": {
    "tags": []
   },
   "source": [
    "## Factors\n",
    "\n",
    "- A kind of data structure, since they organize data types.\n",
    "  - They can store both strings and integers. \n",
    "- The categorize data as _levels_. \n",
    "  - Levels are unique, like sets in Python or LOVs in SQL.\n",
    "  - Levels are stored alongside the vector.\n",
    "  - Levels constrain what can be added to the factor vector.\n",
    "  - Levels are always characters, even when the data are numeric or boolean \n",
    "- Useful in data frame columns have list of values that make sense as a group. \n",
    "    - Male, Female\n",
    "    - True, False\n",
    "    - 1, 2, 3, 4, 5\n",
    "- Created with `factor()` taking a vector as input.\n",
    "- Analagous to Categories in Pandas."
   ]
  },
  {
   "cell_type": "markdown",
   "id": "ea6da759-13fd-45b8-87bf-358f6e19bd9d",
   "metadata": {},
   "source": [
    "**Example**"
   ]
  },
  {
   "cell_type": "code",
   "execution_count": 1,
   "id": "5e67fe75-0cce-4002-9f8c-dc0cb92dbfd2",
   "metadata": {},
   "outputs": [],
   "source": [
    "v1 = c(1,5,6,9,4,3,5,8,7,6,3,0,0,0,1,2,3,6,4,5,7,9)"
   ]
  },
  {
   "cell_type": "code",
   "execution_count": 2,
   "id": "c861ca1c-a6c6-4e18-a770-ffcfddaec35e",
   "metadata": {
    "tags": []
   },
   "outputs": [
    {
     "data": {
      "text/plain": [
       "NULL"
      ]
     },
     "metadata": {},
     "output_type": "display_data"
    }
   ],
   "source": [
    "levels(v1)"
   ]
  },
  {
   "cell_type": "code",
   "execution_count": 3,
   "id": "93ba4ed1-7239-4c4b-856f-06cf5b5f2b6b",
   "metadata": {
    "tags": []
   },
   "outputs": [],
   "source": [
    "f1 = factor(v1)"
   ]
  },
  {
   "cell_type": "code",
   "execution_count": 4,
   "id": "31bec40b-b004-41b7-8656-b24a8c7084e6",
   "metadata": {
    "tags": []
   },
   "outputs": [
    {
     "data": {
      "text/html": [
       "<style>\n",
       ".list-inline {list-style: none; margin:0; padding: 0}\n",
       ".list-inline>li {display: inline-block}\n",
       ".list-inline>li:not(:last-child)::after {content: \"\\00b7\"; padding: 0 .5ex}\n",
       "</style>\n",
       "<ol class=list-inline><li>'0'</li><li>'1'</li><li>'2'</li><li>'3'</li><li>'4'</li><li>'5'</li><li>'6'</li><li>'7'</li><li>'8'</li><li>'9'</li></ol>\n"
      ],
      "text/latex": [
       "\\begin{enumerate*}\n",
       "\\item '0'\n",
       "\\item '1'\n",
       "\\item '2'\n",
       "\\item '3'\n",
       "\\item '4'\n",
       "\\item '5'\n",
       "\\item '6'\n",
       "\\item '7'\n",
       "\\item '8'\n",
       "\\item '9'\n",
       "\\end{enumerate*}\n"
      ],
      "text/markdown": [
       "1. '0'\n",
       "2. '1'\n",
       "3. '2'\n",
       "4. '3'\n",
       "5. '4'\n",
       "6. '5'\n",
       "7. '6'\n",
       "8. '7'\n",
       "9. '8'\n",
       "10. '9'\n",
       "\n",
       "\n"
      ],
      "text/plain": [
       " [1] \"0\" \"1\" \"2\" \"3\" \"4\" \"5\" \"6\" \"7\" \"8\" \"9\""
      ]
     },
     "metadata": {},
     "output_type": "display_data"
    }
   ],
   "source": [
    "levels(f1)"
   ]
  },
  {
   "cell_type": "code",
   "execution_count": 5,
   "id": "70817fe1-a01a-4165-a74f-03c7f1c2b077",
   "metadata": {
    "tags": []
   },
   "outputs": [
    {
     "name": "stdout",
     "output_type": "stream",
     "text": [
      " [1] 1 5 6 9 4 3 5 8 7 6 3 0 0 0 1 2 3 6 4 5 7 9\n",
      "Levels: 0 1 2 3 4 5 6 7 8 9\n"
     ]
    }
   ],
   "source": [
    "print(f1)"
   ]
  },
  {
   "cell_type": "code",
   "execution_count": 6,
   "id": "30c38d54-397d-4990-844c-ab9ab5d1cb74",
   "metadata": {
    "tags": []
   },
   "outputs": [
    {
     "data": {
      "text/html": [
       "10"
      ],
      "text/latex": [
       "10"
      ],
      "text/markdown": [
       "10"
      ],
      "text/plain": [
       "[1] 10"
      ]
     },
     "metadata": {},
     "output_type": "display_data"
    }
   ],
   "source": [
    "nlevels(f1)"
   ]
  },
  {
   "cell_type": "markdown",
   "id": "f0805cb2-d6b3-4d36-a996-7a68044e1226",
   "metadata": {},
   "source": [
    "Levels act as a constraint on the factor vector."
   ]
  },
  {
   "cell_type": "code",
   "execution_count": 7,
   "id": "faecc8d2-cb88-4434-848c-2af9dc8edfdf",
   "metadata": {
    "tags": []
   },
   "outputs": [
    {
     "data": {
      "text/html": [
       "4\n",
       "<details>\n",
       "\t<summary style=display:list-item;cursor:pointer>\n",
       "\t\t<strong>Levels</strong>:\n",
       "\t</summary>\n",
       "\t<style>\n",
       "\t.list-inline {list-style: none; margin:0; padding: 0}\n",
       "\t.list-inline>li {display: inline-block}\n",
       "\t.list-inline>li:not(:last-child)::after {content: \"\\00b7\"; padding: 0 .5ex}\n",
       "\t</style>\n",
       "\t<ol class=list-inline><li>'0'</li><li>'1'</li><li>'2'</li><li>'3'</li><li>'4'</li><li>'5'</li><li>'6'</li><li>'7'</li><li>'8'</li><li>'9'</li></ol>\n",
       "</details>"
      ],
      "text/latex": [
       "4\n",
       "\\emph{Levels}: \\begin{enumerate*}\n",
       "\\item '0'\n",
       "\\item '1'\n",
       "\\item '2'\n",
       "\\item '3'\n",
       "\\item '4'\n",
       "\\item '5'\n",
       "\\item '6'\n",
       "\\item '7'\n",
       "\\item '8'\n",
       "\\item '9'\n",
       "\\end{enumerate*}\n"
      ],
      "text/markdown": [
       "4\n",
       "**Levels**: 1. '0'\n",
       "2. '1'\n",
       "3. '2'\n",
       "4. '3'\n",
       "5. '4'\n",
       "6. '5'\n",
       "7. '6'\n",
       "8. '7'\n",
       "9. '8'\n",
       "10. '9'\n",
       "\n",
       "\n"
      ],
      "text/plain": [
       "[1] 4\n",
       "Levels: 0 1 2 3 4 5 6 7 8 9"
      ]
     },
     "metadata": {},
     "output_type": "display_data"
    }
   ],
   "source": [
    "f1[5]"
   ]
  },
  {
   "cell_type": "code",
   "execution_count": 8,
   "id": "a494306d-d55e-41fe-b6d8-fd903ccb96c4",
   "metadata": {
    "tags": []
   },
   "outputs": [
    {
     "name": "stderr",
     "output_type": "stream",
     "text": [
      "Warning message in `[<-.factor`(`*tmp*`, 5, value = 20):\n",
      "“invalid factor level, NA generated”\n"
     ]
    }
   ],
   "source": [
    "f1[5] <- 20"
   ]
  },
  {
   "cell_type": "code",
   "execution_count": 9,
   "id": "49b2a11b-eec7-4ddd-a72d-b579a903fb2c",
   "metadata": {
    "tags": []
   },
   "outputs": [
    {
     "data": {
      "text/html": [
       "<style>\n",
       ".list-inline {list-style: none; margin:0; padding: 0}\n",
       ".list-inline>li {display: inline-block}\n",
       ".list-inline>li:not(:last-child)::after {content: \"\\00b7\"; padding: 0 .5ex}\n",
       "</style>\n",
       "<ol class=list-inline><li>1</li><li>5</li><li>6</li><li>9</li><li>&lt;NA&gt;</li><li>3</li><li>5</li><li>8</li><li>7</li><li>6</li><li>3</li><li>0</li><li>0</li><li>0</li><li>1</li><li>2</li><li>3</li><li>6</li><li>4</li><li>5</li><li>7</li><li>9</li></ol>\n",
       "\n",
       "<details>\n",
       "\t<summary style=display:list-item;cursor:pointer>\n",
       "\t\t<strong>Levels</strong>:\n",
       "\t</summary>\n",
       "\t<style>\n",
       "\t.list-inline {list-style: none; margin:0; padding: 0}\n",
       "\t.list-inline>li {display: inline-block}\n",
       "\t.list-inline>li:not(:last-child)::after {content: \"\\00b7\"; padding: 0 .5ex}\n",
       "\t</style>\n",
       "\t<ol class=list-inline><li>'0'</li><li>'1'</li><li>'2'</li><li>'3'</li><li>'4'</li><li>'5'</li><li>'6'</li><li>'7'</li><li>'8'</li><li>'9'</li></ol>\n",
       "</details>"
      ],
      "text/latex": [
       "\\begin{enumerate*}\n",
       "\\item 1\n",
       "\\item 5\n",
       "\\item 6\n",
       "\\item 9\n",
       "\\item <NA>\n",
       "\\item 3\n",
       "\\item 5\n",
       "\\item 8\n",
       "\\item 7\n",
       "\\item 6\n",
       "\\item 3\n",
       "\\item 0\n",
       "\\item 0\n",
       "\\item 0\n",
       "\\item 1\n",
       "\\item 2\n",
       "\\item 3\n",
       "\\item 6\n",
       "\\item 4\n",
       "\\item 5\n",
       "\\item 7\n",
       "\\item 9\n",
       "\\end{enumerate*}\n",
       "\n",
       "\\emph{Levels}: \\begin{enumerate*}\n",
       "\\item '0'\n",
       "\\item '1'\n",
       "\\item '2'\n",
       "\\item '3'\n",
       "\\item '4'\n",
       "\\item '5'\n",
       "\\item '6'\n",
       "\\item '7'\n",
       "\\item '8'\n",
       "\\item '9'\n",
       "\\end{enumerate*}\n"
      ],
      "text/markdown": [
       "1. 1\n",
       "2. 5\n",
       "3. 6\n",
       "4. 9\n",
       "5. &lt;NA&gt;\n",
       "6. 3\n",
       "7. 5\n",
       "8. 8\n",
       "9. 7\n",
       "10. 6\n",
       "11. 3\n",
       "12. 0\n",
       "13. 0\n",
       "14. 0\n",
       "15. 1\n",
       "16. 2\n",
       "17. 3\n",
       "18. 6\n",
       "19. 4\n",
       "20. 5\n",
       "21. 7\n",
       "22. 9\n",
       "\n",
       "\n",
       "\n",
       "**Levels**: 1. '0'\n",
       "2. '1'\n",
       "3. '2'\n",
       "4. '3'\n",
       "5. '4'\n",
       "6. '5'\n",
       "7. '6'\n",
       "8. '7'\n",
       "9. '8'\n",
       "10. '9'\n",
       "\n",
       "\n"
      ],
      "text/plain": [
       " [1] 1    5    6    9    <NA> 3    5    8    7    6    3    0    0    0    1   \n",
       "[16] 2    3    6    4    5    7    9   \n",
       "Levels: 0 1 2 3 4 5 6 7 8 9"
      ]
     },
     "metadata": {},
     "output_type": "display_data"
    }
   ],
   "source": [
    "f1"
   ]
  },
  {
   "cell_type": "code",
   "execution_count": null,
   "id": "218daf2e-40c8-4467-9ea5-229fb8287615",
   "metadata": {},
   "outputs": [],
   "source": []
  }
 ],
 "metadata": {
  "kernelspec": {
   "display_name": "R",
   "language": "R",
   "name": "ir"
  },
  "language_info": {
   "codemirror_mode": "r",
   "file_extension": ".r",
   "mimetype": "text/x-r-source",
   "name": "R",
   "pygments_lexer": "r",
   "version": "4.0.2"
  }
 },
 "nbformat": 4,
 "nbformat_minor": 5
}
