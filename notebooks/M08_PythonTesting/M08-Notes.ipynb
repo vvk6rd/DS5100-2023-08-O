{
 "cells": [
  {
   "cell_type": "markdown",
   "id": "5a839067-7e9f-463f-ae7c-631e2764431f",
   "metadata": {},
   "source": [
    "# M08 Notes"
   ]
  },
  {
   "cell_type": "markdown",
   "id": "c5d8ce50-aab2-47dd-bad5-8b35da30733f",
   "metadata": {},
   "source": [
    "# HW 07\n",
    "\n",
    "- One task had the answer (oops)"
   ]
  },
  {
   "cell_type": "markdown",
   "id": "f4e7f8bd-81e9-486b-80c3-16d1149ad56b",
   "metadata": {},
   "source": [
    "# Review\n",
    "\n",
    "* Errors vs Exceptions\n",
    "* Catching vs Throwing\n",
    "* Using the command line\n",
    "* Order of execution of tests in `unittest`\n",
    "* List of built-in [exceptions](https://docs.python.org/3/library/exceptions.html) \n",
    "* Create [your own](https://docs.python.org/3/library/exceptions.html)"
   ]
  },
  {
   "cell_type": "code",
   "execution_count": null,
   "id": "b35295c8-9476-46e8-820c-4ecfd3e866b5",
   "metadata": {},
   "outputs": [],
   "source": []
  }
 ],
 "metadata": {
  "kernelspec": {
   "display_name": "Python 3 (ipykernel)",
   "language": "python",
   "name": "python3"
  },
  "language_info": {
   "codemirror_mode": {
    "name": "ipython",
    "version": 3
   },
   "file_extension": ".py",
   "mimetype": "text/x-python",
   "name": "python",
   "nbconvert_exporter": "python",
   "pygments_lexer": "ipython3",
   "version": "3.11.3"
  }
 },
 "nbformat": 4,
 "nbformat_minor": 5
}
