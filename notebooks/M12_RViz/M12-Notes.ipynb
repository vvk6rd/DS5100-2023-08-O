{
 "cells": [
  {
   "cell_type": "markdown",
   "id": "b5e23cd3-ae19-415f-aa6e-b73db9611c31",
   "metadata": {
    "tags": []
   },
   "source": [
    "# M12 Notes"
   ]
  },
  {
   "cell_type": "markdown",
   "id": "d74cf9a2-3343-427a-b2fc-00685b64e7eb",
   "metadata": {},
   "source": [
    "# Grammar of Graphics\n",
    "\n",
    "## Aesthetics and Geometries Review\n",
    "\n",
    "The two primary layers, above data, are aesthetics and geometrics.\n",
    "\n",
    "- _Aesthetics_ are the visual properties of the objects in your plot.\n",
    "- _Geometries_ are the structural spaces within which the objects in your plot are placed.\n",
    "\n",
    "**Aesthetics** \n",
    "\n",
    "The visual properties of the objects in your plot, such as position, color, size, and shape.\n",
    "\n",
    "**Positional Aesthetics** define where points, lines, bars, etc., appear in the plot, e.g. `x` and `y` coordinates.\n",
    "\n",
    "**Non-Positional Aesthetics** include size, shape, color, fill, alpha (transparency), and other visual aspects \n",
    "\n",
    "**Mapping** refers to the process of associating an aesthetic to a variable in your data. \n",
    "\n",
    "- For example, if color is mapped to a categorical variable, each value of the variable will appear in a different color.\n",
    "\n",
    "**Geometries (Geoms)** \n",
    "\n",
    "The _type_ of plot &mdash; the framing spatial structure &mdash; in which the data will be represented. \n",
    "\n",
    "Common geometries include:\n",
    "\n",
    "- **geom_point()**: for scatter plots. Perpendicular X and Y axes with points.\n",
    "- **geom_line()**: for line charts. Perpendicular X and Y axes with continuous lines.\n",
    "- **geom_bar()**: for bar charts. Perpendicular X and Y axes with X as a categorical value and Y as a metric value.\n",
    "- **geom_histogram()**: for histograms. Perpendicular X and Y axes with X as a binned continuous value or categorical value and Y as a count.\n",
    "\n",
    "**Relationship between the two**\n",
    "\n",
    "Each geom function typically requires certain aesthetics to function correctly. \n",
    "\n",
    "For example:\n",
    "\n",
    "- `geom_point()` requires `x` and `y` aesthetics to position the points,\n",
    "- while `geom_bar()` might only need an `x` aesthetic if you're doing a simple count.\n",
    "\n",
    "**Layering and Inheritance**\n",
    "\n",
    "Aesthetic mappings can be set in the main `ggplot()` function _or_ within individual geometries (geoms). \n",
    "\n",
    "If set in `ggplot()`, the mapping applies to all layers of the plot, unless overridden in a specific geom. \n",
    "\n",
    "Conversely, aesthetics set in a geom apply only to that geom.\n",
    "\n",
    "**Static vs Mapped Aesthetics**\n",
    "\n",
    "Mapped aesthetics are defined within `aes()` and vary based on data.\n",
    "\n",
    "Static aesthetics are set outside `aes()` and are constant for all data points. \n",
    "\n",
    "For example:\n",
    "- `aes(color = variable)` maps colors based on variable.\n",
    "- `geom_point(color = \"red\")` sets a static color (red) for all points.\n",
    "\n"
   ]
  }
 ],
 "metadata": {
  "kernelspec": {
   "display_name": "R",
   "language": "R",
   "name": "ir"
  },
  "language_info": {
   "codemirror_mode": "r",
   "file_extension": ".r",
   "mimetype": "text/x-r-source",
   "name": "R",
   "pygments_lexer": "r",
   "version": "4.0.2"
  }
 },
 "nbformat": 4,
 "nbformat_minor": 5
}
