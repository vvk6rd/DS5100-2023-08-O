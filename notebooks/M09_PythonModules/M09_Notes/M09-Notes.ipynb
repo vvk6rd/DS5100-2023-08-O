{
 "cells": [
  {
   "cell_type": "markdown",
   "id": "677898ec-e70a-4ae8-bd61-cdc4a2be6dec",
   "metadata": {},
   "source": [
    "# M09 Notes"
   ]
  },
  {
   "cell_type": "markdown",
   "id": "800b2b04-4c50-423a-a8e0-3570f5e7f7e6",
   "metadata": {},
   "source": [
    "## Python on Rivanna\n",
    "\n",
    "This was mentioned [early in the course](https://ontoligent.github.io/DS5100-2023-08-O/modules/m02/m02-activity-hello-world.html), but I notice that many of are having some trouble using the correct version of Python on Rivanna.\n",
    "\n",
    "You should run the following command after logging into Rivanna:\n",
    "\n",
    "```bash\n",
    "module load python\n",
    "```\n",
    "\n",
    "This will make Anaconda's distribution of Python 3 your default interpreter.\n",
    "\n",
    "You can have this run automatically every time you log onto Rivanna by adding it to your `.bash_profile` file in the root directory of your account.\n",
    "\n",
    "You can use `nano` to edit and save the file.\n",
    "\n"
   ]
  },
  {
   "cell_type": "markdown",
   "id": "90b7997f-4dd6-422e-b811-7262c40d382c",
   "metadata": {},
   "source": [
    "## Vocabulary\n",
    "\n",
    "| Term   | Definition   |\n",
    "|-----|-----|\n",
    "| Project  | The top-level directory that may contain packages, modules, `setup.py`, etc. |\n",
    "| Package  | A directory with an `__init__.py` file in it.  |\n",
    "| Module   | A Python file, often in a package directory.   |\n",
    "| Attribute | The global variables in a package or module. |\n"
   ]
  },
  {
   "cell_type": "markdown",
   "id": "228dc8df-a648-426b-8d78-49e6ea5b6c60",
   "metadata": {},
   "source": [
    "## Namespaces\n",
    "\n",
    "* The package and import system in Python relies on the concept of namespaces.\n",
    "* A namespace is a hierarchical organization of code and variable names.\n",
    "* It is based on mapping the directories and file contents onto an internal object structure.\n",
    "* Like objects, dots `.` are used to delimit elements in the hierarchy. So, directory slashes become dots.\n",
    "\n",
    "The package `demo1`:\n",
    "```bash\n",
    "demo1/\n",
    "  __init__.py\n",
    "  module1.py\n",
    "```\n",
    "\n",
    "The moddule `module1.py`:\n",
    "```python\n",
    "def hello():\n",
    "    print(\"I'm in demo1.module1\")\n",
    "```\n",
    "\n",
    "The top level script:\n",
    "```python\n",
    "import demo1.module1\n",
    "demo1.module1.hello()\n",
    "```\n",
    "or\n",
    "```python\n",
    "from demo1.module1 import hello\n",
    "```\n",
    "\n",
    "Everything gets flattened into a dot-delimited object hiearchy -- directories, files, and definitions."
   ]
  },
  {
   "cell_type": "markdown",
   "id": "806ae3d3-dc64-47ae-9da0-0ef505fd9e4b",
   "metadata": {},
   "source": [
    "## Program Structure\n",
    "\n",
    "* A top-level file where you put your specific problem-solving code.\n",
    "* This file imports libraries and packages found in various places."
   ]
  },
  {
   "cell_type": "markdown",
   "id": "35df1f5c-a968-455b-a866-6ce6a1205089",
   "metadata": {},
   "source": [
    "## Imports"
   ]
  },
  {
   "cell_type": "markdown",
   "id": "c9595408-e9fd-4ebf-af50-884770e26446",
   "metadata": {},
   "source": [
    "Importing a package does not automatically import the modules its directory contains.\n",
    "\n",
    "Imported packages and modules only import their globals.\n",
    "\n",
    "The files in a package are not automatically converted into package globals."
   ]
  },
  {
   "cell_type": "code",
   "execution_count": 9,
   "id": "6fccb8e2-216b-46c4-9cea-8b71d6b7cc66",
   "metadata": {
    "tags": []
   },
   "outputs": [],
   "source": [
    "import demo1"
   ]
  },
  {
   "cell_type": "code",
   "execution_count": 10,
   "id": "07c1dbe3-3437-42b7-a193-624d15d74d3b",
   "metadata": {
    "tags": []
   },
   "outputs": [
    {
     "ename": "AttributeError",
     "evalue": "module 'demo1' has no attribute 'module1'",
     "output_type": "error",
     "traceback": [
      "\u001b[0;31m---------------------------------------------------------------------------\u001b[0m",
      "\u001b[0;31mAttributeError\u001b[0m                            Traceback (most recent call last)",
      "Cell \u001b[0;32mIn[10], line 1\u001b[0m\n\u001b[0;32m----> 1\u001b[0m demo1\u001b[38;5;241m.\u001b[39mmodule1\n",
      "\u001b[0;31mAttributeError\u001b[0m: module 'demo1' has no attribute 'module1'"
     ]
    }
   ],
   "source": [
    "demo1.module1"
   ]
  },
  {
   "cell_type": "markdown",
   "id": "3c632e70-65bf-4c19-b429-caa895de1673",
   "metadata": {},
   "source": [
    "If I want access to module1, I need to import it."
   ]
  },
  {
   "cell_type": "code",
   "execution_count": 11,
   "id": "3e5fce5f-975b-4005-a8d8-fb95c8ad15f9",
   "metadata": {
    "tags": []
   },
   "outputs": [],
   "source": [
    "import demo1.module1"
   ]
  },
  {
   "cell_type": "markdown",
   "id": "3466a22f-2dfb-47f8-b6e3-272c55896c6c",
   "metadata": {},
   "source": [
    "Importing a module *does* import functions and classes in the module, though."
   ]
  },
  {
   "cell_type": "code",
   "execution_count": 12,
   "id": "3e6fcff4-8879-4430-a975-3a4e675e4d31",
   "metadata": {
    "tags": []
   },
   "outputs": [
    {
     "name": "stdout",
     "output_type": "stream",
     "text": [
      "I'm in demo1.module1\n"
     ]
    }
   ],
   "source": [
    "demo1.module1.hello()"
   ]
  },
  {
   "cell_type": "markdown",
   "id": "f0c32902-f8f0-4df3-a781-16bc84d504b7",
   "metadata": {},
   "source": [
    "You can automatically import a module from a package, though, in the `__init__()` file by adding this line:\n",
    "\n",
    "```python\n",
    "from demo1 import module1\n",
    "```\n",
    "\n",
    "The `__init__.py` file effectively defines global variables for the package."
   ]
  },
  {
   "cell_type": "code",
   "execution_count": 19,
   "id": "2d579d41-6d0e-4802-b3f8-0451c4152b78",
   "metadata": {
    "tags": []
   },
   "outputs": [],
   "source": [
    "import demo2"
   ]
  },
  {
   "cell_type": "markdown",
   "id": "237d6af2-fc9b-4c42-b998-dc217765d747",
   "metadata": {},
   "source": [
    "See how `module2` is now available."
   ]
  },
  {
   "cell_type": "code",
   "execution_count": 20,
   "id": "aa72a4c3-5e93-4825-b0ea-ee213944540d",
   "metadata": {
    "tags": []
   },
   "outputs": [
    {
     "data": {
      "text/plain": [
       "<module 'demo2.module2' from '/Users/rca2t1/Dropbox/Courses/DS/DS5100/DS5100-2023-08-O/repo/notebooks/M09_PythonModules/M09-Notes/demo2/module2.py'>"
      ]
     },
     "execution_count": 20,
     "metadata": {},
     "output_type": "execute_result"
    }
   ],
   "source": [
    "demo2.module2"
   ]
  },
  {
   "cell_type": "markdown",
   "id": "f0e734f2-f371-4ea2-8317-4f4d88250b8d",
   "metadata": {},
   "source": [
    "And since module import their globals, `hello()` is available too."
   ]
  },
  {
   "cell_type": "code",
   "execution_count": 18,
   "id": "9f9e9c92-9dbd-4c7f-bd79-2fcd411a6717",
   "metadata": {
    "tags": []
   },
   "outputs": [
    {
     "name": "stdout",
     "output_type": "stream",
     "text": [
      "I'm in demo2.module2\n"
     ]
    }
   ],
   "source": [
    "demo2.module2.hello()"
   ]
  },
  {
   "cell_type": "markdown",
   "id": "a0887121-4455-437a-83c9-a446462312c3",
   "metadata": {},
   "source": [
    "Note, however the point of view of the import statement in `__init__.py` here: \n",
    "\n",
    "It is from the perspective of the package directory, even though the `__init__.py` file is *in* the directory. \n",
    "\n",
    "This is because the init file is executed from the perspective of it expected calling file.\n",
    "\n",
    "In this case, we are taking the perspective of this notebook. \n",
    "\n",
    "That is why have to specify `demo1` even though we are *in* `/demo1`.\n",
    "\n",
    "In the case of an installable package, it would be from the perspective of `setup.py`.\n",
    "\n",
    "See how `../test2.py` doesn't work."
   ]
  },
  {
   "cell_type": "code",
   "execution_count": 22,
   "id": "4f78fa69-22ab-494d-bfa9-22c29ad4e1fb",
   "metadata": {
    "tags": []
   },
   "outputs": [
    {
     "name": "stdout",
     "output_type": "stream",
     "text": [
      "Traceback (most recent call last):\n",
      "  File \"/Users/rca2t1/Dropbox/Courses/DS/DS5100/DS5100-2023-08-O/repo/notebooks/M09_PythonModules/M09_Notes/../test2.py\", line 1, in <module>\n",
      "    import M09_Notes.demo2\n",
      "  File \"/Users/rca2t1/Dropbox/Courses/DS/DS5100/DS5100-2023-08-O/repo/notebooks/M09_PythonModules/M09_Notes/demo2/__init__.py\", line 1, in <module>\n",
      "    from demo2 import module2\n",
      "ModuleNotFoundError: No module named 'demo2'\n"
     ]
    }
   ],
   "source": [
    "! python ../test2.py"
   ]
  },
  {
   "cell_type": "markdown",
   "id": "0d5d249b-218a-4bed-b22e-109ddf095c9b",
   "metadata": {
    "tags": []
   },
   "source": [
    "## Search Paths\n",
    "\n",
    "To find the files named in an import statement, Python searches the following locations in this order:\n",
    "\n",
    "1. The home directory of the program.\n",
    "2. `PYTHONPATH` environment variable directories (if set).\n",
    "3. Standard library directories.\n",
    "4. The contents of any `.pth` files (if present).\n",
    "5. The `site-packages` home of third-party extensions.\n",
    "\n",
    "Togther, these compose the `sys.path` variable, which is just a list of directory paths.\n",
    "\n",
    "You can inspect this variable by importing the `sys` module."
   ]
  },
  {
   "cell_type": "code",
   "execution_count": 1,
   "id": "e57e669c-43e7-47bc-aa71-63f2ebb09903",
   "metadata": {
    "tags": []
   },
   "outputs": [],
   "source": [
    "import sys"
   ]
  },
  {
   "cell_type": "markdown",
   "id": "0bb074be-2ecf-47c9-a5b0-a04f8246c9ae",
   "metadata": {},
   "source": [
    "Here's the path -- it's a list with the order described above:"
   ]
  },
  {
   "cell_type": "code",
   "execution_count": 2,
   "id": "5eedccb5-b45d-4fbf-9d95-d0463e217f89",
   "metadata": {
    "tags": []
   },
   "outputs": [
    {
     "data": {
      "text/plain": [
       "['/Users/rca2t1/Dropbox/Courses/DS/DS5100/DS5100-2023-08-O/repo/notebooks/M09_PythonModules/M09-Notes',\n",
       " '/Users/rca2t1/anaconda3/lib/python311.zip',\n",
       " '/Users/rca2t1/anaconda3/lib/python3.11',\n",
       " '/Users/rca2t1/anaconda3/lib/python3.11/lib-dynload',\n",
       " '',\n",
       " '/Users/rca2t1/anaconda3/lib/python3.11/site-packages',\n",
       " '/Users/rca2t1/anaconda3/lib/python3.11/site-packages/aeosa']"
      ]
     },
     "execution_count": 2,
     "metadata": {},
     "output_type": "execute_result"
    }
   ],
   "source": [
    "sys.path"
   ]
  },
  {
   "cell_type": "markdown",
   "id": "e2cdb9a0-4a34-4329-8343-afee821589c1",
   "metadata": {},
   "source": [
    "We can append this list to add other places for Python to look:"
   ]
  },
  {
   "cell_type": "code",
   "execution_count": 3,
   "id": "d662c7d2-09e9-48d8-bb0b-2242e886d122",
   "metadata": {
    "tags": []
   },
   "outputs": [],
   "source": [
    "sys.path.append('/Users/rca2t1/Downloads/')"
   ]
  },
  {
   "cell_type": "code",
   "execution_count": 4,
   "id": "fd3a99cd-d6c1-41f0-8c59-cf9c5875d7cd",
   "metadata": {
    "tags": []
   },
   "outputs": [
    {
     "data": {
      "text/plain": [
       "['/Users/rca2t1/Dropbox/Courses/DS/DS5100/DS5100-2023-08-O/repo/notebooks/M09_PythonModules/M09-Notes',\n",
       " '/Users/rca2t1/anaconda3/lib/python311.zip',\n",
       " '/Users/rca2t1/anaconda3/lib/python3.11',\n",
       " '/Users/rca2t1/anaconda3/lib/python3.11/lib-dynload',\n",
       " '',\n",
       " '/Users/rca2t1/anaconda3/lib/python3.11/site-packages',\n",
       " '/Users/rca2t1/anaconda3/lib/python3.11/site-packages/aeosa',\n",
       " '/Users/rca2t1/Downloads/']"
      ]
     },
     "execution_count": 4,
     "metadata": {},
     "output_type": "execute_result"
    }
   ],
   "source": [
    "sys.path"
   ]
  },
  {
   "cell_type": "markdown",
   "id": "e383b510-6f6a-41ca-a797-d66aa9ded381",
   "metadata": {},
   "source": [
    "We can even play with the search order by messing with the list:"
   ]
  },
  {
   "cell_type": "code",
   "execution_count": 5,
   "id": "026295e8-830c-45aa-b051-0baef3fd9030",
   "metadata": {
    "tags": []
   },
   "outputs": [],
   "source": [
    "sys.path.reverse()"
   ]
  },
  {
   "cell_type": "code",
   "execution_count": 6,
   "id": "1a09f192-0835-4e68-a112-a404923bcd6e",
   "metadata": {
    "tags": []
   },
   "outputs": [
    {
     "data": {
      "text/plain": [
       "['/Users/rca2t1/Downloads/',\n",
       " '/Users/rca2t1/anaconda3/lib/python3.11/site-packages/aeosa',\n",
       " '/Users/rca2t1/anaconda3/lib/python3.11/site-packages',\n",
       " '',\n",
       " '/Users/rca2t1/anaconda3/lib/python3.11/lib-dynload',\n",
       " '/Users/rca2t1/anaconda3/lib/python3.11',\n",
       " '/Users/rca2t1/anaconda3/lib/python311.zip',\n",
       " '/Users/rca2t1/Dropbox/Courses/DS/DS5100/DS5100-2023-08-O/repo/notebooks/M09_PythonModules/M09-Notes']"
      ]
     },
     "execution_count": 6,
     "metadata": {},
     "output_type": "execute_result"
    }
   ],
   "source": [
    "sys.path"
   ]
  },
  {
   "cell_type": "code",
   "execution_count": 7,
   "id": "05d2c16d-b496-413f-a781-9667f7b7b624",
   "metadata": {
    "tags": []
   },
   "outputs": [],
   "source": [
    "sys.path.insert(0, \"/Users/rca2t1/Documents/\")"
   ]
  },
  {
   "cell_type": "code",
   "execution_count": 8,
   "id": "7f011be0-c618-4f56-afb4-b821b3b6ac36",
   "metadata": {
    "tags": []
   },
   "outputs": [
    {
     "data": {
      "text/plain": [
       "['/Users/rca2t1/Documents/',\n",
       " '/Users/rca2t1/Downloads/',\n",
       " '/Users/rca2t1/anaconda3/lib/python3.11/site-packages/aeosa',\n",
       " '/Users/rca2t1/anaconda3/lib/python3.11/site-packages',\n",
       " '',\n",
       " '/Users/rca2t1/anaconda3/lib/python3.11/lib-dynload',\n",
       " '/Users/rca2t1/anaconda3/lib/python3.11',\n",
       " '/Users/rca2t1/anaconda3/lib/python311.zip',\n",
       " '/Users/rca2t1/Dropbox/Courses/DS/DS5100/DS5100-2023-08-O/repo/notebooks/M09_PythonModules/M09-Notes']"
      ]
     },
     "execution_count": 8,
     "metadata": {},
     "output_type": "execute_result"
    }
   ],
   "source": [
    "sys.path"
   ]
  },
  {
   "cell_type": "markdown",
   "id": "80cb1ce1-0635-4271-9475-4c32d675a2c1",
   "metadata": {},
   "source": [
    "## Interesting\n",
    "\n",
    "From [Lutz on import statements as assignments](https://learning.oreilly.com/library/view/learning-python-5th/9781449355722/ch23.html#import_and_from_are_assignments)."
   ]
  },
  {
   "cell_type": "markdown",
   "id": "1b3b1078-8b23-496e-bece-08e2dace9e33",
   "metadata": {},
   "source": [
    "```python\n",
    ">>> from small import x, y         # Copy two names out\n",
    "\n",
    ">>> x = 42                         # Assignment changes local x only\n",
    ">>> y[0] = 42                      # List modification changes shared mutable in place\n",
    "```"
   ]
  },
  {
   "cell_type": "markdown",
   "id": "6318221d-1f88-4140-9983-ecab17550638",
   "metadata": {},
   "source": [
    "```python\n",
    ">>> import small                   # Get module name (from doesn't)\n",
    "\n",
    ">>> small.x                        # Small's x is not my x\n",
    "1\n",
    ">>> small.y                        # But we share a changed mutable\n",
    "[42, 2]\n",
    ">>> small.x = 42                   # Changes x in other module\n",
    "```"
   ]
  },
  {
   "cell_type": "code",
   "execution_count": null,
   "id": "7dde8d97-780a-4f53-8fb7-227cebfe9057",
   "metadata": {},
   "outputs": [],
   "source": []
  }
 ],
 "metadata": {
  "kernelspec": {
   "display_name": "Python 3 (ipykernel)",
   "language": "python",
   "name": "python3"
  },
  "language_info": {
   "codemirror_mode": {
    "name": "ipython",
    "version": 3
   },
   "file_extension": ".py",
   "mimetype": "text/x-python",
   "name": "python",
   "nbconvert_exporter": "python",
   "pygments_lexer": "ipython3",
   "version": "3.11.3"
  }
 },
 "nbformat": 4,
 "nbformat_minor": 5
}
