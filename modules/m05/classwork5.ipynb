{
 "cells": [
  {
   "cell_type": "code",
   "execution_count": 49,
   "metadata": {},
   "outputs": [
    {
     "name": "stdout",
     "output_type": "stream",
     "text": [
      "rintime is : 0.015167474746704102\n"
     ]
    }
   ],
   "source": [
    "# Qn 5.1\n",
    "import time\n",
    "\n",
    "start_time = time.time()\n",
    "list_int = []\n",
    "for i in range(1, 100001):\n",
    "    if i % 2 == 1:\n",
    "        i *= -1\n",
    "    list_int.append(i)\n",
    "\n",
    "tot_run_time = time.time() - start_time\n",
    "\n",
    "print('runtime is :',tot_run_time )        "
   ]
  },
  {
   "cell_type": "code",
   "execution_count": 51,
   "metadata": {},
   "outputs": [
    {
     "name": "stdout",
     "output_type": "stream",
     "text": [
      "runtime is : 0.00889134407043457\n"
     ]
    }
   ],
   "source": [
    "# Qn 5.2\n",
    "\n",
    "start_time = time.time()\n",
    "list_x = [x if x%2==0 else x*-1 for x in range(1,100001)]\n",
    "tot_run_time = time.time() - start_time\n",
    "print('runtime is :',tot_run_time )  \n"
   ]
  },
  {
   "cell_type": "code",
   "execution_count": 17,
   "metadata": {},
   "outputs": [
    {
     "name": "stdout",
     "output_type": "stream",
     "text": [
      "4,5,3,2,1,2,5,4,6,4\n"
     ]
    }
   ],
   "source": [
    "#Qn 5.3\n",
    "import numpy as np\n",
    "nump_list = np.random.randint(1,7,10)\n",
    "print(','.join(nump_list.astype(str)))\n"
   ]
  },
  {
   "cell_type": "code",
   "execution_count": 24,
   "metadata": {},
   "outputs": [
    {
     "data": {
      "text/plain": [
       "int"
      ]
     },
     "execution_count": 24,
     "metadata": {},
     "output_type": "execute_result"
    }
   ],
   "source": [
    "#Qn 5.4\n",
    "\n",
    "sing_rand = np.random.randint(10)\n",
    "sing_rand\n",
    "type(sing_rand)"
   ]
  },
  {
   "cell_type": "code",
   "execution_count": 26,
   "metadata": {},
   "outputs": [
    {
     "data": {
      "text/plain": [
       "numpy.ndarray"
      ]
     },
     "execution_count": 26,
     "metadata": {},
     "output_type": "execute_result"
    }
   ],
   "source": [
    "mult_rand = np.random.randint(1,10,5)\n",
    "mult_rand\n",
    "type(mult_rand)"
   ]
  },
  {
   "cell_type": "code",
   "execution_count": 28,
   "metadata": {},
   "outputs": [
    {
     "data": {
      "image/png": "[encoded data removed]",
      "text/plain": [
       "<Figure size 432x288 with 1 Axes>"
      ]
     },
     "metadata": {
      "needs_background": "light"
     },
     "output_type": "display_data"
    }
   ],
   "source": [
    "#Qn 5.5\n",
    "\n",
    "from matplotlib.pyplot import hist\n",
    "hist(mult_rand);"
   ]
  },
  {
   "cell_type": "code",
   "execution_count": 30,
   "metadata": {},
   "outputs": [
    {
     "data": {
      "text/plain": [
       "array([[ 0.63555245,  0.08817761,  0.51977169],\n",
       "       [ 1.94224514, -0.32515512,  0.4590968 ]])"
      ]
     },
     "execution_count": 30,
     "metadata": {},
     "output_type": "execute_result"
    }
   ],
   "source": [
    "#Qn 5.6 \n",
    "\n",
    "mat_x = np.random.randn(2,3)\n",
    "mat_x"
   ]
  },
  {
   "cell_type": "code",
   "execution_count": 32,
   "metadata": {},
   "outputs": [
    {
     "data": {
      "text/plain": [
       "array([[ 1.27110491,  0.17635521,  1.03954338],\n",
       "       [ 3.88449027, -0.65031024,  0.91819359]])"
      ]
     },
     "execution_count": 32,
     "metadata": {},
     "output_type": "execute_result"
    }
   ],
   "source": [
    "#Qn 5.7 \n",
    "mat_x2 = mat_x*2\n",
    "mat_x2"
   ]
  },
  {
   "cell_type": "code",
   "execution_count": 33,
   "metadata": {},
   "outputs": [
    {
     "data": {
      "text/plain": [
       "array([[ 1.27110491,  0.17635521,  1.03954338],\n",
       "       [ 3.88449027, -0.65031024,  0.91819359]])"
      ]
     },
     "execution_count": 33,
     "metadata": {},
     "output_type": "execute_result"
    }
   ],
   "source": [
    "#Qn 5.8\n",
    "\n",
    "mat_x_add = mat_x + mat_x\n",
    "mat_x_add"
   ]
  },
  {
   "cell_type": "code",
   "execution_count": 34,
   "metadata": {},
   "outputs": [
    {
     "data": {
      "text/plain": [
       "array([[ 1.57343426, 11.34074783,  1.92392164],\n",
       "       [ 0.51486807, -3.07545518,  2.17818989]])"
      ]
     },
     "execution_count": 34,
     "metadata": {},
     "output_type": "execute_result"
    }
   ],
   "source": [
    "#Qn 5.9\n",
    "\n",
    "1/mat_x"
   ]
  },
  {
   "cell_type": "code",
   "execution_count": 38,
   "metadata": {},
   "outputs": [
    {
     "data": {
      "text/plain": [
       "array([[0., 0., 0., 0.],\n",
       "       [0., 0., 0., 0.]])"
      ]
     },
     "execution_count": 38,
     "metadata": {},
     "output_type": "execute_result"
    }
   ],
   "source": [
    "#Qn 5.10\n",
    "np.zeros((2,4))   "
   ]
  },
  {
   "cell_type": "code",
   "execution_count": 39,
   "metadata": {},
   "outputs": [
    {
     "data": {
      "text/plain": [
       "array([[1., 1., 1., 1.],\n",
       "       [1., 1., 1., 1.]])"
      ]
     },
     "execution_count": 39,
     "metadata": {},
     "output_type": "execute_result"
    }
   ],
   "source": [
    "np.ones((2,4))"
   ]
  },
  {
   "cell_type": "code",
   "execution_count": 40,
   "metadata": {},
   "outputs": [
    {
     "data": {
      "text/plain": [
       "array([[1., 0., 0., 0.],\n",
       "       [0., 1., 0., 0.],\n",
       "       [0., 0., 1., 0.],\n",
       "       [0., 0., 0., 1.]])"
      ]
     },
     "execution_count": 40,
     "metadata": {},
     "output_type": "execute_result"
    }
   ],
   "source": [
    "#Qn 5.11\n",
    "\n",
    "np.identity(4)"
   ]
  },
  {
   "cell_type": "code",
   "execution_count": null,
   "metadata": {},
   "outputs": [],
   "source": []
  }
 ],
 "metadata": {
  "kernelspec": {
   "display_name": "Python 3",
   "language": "python",
   "name": "python3"
  },
  "language_info": {
   "codemirror_mode": {
    "name": "ipython",
    "version": 3
   },
   "file_extension": ".py",
   "mimetype": "text/x-python",
   "name": "python",
   "nbconvert_exporter": "python",
   "pygments_lexer": "ipython3",
   "version": "3.8.8"
  }
 },
 "nbformat": 4,
 "nbformat_minor": 4
}
