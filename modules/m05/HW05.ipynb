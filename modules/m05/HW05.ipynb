{
 "cells": [
  {
   "cell_type": "markdown",
   "metadata": {},
   "source": [
    "# Metadata\n",
    "\n",
    "```yaml\n",
    "Course:   DS 5100\n",
    "Module:   05 Numpy HW\n",
    "Topic:    Capital Asset Pricing Model (CAPM)\n",
    "Author:   R.C. Alvarado (revised)\n",
    "Date:     7 July 2023\n",
    "```"
   ]
  },
  {
   "cell_type": "markdown",
   "metadata": {},
   "source": [
    "# Student Info\n",
    "\n",
    "* Name: Ade Faparusi\n",
    "* Net ID: vvk6rd\n",
    "* URL of this file in GitHub:https://github.com/vvk6rd/DS5100-2023-08-O/blob/main/modules/m05/hw05.ipynb"
   ]
  },
  {
   "cell_type": "markdown",
   "metadata": {
    "jp-MarkdownHeadingCollapsed": true,
    "tags": []
   },
   "source": [
    "# Instructions\n",
    "\n",
    "In your **private course repo on Rivanna**, use this Jupyter notebook and the data file `capm_market_data.csv` to write code that performs the tasks below. The data file is in the HW directory of this module in the course repo.\n",
    "\n",
    "Save your notebook in the `M05` directory.\n",
    "\n",
    "Remember to add and commit these files to your repo. \n",
    "\n",
    "Then push your commits to your repo on GitHib.\n",
    "\n",
    "Be sure to fill out the **Student Info** block above.\n",
    "\n",
    "To submit your homework, save the notebook as a PDF and upload it to GradeScope, following the instructions.\n",
    "\n",
    "**TOTAL POINTS: 10**"
   ]
  },
  {
   "cell_type": "markdown",
   "metadata": {
    "jp-MarkdownHeadingCollapsed": true,
    "tags": []
   },
   "source": [
    "# Overview\n",
    "\n",
    "<!-- In this exer Use NumPy and functions to \n",
    "* compute a stock's CAPM beta\n",
    "* perform sensitivity analysis\n",
    "* understand how the data points impact the beta estimate\n",
    " -->\n",
    " \n",
    "In finance, a capital asset pricing model (CAPM) is a single-factor regression model used to explain and predict excess stock returns. \n",
    "\n",
    "There are better, more accurate models, but CAPM has its uses. \n",
    "\n",
    "For example, the **market beta** $\\beta_i$ a useful output.\n",
    "\n",
    "Here is the formula for calculating the expected excess return:\n",
    "\n",
    "$E[R_i] - R_f  = \\beta_i ( E[R_m] - R_f )$\n",
    "\n",
    "where:\n",
    "\n",
    "* $ER_i$: expected return of stock $i$\n",
    "* $R_f$: risk-free rate\n",
    "* $\\beta_i$: market beta of the stock\n",
    "* $ER_m - R_f$: market risk premium\n",
    "\n",
    "**Review the instructions below to complete the requested tasks.**\n",
    "\n",
    "**TOTAL POINTS: 10**"
   ]
  },
  {
   "cell_type": "markdown",
   "metadata": {},
   "source": [
    "# Setting Up"
   ]
  },
  {
   "cell_type": "markdown",
   "metadata": {},
   "source": [
    "Import [NumPy](https://numpy.org/doc/stable/)"
   ]
  },
  {
   "cell_type": "code",
   "execution_count": 1,
   "metadata": {},
   "outputs": [],
   "source": [
    "import numpy as np"
   ]
  },
  {
   "cell_type": "markdown",
   "metadata": {},
   "source": [
    "Define Risk-free Treasury rate. You will use this constant below."
   ]
  },
  {
   "cell_type": "code",
   "execution_count": 2,
   "metadata": {},
   "outputs": [],
   "source": [
    "R_f = 0.0175 / 252"
   ]
  },
  {
   "cell_type": "markdown",
   "metadata": {
    "tags": []
   },
   "source": [
    "# Prepare the Data\n",
    "\n",
    "We import the data and convert it into usable Numby arrays."
   ]
  },
  {
   "cell_type": "markdown",
   "metadata": {},
   "source": [
    "**Read in the market data**\n",
    "\n",
    "The values are closing prices, adjusted for splits and dividends.\n",
    "\n",
    "The prefixes of the second two columns are based on the following codes:\n",
    "* SPY is an ETF for the S&P 500 (i.e. the stock market as whole)\n",
    "* AAPL stands for Apple  "
   ]
  },
  {
   "cell_type": "code",
   "execution_count": 3,
   "metadata": {},
   "outputs": [],
   "source": [
    "data_file = \"capm_market_data.csv\""
   ]
  },
  {
   "cell_type": "code",
   "execution_count": 4,
   "metadata": {},
   "outputs": [],
   "source": [
    "data_2D = np.array([row.strip().split(',') for row in open(data_file, 'r').readlines()])"
   ]
  },
  {
   "cell_type": "markdown",
   "metadata": {},
   "source": [
    "**Separete columns from the data** "
   ]
  },
  {
   "cell_type": "code",
   "execution_count": 5,
   "metadata": {},
   "outputs": [],
   "source": [
    "COLS = np.str_(data_2D[0])"
   ]
  },
  {
   "cell_type": "code",
   "execution_count": 6,
   "metadata": {},
   "outputs": [
    {
     "data": {
      "text/plain": [
       "\"['date' 'spy_adj_close' 'aapl_adj_close']\""
      ]
     },
     "execution_count": 6,
     "metadata": {},
     "output_type": "execute_result"
    }
   ],
   "source": [
    "COLS"
   ]
  },
  {
   "cell_type": "markdown",
   "metadata": {},
   "source": [
    "**Separate columns by data types**\n",
    "\n",
    "Numpy wants everything to in a data structure to be of the same type."
   ]
  },
  {
   "cell_type": "code",
   "execution_count": 7,
   "metadata": {},
   "outputs": [],
   "source": [
    "DATES = data_2D[1:, 0]"
   ]
  },
  {
   "cell_type": "code",
   "execution_count": 8,
   "metadata": {},
   "outputs": [],
   "source": [
    "RETURNS = data_2D[1:, 1:].astype('float')"
   ]
  },
  {
   "cell_type": "markdown",
   "metadata": {},
   "source": [
    "# Task 1 \n",
    "\n",
    "(1 PT) \n",
    "\n",
    "Print the first 5 rows of the `RETURNS` table."
   ]
  },
  {
   "cell_type": "code",
   "execution_count": 9,
   "metadata": {},
   "outputs": [
    {
     "name": "stdout",
     "output_type": "stream",
     "text": [
      "[[321.55578613 298.82995605]\n",
      " [319.12091064 295.92471313]\n",
      " [320.33837891 298.28271484]\n",
      " [319.43765259 296.87988281]\n",
      " [321.1401062  301.6555481 ]]\n"
     ]
    }
   ],
   "source": [
    "print(RETURNS[:5,])"
   ]
  },
  {
   "cell_type": "markdown",
   "metadata": {},
   "source": [
    "# Task 2 \n",
    "\n",
    "(1 PT) \n",
    "\n",
    "Print the first five values from the SPY column in `RETURNS`.\n",
    "\n",
    "Then do the same for the AAPL column.\n",
    "\n",
    "Use one cell for each operation."
   ]
  },
  {
   "cell_type": "code",
   "execution_count": 10,
   "metadata": {},
   "outputs": [
    {
     "name": "stdout",
     "output_type": "stream",
     "text": [
      "first five values from the SPY column in RETURNS : \n",
      " [321.55578613 319.12091064 320.33837891 319.43765259 321.1401062 ]\n",
      "\n",
      "first five values from the AAPL column in RETURNS : \n",
      " [298.82995605 295.92471313 298.28271484 296.87988281 301.6555481 ]\n"
     ]
    }
   ],
   "source": [
    "print('first five values from the SPY column in RETURNS : \\n', RETURNS[:5,0])\n",
    "print('\\nfirst five values from the AAPL column in RETURNS : \\n', RETURNS[:5,1])"
   ]
  },
  {
   "cell_type": "markdown",
   "metadata": {
    "tags": []
   },
   "source": [
    "# Task 3 \n",
    "\n",
    "(1 PT)\n",
    "\n",
    "Compute the excess returns by subtracting the constant `R_f` from `RETURNS`.\n",
    "\n",
    "Save the result as numpy 2D array (i.e. a table) named `EXCESS`.\n",
    "\n",
    "Print the LAST five rows from the new table."
   ]
  },
  {
   "cell_type": "code",
   "execution_count": 11,
   "metadata": {},
   "outputs": [
    {
     "name": "stdout",
     "output_type": "stream",
     "text": [
      "last five rows from EXCESS : \n",
      " [[314.37993544 383.00994032]\n",
      " [317.58992689 383.67992323]\n",
      " [314.83992689 381.90993422]\n",
      " [318.91994398 388.22994154]\n",
      " [321.84993666 390.89992445]]\n"
     ]
    }
   ],
   "source": [
    "EXCESS = RETURNS - R_f\n",
    "print('last five rows from EXCESS : \\n', EXCESS[-5:,])"
   ]
  },
  {
   "cell_type": "markdown",
   "metadata": {},
   "source": [
    "# Task 4 \n",
    "\n",
    "(1 PT)\n",
    "\n",
    "Make a simple [scatterplot using Matplotlib](https://matplotlib.org/stable/api/_as_gen/matplotlib.pyplot.scatter.html) with SPY excess returns on the x-axis, AAPL excess returns on the y-axis.\n",
    "\n",
    "Hint: Use the following code:\n",
    "\n",
    "```python\n",
    "from matplotlib.pyplot import scatter\n",
    "\n",
    "scatter(<x>, <y>)\n",
    "```\n",
    "Replace `<x>` and `<y>` with the appropriate vectors.\n",
    "\n",
    "You may want to save the vectors for the SPY and AAPL columns as `x` and `y` respectively. This will make it visually easier to perform Task 6."
   ]
  },
  {
   "cell_type": "code",
   "execution_count": 12,
   "metadata": {},
   "outputs": [
    {
     "data": {
      "text/plain": [
       "<matplotlib.collections.PathCollection at 0x7fd62c0689a0>"
      ]
     },
     "execution_count": 12,
     "metadata": {},
     "output_type": "execute_result"
    },
    {
     "data": {
      "image/png": "[encoded data removed]",
      "text/plain": [
       "<Figure size 432x288 with 1 Axes>"
      ]
     },
     "metadata": {
      "needs_background": "light"
     },
     "output_type": "display_data"
    }
   ],
   "source": [
    "x = EXCESS[:,0] # SPY Vector\n",
    "y = EXCESS[:,1] # AAPL Vector\n",
    "\n",
    "from matplotlib.pyplot import scatter\n",
    "\n",
    "scatter(x, y)"
   ]
  },
  {
   "cell_type": "markdown",
   "metadata": {},
   "source": [
    "# Task 5 \n",
    "\n",
    "(3 PTS)\n",
    "\n",
    "Use the **normal equation**, listed below, to compute the Regression Coefficient Estimate of the data plotted above, $\\hat\\beta_i$.\n",
    "\n",
    "Note that $x^T$ denotes the transpose of $x$.\n",
    "\n",
    "$\\begin{aligned} \\hat\\beta_i=(x^Tx)^{−1}x^Ty \\end{aligned}$ \n",
    "\n",
    "Use the Numpy functions for matrix to do this &mdash; multiplication, transpose, and inverse. \n",
    "\n",
    "Note, however, that since $x$ in this case a single column matrix, i.e. a vector, the result of $x'x$ will be a scalar, which is not invertable. So you can just invert the result by division, i.e. \n",
    "\n",
    "$\\hat\\beta_i = \\large\\frac{1}{x^Tx} \\small(x^Ty)$\n",
    "\n",
    "Be sure to review what these operations do, and how they work, if you're a bit rusty."
   ]
  },
  {
   "cell_type": "markdown",
   "metadata": {},
   "source": [
    "**You should find that $\\hat\\beta_i > 1$.**\n",
    "\n",
    "This means that the risk of AAPL stock, given the data, and according to this particular (flawed) model, is higher relative to the risk of the S&P 500.\n"
   ]
  },
  {
   "cell_type": "code",
   "execution_count": 13,
   "metadata": {},
   "outputs": [
    {
     "name": "stdout",
     "output_type": "stream",
     "text": [
      "beta_i_hat is :  1.029980294240815\n"
     ]
    }
   ],
   "source": [
    "beta_i_hat = (1/np.dot(x.transpose(), x)) * np.dot(x.transpose(), y)\n",
    "print(\"beta_i_hat is : \", beta_i_hat)"
   ]
  },
  {
   "cell_type": "markdown",
   "metadata": {
    "tags": []
   },
   "source": [
    "# Task 6\n",
    "\n",
    "(3 PTS)\n",
    "\n",
    "**Measuring Beta Sensitivity to Dropping Observations (Jackknifing)**\n",
    "\n",
    "Let's understand how sensitive the beta is to each data point.   \n",
    "We want to drop each data point (one at a time), compute \\\\(\\hat\\beta_i\\\\) using our formula from above, and save each measurement.\n",
    "\n",
    "Write a function called `beta_sensitivity()` with these specs:\n",
    "\n",
    "- Take numpy arrays x and y as inputs.\n",
    "- For each observation i, compute the beta without the current observation. You can use a `lambda` function for this.\n",
    "- Return a list of tuples each containing the observation row dropped and the beta estimate, i.e. something like `(i, beta_est)`, depending how you've named your variables.\n",
    "\n",
    "Hint: `np.delete(x, i)` will delete observation i from array x. "
   ]
  },
  {
   "cell_type": "markdown",
   "metadata": {},
   "source": [
    "Call `beta_sensitivity()` and print the first five tuples of output."
   ]
  },
  {
   "cell_type": "code",
   "execution_count": 14,
   "metadata": {},
   "outputs": [
    {
     "name": "stdout",
     "output_type": "stream",
     "text": [
      "First five tuples of output: \n",
      " [(0, 1.0308477301723962), (1, 1.0308516176393125), (2, 1.0308255236222599), (3, 1.0308357542837527), (4, 1.0307595018435871)]\n"
     ]
    }
   ],
   "source": [
    "def beta_sensitivity(a,b):\n",
    "    \n",
    "    list_result = []   \n",
    "    for i in range(0,len(a)):   \n",
    "        beta_est = (lambda c, d: (1/np.dot(c.transpose(), c)) * np.dot(c.transpose(), d))(np.delete(a, i),np.delete(b, i))\n",
    "        list_result.append((i, beta_est))\n",
    "\n",
    "    return (list_result)\n",
    " \n",
    "beta_sensitivity_output =  beta_sensitivity(x,y)   \n",
    "print(\"First five tuples of output: \\n\", beta_sensitivity_output[:5])"
   ]
  }
 ],
 "metadata": {
  "kernelspec": {
   "display_name": "Python 3",
   "language": "python",
   "name": "python3"
  },
  "language_info": {
   "codemirror_mode": {
    "name": "ipython",
    "version": 3
   },
   "file_extension": ".py",
   "mimetype": "text/x-python",
   "name": "python",
   "nbconvert_exporter": "python",
   "pygments_lexer": "ipython3",
   "version": "3.8.8"
  },
  "widgets": {
   "application/vnd.jupyter.widget-state+json": {
    "state": {},
    "version_major": 2,
    "version_minor": 0
   }
  }
 },
 "nbformat": 4,
 "nbformat_minor": 4
}
