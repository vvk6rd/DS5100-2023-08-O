{
 "cells": [
  {
   "cell_type": "code",
   "execution_count": 40,
   "metadata": {},
   "outputs": [],
   "source": [
    "#Exercise 7.1\n",
    "\n",
    "class MyClass():\n",
    "    \"\"\"Example Class for exercise 7.1\"\"\"\n",
    "    \n",
    "    att1 = \"foo\"\n",
    "\n",
    "    def __init__(self, att2):\n",
    "        self.att2 = att2\n",
    "        \n",
    "    def add(self):\n",
    "        self.msg = self.att1 + '' + self.att2\n",
    "        print(self.msg)"
   ]
  },
  {
   "cell_type": "code",
   "execution_count": 44,
   "metadata": {},
   "outputs": [],
   "source": [
    "#Exercise 7.2\n",
    "\n",
    "stmt_1 = MyClass(\" What class is this\")"
   ]
  },
  {
   "cell_type": "code",
   "execution_count": 42,
   "metadata": {},
   "outputs": [
    {
     "data": {
      "text/plain": [
       "('foo', 'What class is this')"
      ]
     },
     "execution_count": 42,
     "metadata": {},
     "output_type": "execute_result"
    }
   ],
   "source": [
    "stmt_1.att1, stmt_1.att2"
   ]
  },
  {
   "cell_type": "code",
   "execution_count": 45,
   "metadata": {},
   "outputs": [
    {
     "name": "stdout",
     "output_type": "stream",
     "text": [
      "foo What class is this\n"
     ]
    }
   ],
   "source": [
    "stmt_1.add()"
   ]
  },
  {
   "cell_type": "code",
   "execution_count": null,
   "metadata": {},
   "outputs": [],
   "source": []
  },
  {
   "cell_type": "code",
   "execution_count": 52,
   "metadata": {},
   "outputs": [],
   "source": [
    "#7.3\n",
    "import pandas as pd\n",
    "\n",
    "class Student:\n",
    "    \n",
    "    def __init__(self, student_name, student_id):\n",
    "        self.name = student_name\n",
    "        self.id = student_id\n",
    "        self.grades = pd.Series(dtype=float)\n",
    "    \n",
    "    def add_grade(self, assignment, grade):\n",
    "        self.grades.loc[assignment] = grade\n",
    "        \n",
    "    def show_grades(self):\n",
    "        self.grades.plot.bar(title=f\"Grades for {self.name}({self.id})\")"
   ]
  },
  {
   "cell_type": "code",
   "execution_count": 53,
   "metadata": {},
   "outputs": [],
   "source": [
    "#7.3a\n",
    "\n",
    "student1 = Student(\"John Clown\",'abcdef')"
   ]
  },
  {
   "cell_type": "code",
   "execution_count": 54,
   "metadata": {},
   "outputs": [],
   "source": [
    "student1.add_grade(\"Quiz1\", 85)\n",
    "student1.add_grade(\"Quiz2\", 95)\n",
    "student1.add_grade(\"Quiz3\", 100)\n",
    "student1.add_grade(\"Quiz4\", 75)"
   ]
  },
  {
   "cell_type": "code",
   "execution_count": 56,
   "metadata": {},
   "outputs": [
    {
     "data": {
      "image/png": "[encoded data removed]",
      "text/plain": [
       "<Figure size 432x288 with 1 Axes>"
      ]
     },
     "metadata": {
      "needs_background": "light"
     },
     "output_type": "display_data"
    }
   ],
   "source": [
    "student1.show_grades()"
   ]
  },
  {
   "cell_type": "code",
   "execution_count": 96,
   "metadata": {},
   "outputs": [],
   "source": [
    "#Qn 7.4\n",
    "\n",
    "class V3():\n",
    "    def __init__(self, instance_size, num_vcpus, memory, disk_space):\n",
    "        self.instance_size = instance_size\n",
    "        self.num_vcpus = num_vcpus\n",
    "        self.memory = memory\n",
    "        self.disk_space = disk_space\n",
    "    \n",
    "    def add_disk_space(self, amt_to_add):\n",
    "        self.disk_space += amt_to_add\n",
    "        \n",
    "    def has_enough_disk_space(self, amt_required):\n",
    "        if self.disk_space >= amt_required:\n",
    "            print(\"You have enough disk space!\")\n",
    "            return True\n",
    "        else:\n",
    "            print(\"You don't have enough disk space\")\n",
    "            return False\n",
    "    "
   ]
  },
  {
   "cell_type": "code",
   "execution_count": 97,
   "metadata": {},
   "outputs": [],
   "source": [
    "#Qn 7.5\n",
    "\n",
    "my_v3 = V3('large', 32, 256, 1.)"
   ]
  },
  {
   "cell_type": "code",
   "execution_count": 98,
   "metadata": {},
   "outputs": [],
   "source": [
    "my_v3.add_disk_space(2.)"
   ]
  },
  {
   "cell_type": "code",
   "execution_count": null,
   "metadata": {},
   "outputs": [],
   "source": []
  },
  {
   "cell_type": "code",
   "execution_count": 83,
   "metadata": {},
   "outputs": [],
   "source": [
    "#Qn 7.6\n",
    "\n",
    "from math import pi\n",
    "\n",
    "\n",
    "class Circle(): \n",
    "    def __init__(self, radius):\n",
    "        self.radius = radius\n",
    "\n",
    "    def get_area(self):\n",
    "        self.area = round (self. radius**2 * pi, 2)\n",
    "\n",
    "    def get_circumference(self):\n",
    "        self. circumference = round(2 * self.radius * pi, 2)"
   ]
  },
  {
   "cell_type": "code",
   "execution_count": 84,
   "metadata": {},
   "outputs": [],
   "source": [
    "my_circle = Circle(8)\n",
    "my_circle. get_area()\n",
    "my_circle.get_circumference ()"
   ]
  },
  {
   "cell_type": "code",
   "execution_count": 85,
   "metadata": {},
   "outputs": [
    {
     "name": "stdout",
     "output_type": "stream",
     "text": [
      "A: 201.06\n",
      "C: 50.27\n"
     ]
    }
   ],
   "source": [
    "print('A:', my_circle.area)\n",
    "\n",
    "print('C:', my_circle. circumference)"
   ]
  },
  {
   "cell_type": "code",
   "execution_count": 86,
   "metadata": {},
   "outputs": [],
   "source": [
    "#Question 7.9\n",
    "\n",
    "class T2T:\n",
    "    c2f = lambda c: round(1.8*c + 32, 2)\n",
    "    f2c = lambda f: round((F-32)/1.8, 2)"
   ]
  },
  {
   "cell_type": "code",
   "execution_count": 76,
   "metadata": {},
   "outputs": [
    {
     "data": {
      "text/plain": [
       "113.0"
      ]
     },
     "execution_count": 76,
     "metadata": {},
     "output_type": "execute_result"
    }
   ],
   "source": [
    "T2T.c2f(45)"
   ]
  },
  {
   "cell_type": "code",
   "execution_count": null,
   "metadata": {},
   "outputs": [],
   "source": []
  }
 ],
 "metadata": {
  "kernelspec": {
   "display_name": "Python 3",
   "language": "python",
   "name": "python3"
  },
  "language_info": {
   "codemirror_mode": {
    "name": "ipython",
    "version": 3
   },
   "file_extension": ".py",
   "mimetype": "text/x-python",
   "name": "python",
   "nbconvert_exporter": "python",
   "pygments_lexer": "ipython3",
   "version": "3.8.8"
  }
 },
 "nbformat": 4,
 "nbformat_minor": 4
}
