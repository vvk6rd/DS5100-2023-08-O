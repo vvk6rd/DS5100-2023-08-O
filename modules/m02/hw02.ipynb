{
 "cells": [
  {
   "cell_type": "code",
   "execution_count": 8,
   "metadata": {},
   "outputs": [],
   "source": [
    "Student Info\n",
    "## Name:    Ade Faparusi\n",
    "## Net ID:   vvk6rd\n",
    "## URL of this file in GitHub:\n",
    "## \"https://github.com/vvk6rd/DS5100-2023-08-O/blob/main/modules/m02/hw02.ipynb\" "
   ]
  },
  {
   "cell_type": "code",
   "execution_count": 8,
   "metadata": {},
   "outputs": [
    {
     "name": "stdout",
     "output_type": "stream",
     "text": [
      "{'Jon': 95, 'Mike': 84, 'Jaime': 99}\n"
     ]
    }
   ],
   "source": [
    "## Task 1: Using the data in Table 1, create a dictionary called gradebook where the keys contain the names \n",
    "## and the values are the associated grades. Print the dictionary. \n",
    "\n",
    "gradebook = {'Jon':95, \n",
    "             'Mike':84, \n",
    "             'Jaime':99\n",
    "            }\n",
    "\n",
    "print(gradebook)"
   ]
  },
  {
   "cell_type": "code",
   "execution_count": 4,
   "metadata": {},
   "outputs": [
    {
     "name": "stdout",
     "output_type": "stream",
     "text": [
      "84\n"
     ]
    }
   ],
   "source": [
    "## Task 2: Index into the gradebook to print Mike's grade. Do NOT use the get() method for this. \n",
    "\n",
    "print(gradebook['Mike'])"
   ]
  },
  {
   "cell_type": "code",
   "execution_count": 5,
   "metadata": {},
   "outputs": [
    {
     "ename": "KeyError",
     "evalue": "'Jeff'",
     "output_type": "error",
     "traceback": [
      "\u001b[0;31m---------------------------------------------------------------------------\u001b[0m",
      "\u001b[0;31mKeyError\u001b[0m                                  Traceback (most recent call last)",
      "\u001b[0;32m<ipython-input-5-eaca378f0c1d>\u001b[0m in \u001b[0;36m<module>\u001b[0;34m\u001b[0m\n\u001b[0;32m----> 1\u001b[0;31m \u001b[0mprint\u001b[0m\u001b[0;34m(\u001b[0m\u001b[0mgradebook\u001b[0m\u001b[0;34m[\u001b[0m\u001b[0;34m'Jeff'\u001b[0m\u001b[0;34m]\u001b[0m\u001b[0;34m)\u001b[0m\u001b[0;34m\u001b[0m\u001b[0;34m\u001b[0m\u001b[0m\n\u001b[0m",
      "\u001b[0;31mKeyError\u001b[0m: 'Jeff'"
     ]
    }
   ],
   "source": [
    "## Task 3: Attempt to index into gradebook to print Jeff's grade. Show the result. Do NOT use the get() method for this.\n",
    "\n",
    "print(gradebook['Jeff'])"
   ]
  },
  {
   "cell_type": "code",
   "execution_count": 6,
   "metadata": {},
   "outputs": [
    {
     "name": "stdout",
     "output_type": "stream",
     "text": [
      "['Alex', 'Patrick', 'Tom', 'Joe', 'Alex']\n"
     ]
    }
   ],
   "source": [
    "## Task 4: Using Table 2, build a list from the names called names and print it. \n",
    "\n",
    "names = [\"Alex\",\"Patrick\", \"Tom\", \"Joe\", \"Alex\"]\n",
    "print(names)"
   ]
  },
  {
   "cell_type": "code",
   "execution_count": 7,
   "metadata": {},
   "outputs": [
    {
     "name": "stdout",
     "output_type": "stream",
     "text": [
      "['Alex', 'Alex', 'Joe', 'Patrick', 'Tom']\n"
     ]
    }
   ],
   "source": [
    "## Task 5:Sort the list in ascending order and print it \n",
    "\n",
    "names.sort()\n",
    "print(names)"
   ]
  },
  {
   "cell_type": "code",
   "execution_count": 9,
   "metadata": {},
   "outputs": [
    {
     "name": "stdout",
     "output_type": "stream",
     "text": [
      "{'Alex', 'Joe', 'Patrick', 'Tom'}\n"
     ]
    }
   ],
   "source": [
    "## Task 6: Build a set from the names in Table 2 and print it. (1 PT)\n",
    "\n",
    "names_set = {\"Alex\",\"Patrick\", \"Tom\", \"Joe\"}\n",
    "print(names_set)"
   ]
  },
  {
   "cell_type": "code",
   "execution_count": 11,
   "metadata": {},
   "outputs": [
    {
     "name": "stdout",
     "output_type": "stream",
     "text": [
      "{'Alex': [2, 1], 'Patrick': [4], 'Tom': [1], 'Joe': [3]}\n"
     ]
    }
   ],
   "source": [
    "## Task 7: Build a dictionary from the touchdowns data, calling it td, and print it. Use lists to store the values. \n",
    "## Remember that dictionary keys must be unique.\n",
    "\n",
    "\n",
    "td = {'Alex': [2,1],\n",
    "      'Patrick': [4],\n",
    "      'Tom': [1],\n",
    "      'Joe': [3]\n",
    "     }\n",
    "\n",
    "print(td)"
   ]
  },
  {
   "cell_type": "code",
   "execution_count": 13,
   "metadata": {},
   "outputs": [
    {
     "data": {
      "text/plain": [
       "3"
      ]
     },
     "execution_count": 13,
     "metadata": {},
     "output_type": "execute_result"
    }
   ],
   "source": [
    "## Task 8: Compute the sum of Alex's touchdowns using the appropriate built-in function.\n",
    "\n",
    "sum(td['Alex'])"
   ]
  },
  {
   "cell_type": "code",
   "execution_count": 26,
   "metadata": {},
   "outputs": [
    {
     "name": "stdout",
     "output_type": "stream",
     "text": [
      "['Alex', 'Joe', 'Patrick', 'Tom']\n",
      "['Alex', 'Joe', 'Patrick', 'Tom']\n"
     ]
    },
    {
     "data": {
      "text/plain": [
       "True"
      ]
     },
     "execution_count": 26,
     "metadata": {},
     "output_type": "execute_result"
    }
   ],
   "source": [
    "## Task 9: Get the keys from td and save them as a sorted list list1. Then get a set from names and save them as a sorted list called list2. \n",
    "## Compare them with a boolean operator to see if they are equal. \n",
    "\n",
    "list1 = list(td.keys())\n",
    "list1.sort()\n",
    "print(list1)\n",
    "\n",
    "names_set = {\"Alex\",\"Patrick\", \"Tom\", \"Joe\"}\n",
    "list2 = list(names_set)\n",
    "list2.sort()\n",
    "print(list2)\n",
    "\n",
    "list1==list2  ##Comparing with a boolean operator gives True"
   ]
  },
  {
   "cell_type": "code",
   "execution_count": null,
   "metadata": {},
   "outputs": [],
   "source": []
  }
 ],
 "metadata": {
  "kernelspec": {
   "display_name": "Python 3",
   "language": "python",
   "name": "python3"
  },
  "language_info": {
   "codemirror_mode": {
    "name": "ipython",
    "version": 3
   },
   "file_extension": ".py",
   "mimetype": "text/x-python",
   "name": "python",
   "nbconvert_exporter": "python",
   "pygments_lexer": "ipython3",
   "version": "3.8.8"
  }
 },
 "nbformat": 4,
 "nbformat_minor": 4
}
