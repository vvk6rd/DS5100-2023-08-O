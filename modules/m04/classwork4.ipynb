{
 "cells": [
  {
   "cell_type": "code",
   "execution_count": 35,
   "metadata": {},
   "outputs": [],
   "source": [
    "##4.1\n",
    "\n",
    "def check_string_length(str1,numb1):\n",
    "    \"\"\"\n",
    "    Returns TRUE if the string length is equal to an integer else FALSE\n",
    "\n",
    "    Takes two inputs:\n",
    "    str1 : a string\n",
    "    numb1 : an integer\n",
    "\n",
    "    \"\"\"\n",
    "    test = (len(str1)==numb1)\n",
    "    \n",
    "    return test\n",
    "    "
   ]
  },
  {
   "cell_type": "code",
   "execution_count": 37,
   "metadata": {},
   "outputs": [
    {
     "data": {
      "text/plain": [
       "(True, False)"
      ]
     },
     "execution_count": 37,
     "metadata": {},
     "output_type": "execute_result"
    }
   ],
   "source": [
    "check_string_length(\"Virginia\", 8), check_string_length(\"Virginia\", 9)\n"
   ]
  },
  {
   "cell_type": "code",
   "execution_count": 38,
   "metadata": {},
   "outputs": [],
   "source": [
    "## 4.2\n",
    "\n",
    "def square_members(*members):\n",
    "    for member in members:\n",
    "        print(member **2)\n",
    "    return None;      \n",
    "        \n",
    "    "
   ]
  },
  {
   "cell_type": "code",
   "execution_count": 39,
   "metadata": {},
   "outputs": [
    {
     "name": "stdout",
     "output_type": "stream",
     "text": [
      "1\n",
      "4\n",
      "9\n",
      "16\n"
     ]
    }
   ],
   "source": [
    "square_members(1,2,3,4)"
   ]
  },
  {
   "cell_type": "code",
   "execution_count": 49,
   "metadata": {},
   "outputs": [],
   "source": [
    "## 4.3 \n",
    "\n",
    "def word_shortener(x,n):\n",
    "    \"\"\"\n",
    "    Takes a word and a minimum string length as input.\n",
    "\n",
    "    Function returns a concatenation of the following:\n",
    "    - the first alphabet of the word in upper case\n",
    "    - the length of the word minus 2\n",
    "    - the last alphabet of the word in upper case\n",
    "\n",
    "    \"\"\"\n",
    "    if not isinstance(x, str):\n",
    "        print(\"Enter a string\")\n",
    "        return False\n",
    "    elif len(x) < n:\n",
    "        print(\"Word is not long enough\")\n",
    "        return False\n",
    "    else:\n",
    "        n = len(x)\n",
    "        a=x[0].upper()\n",
    "        b=x[n-1].upper()\n",
    "        c=str(n-2)\n",
    "        return a+c+b"
   ]
  },
  {
   "cell_type": "code",
   "execution_count": 43,
   "metadata": {},
   "outputs": [
    {
     "data": {
      "text/plain": [
       "'I18N'"
      ]
     },
     "execution_count": 43,
     "metadata": {},
     "output_type": "execute_result"
    }
   ],
   "source": [
    "word_shortener(\"internationalization\")"
   ]
  },
  {
   "cell_type": "code",
   "execution_count": 20,
   "metadata": {},
   "outputs": [],
   "source": [
    "## 4.4\n",
    "\n",
    "def do_some_calc(a):\n",
    "    t = a-5 > 0 \n",
    "    return int(t)"
   ]
  },
  {
   "cell_type": "code",
   "execution_count": 21,
   "metadata": {},
   "outputs": [
    {
     "data": {
      "text/plain": [
       "1"
      ]
     },
     "execution_count": 21,
     "metadata": {},
     "output_type": "execute_result"
    }
   ],
   "source": [
    "do_some_calc(7)"
   ]
  },
  {
   "cell_type": "code",
   "execution_count": 23,
   "metadata": {},
   "outputs": [],
   "source": [
    "## 4.5\n",
    "\n",
    "def var_def_print():\n",
    "    num = 2\n",
    "    print(num)    "
   ]
  },
  {
   "cell_type": "code",
   "execution_count": 25,
   "metadata": {},
   "outputs": [
    {
     "name": "stdout",
     "output_type": "stream",
     "text": [
      "2\n"
     ]
    }
   ],
   "source": [
    "var_def_print()"
   ]
  },
  {
   "cell_type": "code",
   "execution_count": 26,
   "metadata": {},
   "outputs": [
    {
     "ename": "NameError",
     "evalue": "name 'num' is not defined",
     "output_type": "error",
     "traceback": [
      "\u001b[0;31m---------------------------------------------------------------------------\u001b[0m",
      "\u001b[0;31mNameError\u001b[0m                                 Traceback (most recent call last)",
      "\u001b[0;32m<ipython-input-26-c774dac2b598>\u001b[0m in \u001b[0;36m<module>\u001b[0;34m\u001b[0m\n\u001b[0;32m----> 1\u001b[0;31m \u001b[0mnum\u001b[0m\u001b[0;34m\u001b[0m\u001b[0;34m\u001b[0m\u001b[0m\n\u001b[0m",
      "\u001b[0;31mNameError\u001b[0m: name 'num' is not defined"
     ]
    }
   ],
   "source": [
    "num"
   ]
  },
  {
   "cell_type": "code",
   "execution_count": 50,
   "metadata": {},
   "outputs": [],
   "source": [
    "## 4.6\n",
    "\n",
    "check_value_range = lambda x: x <= 25 and x >= 10 "
   ]
  },
  {
   "cell_type": "code",
   "execution_count": 51,
   "metadata": {},
   "outputs": [
    {
     "data": {
      "text/plain": [
       "(False, True, False)"
      ]
     },
     "execution_count": 51,
     "metadata": {},
     "output_type": "execute_result"
    }
   ],
   "source": [
    "check_value_range(8), check_value_range(22), check_value_range(27)"
   ]
  },
  {
   "cell_type": "code",
   "execution_count": 31,
   "metadata": {},
   "outputs": [],
   "source": [
    "## Qn 4.9:\n",
    "\n",
    "c2f = lambda celsius_val: 1.8*celsius_val + 32\n",
    "f2c = lambda fahr_val: (fahr_val- 32)/1.8\n",
    "\n",
    "pick_temp_calc = {\n",
    "    'f': c2f,\n",
    "    'c': f2c\n",
    "}\n",
    "\n",
    "t2t = lambda tempval, tempunit: round(pick_temp_calc[tempunit](tempval)) "
   ]
  },
  {
   "cell_type": "code",
   "execution_count": 32,
   "metadata": {},
   "outputs": [
    {
     "name": "stdout",
     "output_type": "stream",
     "text": [
      "113\n"
     ]
    }
   ],
   "source": [
    "f = t2t(45,'f')\n",
    "print(f)"
   ]
  },
  {
   "cell_type": "code",
   "execution_count": null,
   "metadata": {},
   "outputs": [],
   "source": []
  }
 ],
 "metadata": {
  "kernelspec": {
   "display_name": "Python 3",
   "language": "python",
   "name": "python3"
  },
  "language_info": {
   "codemirror_mode": {
    "name": "ipython",
    "version": 3
   },
   "file_extension": ".py",
   "mimetype": "text/x-python",
   "name": "python",
   "nbconvert_exporter": "python",
   "pygments_lexer": "ipython3",
   "version": "3.8.8"
  }
 },
 "nbformat": 4,
 "nbformat_minor": 4
}
