{
 "cells": [
  {
   "cell_type": "markdown",
   "metadata": {},
   "source": [
    "Student Info\n",
    "## Name:    Ade Faparusi\n",
    "## Net ID:   vvk6rd\n",
    "## URL of this file in GitHub:\n",
    "## \"https://github.com/vvk6rd/DS5100-2023-08-O/blob/main/modules/m02/hw02.ipynb\" "
   ]
  },
  {
   "cell_type": "markdown",
   "metadata": {},
   "source": [
    "Student Info\n",
    "## Name:    Ade Faparusi\n",
    "## Net ID:   vvk6rd\n",
    "## URL of this file in GitHub:\n",
    "## \"https://github.com/vvk6rd/DS5100-2023-08-O/blob/main/modules/m03/hw03.ipynb\" "
   ]
  },
  {
   "cell_type": "markdown",
   "metadata": {},
   "source": [
    "## Task 1:\n",
    "Using the for loop and if statement control structures, write a script that generates the integers from 1\n",
    "to 100 and does the following things:\n",
    "\n",
    "If 3 is a factor of the number but 5 is not, print Wahoo.\n",
    "If 5 is a factor of the number but 3 is not, print wah!.\n",
    "If both 3 and 5 are factors of the number, print Wahoowah!.\n",
    "If the number meets none of the above conditions, print nothing, not even a line break.\n",
    "Make sure that the line printed for each iteration in which a condition is met ends with a line break.\n",
    "When the loop is finished, print the number of times either condition was met, i.e. the number of lines that were printed."
   ]
  },
  {
   "cell_type": "code",
   "execution_count": 1,
   "metadata": {},
   "outputs": [
    {
     "name": "stdout",
     "output_type": "stream",
     "text": [
      "Wahoo\n",
      "wah!\n",
      "Wahoo\n",
      "Wahoo\n",
      "wah!\n",
      "Wahoo\n",
      "Wahoowah!\n",
      "Wahoo\n",
      "wah!\n",
      "Wahoo\n",
      "Wahoo\n",
      "wah!\n",
      "Wahoo\n",
      "Wahoowah!\n",
      "Wahoo\n",
      "wah!\n",
      "Wahoo\n",
      "Wahoo\n",
      "wah!\n",
      "Wahoo\n",
      "Wahoowah!\n",
      "Wahoo\n",
      "wah!\n",
      "Wahoo\n",
      "Wahoo\n",
      "wah!\n",
      "Wahoo\n",
      "Wahoowah!\n",
      "Wahoo\n",
      "wah!\n",
      "Wahoo\n",
      "Wahoo\n",
      "wah!\n",
      "Wahoo\n",
      "Wahoowah!\n",
      "Wahoo\n",
      "wah!\n",
      "Wahoo\n",
      "Wahoo\n",
      "wah!\n",
      "Wahoo\n",
      "Wahoowah!\n",
      "Wahoo\n",
      "wah!\n",
      "Wahoo\n",
      "Wahoo\n",
      "wah!\n",
      "\n",
      "Number of times both 3 and 5 are factors:             6\n",
      "Number of times 3 is a factor but 5 is not a factor:  27\n",
      "Number of times 5 is a factor but 3 is not a factor:  14\n",
      "100\n"
     ]
    }
   ],
   "source": [
    "j = 0\n",
    "k = 0\n",
    "l = 0\n",
    "\n",
    "for i in range(1,101):\n",
    "    if i%3 == 0:\n",
    "        if i%5 == 0: \n",
    "            print('Wahoowah!',end='\\n')\n",
    "            j = j+1\n",
    "        else: \n",
    "            print ('Wahoo', end='\\n')  \n",
    "            k = k+1\n",
    "    else:\n",
    "        if i%5 == 0: \n",
    "            print('wah!', end='\\n')\n",
    "            l = l+1\n",
    " \n",
    "print (end='\\n')\n",
    "    \n",
    "print ('Number of times both 3 and 5 are factors:            ',j)\n",
    "print ('Number of times 3 is a factor but 5 is not a factor: ',k)\n",
    "print ('Number of times 5 is a factor but 3 is not a factor: ',l)\n",
    "print(i)"
   ]
  },
  {
   "cell_type": "markdown",
   "metadata": {},
   "source": [
    "## Task 2:\n",
    "\n",
    "Rewrite the for loop as a while loop.\n",
    "This time, only print lines where both conditions are met.\n",
    "Include a final line which prints the number of times both conditions are met.\n"
   ]
  },
  {
   "cell_type": "code",
   "execution_count": 4,
   "metadata": {},
   "outputs": [
    {
     "name": "stdout",
     "output_type": "stream",
     "text": [
      "Wahoowah!\n",
      "Wahoowah!\n",
      "Wahoowah!\n",
      "Wahoowah!\n",
      "Wahoowah!\n",
      "Wahoowah!\n",
      "Number of times both 3 and 5 are factors:  6\n"
     ]
    }
   ],
   "source": [
    "i = 1\n",
    "j = 0\n",
    "\n",
    "while(i < 101):\n",
    "    if i%3 == 0 and i%5 == 0: \n",
    "        print('Wahoowah!',end='\\n')\n",
    "        j=j+1\n",
    "    i=i+1\n",
    "            \n",
    "print ('Number of times both 3 and 5 are factors: ',j)\n"
   ]
  },
  {
   "cell_type": "markdown",
   "metadata": {},
   "source": [
    "## Task 3:\n",
    "Write a list comprehension that iterates through the integers from  1 to 100 and returns a list containing the sum of the boolean values of the three conditions described in Task 1."
   ]
  },
  {
   "cell_type": "code",
   "execution_count": 29,
   "metadata": {},
   "outputs": [
    {
     "data": {
      "text/plain": [
       "['Divisible by 3 and 5 = 6 times',\n",
       " 'Divisible by 3 and not 5 = 27 times',\n",
       " 'Divisible by 5 and not 3 = 14 times']"
      ]
     },
     "execution_count": 29,
     "metadata": {},
     "output_type": "execute_result"
    }
   ],
   "source": [
    "sum_bool_count = [\n",
    "                'Divisible by 3 and 5 = ' + str(sum (1 if (i%15) ==0 else 0 for i in range(1,101) )) + ' times',\n",
    "                'Divisible by 3 and not 5 = ' + str(sum (1 if ((i%3) ==0 and (i%5 != 0)) else 0 for i in range(1,101))) + ' times',\n",
    "                'Divisible by 5 and not 3 = ' + str(sum (1 if ((i%5) ==0 and (i%3 != 0)) else 0 for i in range(1,101))) + ' times'\n",
    "                ]\n",
    "sum_bool_count"
   ]
  },
  {
   "cell_type": "code",
   "execution_count": null,
   "metadata": {},
   "outputs": [],
   "source": []
  }
 ],
 "metadata": {
  "kernelspec": {
   "display_name": "Python 3",
   "language": "python",
   "name": "python3"
  },
  "language_info": {
   "codemirror_mode": {
    "name": "ipython",
    "version": 3
   },
   "file_extension": ".py",
   "mimetype": "text/x-python",
   "name": "python",
   "nbconvert_exporter": "python",
   "pygments_lexer": "ipython3",
   "version": "3.8.8"
  }
 },
 "nbformat": 4,
 "nbformat_minor": 4
}
