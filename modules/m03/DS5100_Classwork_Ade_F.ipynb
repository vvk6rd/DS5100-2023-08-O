{
 "cells": [
  {
   "cell_type": "code",
   "execution_count": 1,
   "metadata": {},
   "outputs": [
    {
     "name": "stdout",
     "output_type": "stream",
     "text": [
      "bucket 3\n"
     ]
    }
   ],
   "source": [
    "## Qn 1: \n",
    "\n",
    "val = -2\n",
    "\n",
    "if -10 < val < -5:\n",
    "    print('bucket 1')\n",
    "elif -5 <= val < -2:\n",
    "    print('bucket 2')\n",
    "elif val == -2:\n",
    "    print('bucket 3')"
   ]
  },
  {
   "cell_type": "code",
   "execution_count": 2,
   "metadata": {},
   "outputs": [
    {
     "name": "stdout",
     "output_type": "stream",
     "text": [
      "-2\n",
      "max_val\n",
      "0\n",
      "5\n",
      "6\n"
     ]
    }
   ],
   "source": [
    "## Qn 2:\n",
    "\n",
    "xx = [-2, 8,0,5,6]\n",
    "max_xx = max(xx)\n",
    "\n",
    "for i in xx:\n",
    "    if i < max_xx:\n",
    "        print(i)\n",
    "    else:\n",
    "        print('max_val')"
   ]
  },
  {
   "cell_type": "code",
   "execution_count": 3,
   "metadata": {},
   "outputs": [
    {
     "name": "stdout",
     "output_type": "stream",
     "text": [
      "0\n",
      "10\n",
      "20\n",
      "30\n",
      "40\n",
      "50\n",
      "60\n",
      "70\n",
      "80\n",
      "90\n"
     ]
    }
   ],
   "source": [
    "## Qn 3\n",
    "\n",
    "it = 0\n",
    "max_iter = 100\n",
    "while it < max_iter: \n",
    "    if (it % 10 == 0):  \n",
    "        print (it);\n",
    "    it = it + 1"
   ]
  },
  {
   "cell_type": "code",
   "execution_count": 5,
   "metadata": {},
   "outputs": [
    {
     "name": "stdout",
     "output_type": "stream",
     "text": [
      "michael\n",
      "paul\n",
      "timothy\n",
      "richard\n"
     ]
    }
   ],
   "source": [
    "## Qn 4\n",
    "names = ['MICHAEL', 'PAUL', 'TIMOTHY', 'RICHARD']\n",
    "\n",
    "for name in names:\n",
    "    print(name.lower())"
   ]
  },
  {
   "cell_type": "code",
   "execution_count": 6,
   "metadata": {},
   "outputs": [
    {
     "name": "stdout",
     "output_type": "stream",
     "text": [
      "MICHAEL\n",
      "PAUL\n",
      "TIMOTHY\n",
      "RICHARD\n"
     ]
    }
   ],
   "source": [
    "## Qn 5\n",
    "list_names = iter (names)\n",
    "print(next(list_names))\n",
    "print(next(list_names))\n",
    "print(next(list_names))\n",
    "print(next(list_names))"
   ]
  },
  {
   "cell_type": "code",
   "execution_count": 10,
   "metadata": {},
   "outputs": [
    {
     "name": "stdout",
     "output_type": "stream",
     "text": [
      "Richmond 23233\n",
      "Glen Allen 23059\n"
     ]
    }
   ],
   "source": [
    "## Qn 6\n",
    "\n",
    "city_dict = {'Richmond': 23233,\n",
    "             'Glen Allen': 23059    \n",
    "}\n",
    "\n",
    "for city, zip in city_dict.items():\n",
    "    print(city, zip)\n"
   ]
  },
  {
   "cell_type": "code",
   "execution_count": 11,
   "metadata": {},
   "outputs": [
    {
     "name": "stdout",
     "output_type": "stream",
     "text": [
      "Richmond 23233\n",
      "Glen Allen 23059\n"
     ]
    }
   ],
   "source": [
    "## Qn 7\n",
    "\n",
    "city_dict = {'Richmond': 23233,\n",
    "             'Glen Allen': 23059    \n",
    "}\n",
    "\n",
    "for city in city_dict:\n",
    "    print(city,city_dict[city] )"
   ]
  },
  {
   "cell_type": "code",
   "execution_count": 14,
   "metadata": {},
   "outputs": [
    {
     "data": {
      "text/plain": [
       "[1, 8, 27, 64, 125]"
      ]
     },
     "execution_count": 14,
     "metadata": {},
     "output_type": "execute_result"
    }
   ],
   "source": [
    "## Qn 8\n",
    "\n",
    "number_list = [1,2,3,4,5]\n",
    "list_cubes = [numbers_1**3 for numbers_1 in number_list]\n",
    "list_cubes\n"
   ]
  },
  {
   "cell_type": "code",
   "execution_count": 17,
   "metadata": {},
   "outputs": [
    {
     "data": {
      "text/plain": [
       "['84', '46', '23']"
      ]
     },
     "execution_count": 17,
     "metadata": {},
     "output_type": "execute_result"
    }
   ],
   "source": [
    "## Qn 9\n",
    "\n",
    "string_example = ['blue', '84', '46', 'green', 'red', '23', 'yellow']\n",
    "numbers_list = [val for val in string_example if val.isdigit()]\n",
    "numbers_list"
   ]
  },
  {
   "cell_type": "code",
   "execution_count": 20,
   "metadata": {},
   "outputs": [
    {
     "data": {
      "text/plain": [
       "{'max_depth': [5, 10], 'max_iter': [10, 20]}"
      ]
     },
     "execution_count": 20,
     "metadata": {},
     "output_type": "execute_result"
    }
   ],
   "source": [
    "## Qn 10\n",
    "\n",
    "grid = {\n",
    "    'max_depth': [5,10], \n",
    "    'ntrees': [100,200,300],\n",
    "    'regularization': [11,12],\n",
    "    'max_iter': [10,20]\n",
    "}\n",
    "\n",
    "max_key ={key:grid[key] for key in grid.keys() if 'max' in key}\n",
    "max_key\n"
   ]
  },
  {
   "cell_type": "code",
   "execution_count": null,
   "metadata": {},
   "outputs": [],
   "source": []
  }
 ],
 "metadata": {
  "kernelspec": {
   "display_name": "Python 3",
   "language": "python",
   "name": "python3"
  },
  "language_info": {
   "codemirror_mode": {
    "name": "ipython",
    "version": 3
   },
   "file_extension": ".py",
   "mimetype": "text/x-python",
   "name": "python",
   "nbconvert_exporter": "python",
   "pygments_lexer": "ipython3",
   "version": "3.8.8"
  }
 },
 "nbformat": 4,
 "nbformat_minor": 4
}
